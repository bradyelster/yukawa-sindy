{
 "cells": [
  {
   "cell_type": "code",
   "execution_count": 10,
   "id": "53980ec3",
   "metadata": {},
   "outputs": [],
   "source": [
    "import Yukawa_SINDy as ys\n",
    "import Yukawa3body as y3\n",
    "import numpy as np\n",
    "import pysindy as ps\n",
    "import matplotlib.pyplot as plt\n",
    "from tabulate import tabulate\n",
    "from importlib import reload\n"
   ]
  },
  {
   "cell_type": "code",
   "execution_count": 37,
   "id": "3fab90b2",
   "metadata": {},
   "outputs": [
    {
     "data": {
      "text/plain": [
       "<module 'Yukawa3body' from 'c:\\\\Users\\\\zacha\\\\Box\\\\Graduate School\\\\Research\\\\Code\\\\Yukawa3body.py'>"
      ]
     },
     "execution_count": 37,
     "metadata": {},
     "output_type": "execute_result"
    }
   ],
   "source": [
    "# reload modules if needed\n",
    "reload(ys)\n",
    "reload(y3)"
   ]
  },
  {
   "cell_type": "markdown",
   "id": "c7f2d78a",
   "metadata": {},
   "source": [
    "# Noise analysis for 3-body Yukawa system"
   ]
  },
  {
   "cell_type": "markdown",
   "id": "8ae114f2",
   "metadata": {},
   "source": [
    "Here, we load in the data used for all the noise cases used in this notebook. The data is a list of 200 `y3.Yukawa3body` objects with *no noise added*, and the data is *unsubtracted*."
   ]
  },
  {
   "cell_type": "code",
   "execution_count": 3,
   "id": "068db77e",
   "metadata": {},
   "outputs": [],
   "source": [
    "# load in data\n",
    "sim_list = y3.load_data('data/basic_noisy/analysis_trajectories')"
   ]
  },
  {
   "cell_type": "code",
   "execution_count": null,
   "id": "6a91392a",
   "metadata": {},
   "outputs": [],
   "source": [
    "# Process data from simulation objects in place: delete noise (if exists, which it should not) and subtract data\n",
    "for sim in sim_list:\n",
    "    # delete noise if present\n",
    "    if sim.is_noisy:\n",
    "        sim.delete_noise()\n",
    "    # subtract data and add noise\n",
    "    if not sim.is_subtracted:\n",
    "        sim.subtract_data()"
   ]
  },
  {
   "cell_type": "code",
   "execution_count": null,
   "id": "f38a9c49",
   "metadata": {},
   "outputs": [],
   "source": [
    "# sanity check to see if noise was added\n",
    "sim_list[0].is_noisy"
   ]
  },
  {
   "cell_type": "markdown",
   "id": "cf659d91",
   "metadata": {},
   "source": [
    "We can concatenate all the data into one list and find the average magnitude in order to decide how to add noise to the data. If we truly do *all* the data however, which includes both positions and velocities, an average doesn't mean much because generally the positions and velocities do not have the same order of magnitude. Thus we can get a sense for the magnitudes of the differences in positions and velocities by taking the absolute value and averaging them separately."
   ]
  },
  {
   "cell_type": "code",
   "execution_count": null,
   "id": "139f5bfd",
   "metadata": {},
   "outputs": [],
   "source": [
    "all_data = np.concatenate([sim.x for sim in sim_list])\n",
    "all_positions = np.concatenate([position for position in all_data[:,0::2]])\n",
    "all_velocities = np.concatenate([velocity for velocity in all_data[:,1::2]])\n",
    "avg_abs_position = np.average(np.abs(all_positions))\n",
    "avg_abs_velocity = np.average(np.abs(all_velocities))\n",
    "avgs = [\n",
    "    [\"average magnitude of interparticle spacings:\", avg_abs_position],\n",
    "    [\"average magnitude of differences in velocity:\", avg_abs_velocity]\n",
    "]\n",
    "print(tabulate(avgs))"
   ]
  },
  {
   "cell_type": "markdown",
   "id": "6c6df53d",
   "metadata": {},
   "source": [
    "We can get a sense for the spread of the data by computing the minima, maxima, and standard deviations of the position and velocity data."
   ]
  },
  {
   "cell_type": "code",
   "execution_count": null,
   "id": "253f6d04",
   "metadata": {},
   "outputs": [],
   "source": [
    "spread_stuff = [\n",
    "    [\"maximum interparticle spacing:\", np.max(all_positions)],\n",
    "    [\"minimum interparticle spacing:\", np.min(all_positions)],\n",
    "    [\"std. dev. of interparticle spacings:\", np.std(all_positions)],\n",
    "    [\"maximum diff. in velocity:\", np.max(all_velocities)],\n",
    "    [\"minimum diff. in velocity:\", np.min(all_velocities)],\n",
    "    [\"std. dev. of diffs. in velocity:\", np.std(all_velocities)]\n",
    "]\n",
    "print(tabulate(spread_stuff))"
   ]
  },
  {
   "cell_type": "markdown",
   "id": "8526f0a1",
   "metadata": {},
   "source": [
    "Could also get a sense for the scale of the data by looking at the l2 norm of the data, which can be done as follows:"
   ]
  },
  {
   "cell_type": "code",
   "execution_count": null,
   "id": "0654938b",
   "metadata": {},
   "outputs": [],
   "source": [
    "import sklearn\n",
    "zeros = np.zeros_like(all_positions)\n",
    "sklearn.metrics.root_mean_squared_error(zeros, all_positions)"
   ]
  },
  {
   "cell_type": "code",
   "execution_count": null,
   "id": "c960927e",
   "metadata": {},
   "outputs": [],
   "source": [
    "sklearn.metrics.root_mean_squared_error(zeros, all_velocities)"
   ]
  },
  {
   "cell_type": "code",
   "execution_count": null,
   "id": "9926d4c7",
   "metadata": {},
   "outputs": [],
   "source": [
    "y3.plot_multiple(sim_list)"
   ]
  },
  {
   "cell_type": "markdown",
   "id": "fd000002",
   "metadata": {},
   "source": [
    "We can extract the simulation parameters used in this set by taking a look at the object attributes from the first element."
   ]
  },
  {
   "cell_type": "code",
   "execution_count": null,
   "id": "17818456",
   "metadata": {},
   "outputs": [],
   "source": [
    "# print simulation parameters\n",
    "print(\"Number of trajectories:\", len(sim_list))\n",
    "print(\"Timestep duration:\", sim_list[0].dt)\n",
    "print(\"Duration:\", sim_list[0].duration)\n",
    "print(\"Number of timesteps (sanity check):\", sim_list[0].x.shape[0])\n",
    "print(\"Number of features (sanity check):\", sim_list[0].x.shape[1])\n",
    "print(\"Noisy:\", sim_list[0].is_noisy)\n",
    "print(\"Subtracted:\", sim_list[0].is_subtracted)"
   ]
  },
  {
   "cell_type": "markdown",
   "id": "b3c9091a",
   "metadata": {},
   "source": [
    "Below is some code that will generate plots of 9 of the trajectories *with noise added*. "
   ]
  },
  {
   "cell_type": "code",
   "execution_count": null,
   "id": "0ee377f9",
   "metadata": {},
   "outputs": [],
   "source": [
    "for sim in sim_list:\n",
    "    if sim.is_noisy:\n",
    "        sim.delete_noise()\n",
    "    sim.add_gaussian_noise(noise_level=1e-4)"
   ]
  },
  {
   "cell_type": "code",
   "execution_count": null,
   "id": "47ebe070",
   "metadata": {},
   "outputs": [],
   "source": [
    "y3.plot_multiple(sim_list[190:])"
   ]
  },
  {
   "cell_type": "markdown",
   "id": "c371fe0e",
   "metadata": {},
   "source": [
    "## Strong-form SINDy"
   ]
  },
  {
   "cell_type": "markdown",
   "id": "5da0c72c",
   "metadata": {},
   "source": [
    "### `noise_level = 0`"
   ]
  },
  {
   "cell_type": "markdown",
   "id": "e873b8aa",
   "metadata": {},
   "source": [
    "We begin by looking at the clean data, with no Gaussian noise added. SINDy models were generated using the python script 'Code/data/basic_sindy_results_noisy.py'."
   ]
  },
  {
   "cell_type": "code",
   "execution_count": null,
   "id": "cc298566",
   "metadata": {},
   "outputs": [],
   "source": [
    "# load in SINDy models for 0 noise case\n",
    "nonoise_models = y3.load_SINDy_models('data/basic_noisy/SINDy_results/noise_0.00000/model_objs')\n",
    "# remove models with threshold > 1 from list\n",
    "nonoise_models = [model for model in nonoise_models if model.optimizer.threshold <= 1]"
   ]
  },
  {
   "cell_type": "code",
   "execution_count": null,
   "id": "996348fd",
   "metadata": {},
   "outputs": [],
   "source": [
    "ys.plot_complexity_objs(nonoise_models)"
   ]
  },
  {
   "cell_type": "markdown",
   "id": "51bbbdb5",
   "metadata": {},
   "source": [
    "- course-graining (threshold scan from 0 to 0.45, increment 0.05) shows that the correct model is discovered some point between 0.3 and 0.35.\n",
    "- I want to find the transition point from bad to good model to 3 significant figures, so I then did a more fine step of 0.005 and found that the discovered model becomes correct between 0.330 and 0.335\n",
    "- Finally, investigating  between 0.328 and 0.337 by steps of 0.001 we find the critical threshold to be 0.334.\n",
    "- This is not reflected in the plot above, which was made later."
   ]
  },
  {
   "cell_type": "markdown",
   "id": "6914b007",
   "metadata": {},
   "source": [
    "First, we can look to see where the $\\dot{v}$-equations are fit. It actually happens very early on while stepping through different thresholds. In fact, by `threshold=0.02`, all the interesting equations of motion ($\\dot{v}$-equations) are fit accurately and the trivial relations of $\\dot{x}=v$ are massively overfit."
   ]
  },
  {
   "cell_type": "code",
   "execution_count": null,
   "id": "feb19c27",
   "metadata": {},
   "outputs": [],
   "source": [
    "for i in [0,1,2]:\n",
    "    y3.print_SINDy_nice(nonoise_models[i], sim_list)"
   ]
  },
  {
   "cell_type": "markdown",
   "id": "fa670c5f",
   "metadata": {},
   "source": [
    "Next we look at the \"critical threshold,\" where the known model is discovered. Below are the models for `threshold=0.330` and `threshold=0.340`. We can see that in the 0.330 case, all of the trivial equations (of the form $\\dot{x}=v$) are characterized by extremely large coefficients ($\\sim 10^6$) for all the velocity features available to them *that are in the correct cartesian direction*. For example, the `(y0-y1)'`-equation has all 6 velocity features (of the form `(vxi-vxj)` and `(vyi-vyj)` for $i,j\\in\\{0,1,2|i\\neq j\\}$). On the other hand, the interesting equations (of the form $\\dot{v}=f(x)$) are \"correctly\" discovered."
   ]
  },
  {
   "cell_type": "code",
   "execution_count": null,
   "id": "c2b547de",
   "metadata": {},
   "outputs": [],
   "source": [
    "for i in [33,34]:\n",
    "    y3.print_SINDy_nice(nonoise_models[i], sim_list)"
   ]
  },
  {
   "cell_type": "markdown",
   "id": "d5e94871",
   "metadata": {},
   "source": [
    "### `noise_level = 1e-5`"
   ]
  },
  {
   "cell_type": "code",
   "execution_count": null,
   "id": "eacc750d",
   "metadata": {},
   "outputs": [],
   "source": [
    "noise00001_models = y3.load_SINDy_models('data/basic_noisy/SINDy_results/noise_0.00001/model_objs')"
   ]
  },
  {
   "cell_type": "markdown",
   "id": "130e3e77",
   "metadata": {},
   "source": [
    "- The approximately correct model is discovered with a threshold of 0.40, where we only stepped the solver with 0.01 resolution.\n",
    "- The complexity vs. threshold plot is shown here:"
   ]
  },
  {
   "cell_type": "code",
   "execution_count": null,
   "id": "579bce72",
   "metadata": {},
   "outputs": [],
   "source": [
    "ys.plot_complexity_objs(noise00001_models)"
   ]
  },
  {
   "cell_type": "markdown",
   "id": "235c1ae0",
   "metadata": {},
   "source": [
    "here, we see a similar trend to the no-noise case, in which the complicated, $\\dot{v}$-equations are fit first, followed by the the trivial $\\dot{x}=v$ equations."
   ]
  },
  {
   "cell_type": "code",
   "execution_count": null,
   "id": "640f4a76",
   "metadata": {},
   "outputs": [],
   "source": [
    "for i in [21,22]:\n",
    "    y3.print_SINDy_nice(noise00001_models[i], sim_list)"
   ]
  },
  {
   "cell_type": "markdown",
   "id": "0082c568",
   "metadata": {},
   "source": [
    "We can look at the models around 0.4 to see how they evolve to the correct model."
   ]
  },
  {
   "cell_type": "code",
   "execution_count": null,
   "id": "d6e9e89d",
   "metadata": {},
   "outputs": [],
   "source": [
    "for i in [39,40]:\n",
    "    y3.print_SINDy_nice(noise00001_models[i], sim_list)"
   ]
  },
  {
   "cell_type": "markdown",
   "id": "884229d8",
   "metadata": {},
   "source": [
    "- As we can see above, the only equation that is wrong with `threshold=0.39` is the `(y1-y2)'` equation, which proves to be an issue later as well (see below).\n",
    "- It could be interesting to investigate whether that is a problem with this particular set of trajectories. There is no obvious reason why that particular equation would be an issue."
   ]
  },
  {
   "cell_type": "markdown",
   "id": "8a957c8e",
   "metadata": {},
   "source": [
    "### `noise_level = 2e-5`"
   ]
  },
  {
   "cell_type": "code",
   "execution_count": null,
   "id": "4bfd8d06",
   "metadata": {},
   "outputs": [],
   "source": [
    "noise00002_models = y3.load_SINDy_models('data/basic_noisy/SINDy_results/noise_0.00002/model_objs')\n",
    "noise00002_models = [model for model in noise00002_models if model.optimizer.threshold <= 1]"
   ]
  },
  {
   "cell_type": "code",
   "execution_count": null,
   "id": "e6e59eb1",
   "metadata": {},
   "outputs": [],
   "source": [
    "ys.plot_complexity_objs(noise00002_models)"
   ]
  },
  {
   "cell_type": "markdown",
   "id": "1baf7b39",
   "metadata": {},
   "source": [
    "- Interestingly, the steps here are much more small and incremental than in the no noise case\n",
    "- Here, the correct model is *not* discovered. We can check around the correct complexity value and see how close we get.\n",
    "- The model generated with threshold=0.64 comes the closest to the true model without zeroing out any coefficients shown below"
   ]
  },
  {
   "cell_type": "code",
   "execution_count": null,
   "id": "9a4df1b0",
   "metadata": {},
   "outputs": [],
   "source": [
    "for i in [40,50]:\n",
    "    y3.print_SINDy_nice(noise00002_models[i], sim_list)"
   ]
  },
  {
   "cell_type": "code",
   "execution_count": null,
   "id": "c35eeff2",
   "metadata": {},
   "outputs": [],
   "source": [
    "for i in [57,58,60]:\n",
    "    y3.print_SINDy_nice(noise00002_models[i], sim_list)"
   ]
  },
  {
   "cell_type": "markdown",
   "id": "7e019084",
   "metadata": {},
   "source": [
    "- In all three cases shown here, we can see that the `(vx1-vx2)'` equation contains extraneous terms with very large coefficients\n",
    "- In the first case with `threshold=0.57` we can see that there are no equations in which all the coefficients are zero. Problematic equations are only the `(vx1-vx2)'` equation, the `(y1-y2)'` equation, and the `(vy2-vy0)` equation which contain extraneous terms.\n",
    "- At `threshold=0.58`, we can see that instead of settling into the correct form, thresholding forces the `(y1-y2)'`-equation to be zero, while the extraneous terms remain in the `(vx1-vx2)'` and `(vy2-vy0)` equations.\n",
    "- In the third case, `threshold=0.60`, we can see that the extraneous terms in the `(vy2-vy0)'` equation go to zero."
   ]
  },
  {
   "cell_type": "markdown",
   "id": "368500a5",
   "metadata": {},
   "source": [
    "### `noise_level = 3e-5`"
   ]
  },
  {
   "cell_type": "code",
   "execution_count": null,
   "id": "0cc9824f",
   "metadata": {},
   "outputs": [],
   "source": [
    "noise00003_models = y3.load_SINDy_models('data/basic_noisy/SINDy_results/noise_0.00003/model_objs')\n",
    "noise00003_models = [model for model in noise00002_models if model.optimizer.threshold <= 1]"
   ]
  },
  {
   "cell_type": "code",
   "execution_count": null,
   "id": "e999674b",
   "metadata": {},
   "outputs": [],
   "source": [
    "ys.plot_complexity_objs(noise00003_models, figsize=(5,4))"
   ]
  },
  {
   "cell_type": "markdown",
   "id": "473ea1ed",
   "metadata": {},
   "source": [
    "The complexity vs. threshold looks exactly the same as the `noise_level=2e-5` case. There is a quick check that I can do to verify this."
   ]
  },
  {
   "cell_type": "code",
   "execution_count": null,
   "id": "0d3f869c",
   "metadata": {},
   "outputs": [],
   "source": [
    "def check_equations(models1, models2):\n",
    "    '''\n",
    "    Description: Checks to see if the equations of two lists of ps.SINDy() models are the same.\n",
    "    '''\n",
    "    if len(models1) != len(models2):\n",
    "        raise ValueError(\"Lists of models must be of equal length\")\n",
    "    for i in range(len(models1)):\n",
    "        Equation_check = np.array(models1[i].equations())==np.array(models2[i].equations())\n",
    "        TrueMat = np.array(12*[True])\n",
    "        if not np.array_equal(Equation_check, TrueMat):\n",
    "            print(\"Equations do not match at index\", i)\n",
    "            return False\n",
    "    print(\"All model equations match\")\n",
    "    return True"
   ]
  },
  {
   "cell_type": "code",
   "execution_count": null,
   "id": "ff135bb5",
   "metadata": {},
   "outputs": [],
   "source": [
    "check_equations(noise00002_models, noise00003_models)"
   ]
  },
  {
   "cell_type": "markdown",
   "id": "cad5db4f",
   "metadata": {},
   "source": [
    "So, even though we slightly increased the noise level, SINDy generates *the same sequence of 100 models* from `threshold=0` to `threshold=0.99`.\n",
    "\n",
    "I speculate that this could be due to the fact that the increase in noise is just too small."
   ]
  },
  {
   "cell_type": "markdown",
   "id": "f41eae89",
   "metadata": {},
   "source": [
    "### `noise_level = 4e-5`"
   ]
  },
  {
   "cell_type": "code",
   "execution_count": null,
   "id": "a125b6e0",
   "metadata": {},
   "outputs": [],
   "source": [
    "noise00004_models = y3.load_SINDy_models('data/basic_noisy/SINDy_results/noise_0.00004/model_objs')\n",
    "noise00004_models = [model for model in noise00002_models if model.optimizer.threshold <= 1]"
   ]
  },
  {
   "cell_type": "code",
   "execution_count": null,
   "id": "07d7eec0",
   "metadata": {},
   "outputs": [],
   "source": [
    "ys.plot_complexity_objs(noise00004_models, figsize=(5,4))"
   ]
  },
  {
   "cell_type": "code",
   "execution_count": null,
   "id": "2a52b3b1",
   "metadata": {},
   "outputs": [],
   "source": [
    "y3.print_SINDy_nice(noise00004_models[72], sim_list)"
   ]
  },
  {
   "cell_type": "code",
   "execution_count": null,
   "id": "591c9e1c",
   "metadata": {},
   "outputs": [],
   "source": [
    "check_equations(noise00003_models, noise00004_models)"
   ]
  },
  {
   "cell_type": "markdown",
   "id": "c29c364d",
   "metadata": {},
   "source": [
    "The same is true here as for above, the equations are all the same and SINDy has generated the same sequence of 100 models."
   ]
  },
  {
   "cell_type": "markdown",
   "id": "44609e2d",
   "metadata": {},
   "source": [
    "### `noise_level = 1e-4`"
   ]
  },
  {
   "cell_type": "code",
   "execution_count": null,
   "id": "1155a5e1",
   "metadata": {},
   "outputs": [],
   "source": [
    "noise00010_models = y3.load_SINDy_models('data/basic_noisy/SINDy_results/noise_0.00010/model_objs')\n",
    "noise00010_models_to1 = [model for model in noise00010_models if model.optimizer.threshold <= 1]"
   ]
  },
  {
   "cell_type": "code",
   "execution_count": null,
   "id": "061f7f13",
   "metadata": {},
   "outputs": [],
   "source": [
    "ys.plot_complexity_objs(noise00010_models, figsize=(5,4))"
   ]
  },
  {
   "cell_type": "code",
   "execution_count": null,
   "id": "31ce79c9",
   "metadata": {},
   "outputs": [],
   "source": [
    "y3.print_SINDy_nice(noise00010_models[102], sim_list)"
   ]
  },
  {
   "cell_type": "code",
   "execution_count": null,
   "id": "9adb8073",
   "metadata": {},
   "outputs": [],
   "source": [
    "check_equations(noise00004_models, noise00010_models)"
   ]
  },
  {
   "cell_type": "markdown",
   "id": "f41b8844",
   "metadata": {},
   "source": [
    "The same is true here, even when we increase by *an order of magnitude*, SINDy generates the same sequence of 100 models."
   ]
  },
  {
   "cell_type": "markdown",
   "id": "bcb733d8",
   "metadata": {},
   "source": [
    "### `noise_level=5e-4`"
   ]
  },
  {
   "cell_type": "code",
   "execution_count": null,
   "id": "5c417f4b",
   "metadata": {},
   "outputs": [],
   "source": [
    "noise00050_models = y3.load_SINDy_models('data/basic_noisy/SINDy_results/noise_0.00050/model_objs')\n",
    "noise00050_models_to1 = [model for model in noise00050_models if model.optimizer.threshold <= 1]"
   ]
  },
  {
   "cell_type": "code",
   "execution_count": null,
   "id": "aea12612",
   "metadata": {},
   "outputs": [],
   "source": [
    "ys.plot_complexity_objs(noise00050_models, figsize=(5,4))"
   ]
  },
  {
   "cell_type": "code",
   "execution_count": null,
   "id": "7ad61465",
   "metadata": {},
   "outputs": [],
   "source": [
    "check_equations(noise00010_models, noise00050_models_to1)"
   ]
  },
  {
   "cell_type": "markdown",
   "id": "dd959c82",
   "metadata": {},
   "source": [
    "Here, we finally found a new sequence of model that SINDy has discovered. Once again, this could be due to the numbers being so small, but here we have found a new sequence of models. Further, a threshold of 1 is not enough to find a model with the right complexity, so we need to increase the threshold higher to see if we can find any better model."
   ]
  },
  {
   "cell_type": "code",
   "execution_count": null,
   "id": "6324d5e9",
   "metadata": {},
   "outputs": [],
   "source": [
    "ys.plot_complexity_objs(noise00050_models, figsize=(5,4))"
   ]
  },
  {
   "cell_type": "code",
   "execution_count": null,
   "id": "f7d343a6",
   "metadata": {},
   "outputs": [],
   "source": [
    "len(noise00050_models)"
   ]
  },
  {
   "cell_type": "code",
   "execution_count": null,
   "id": "192d8ebf",
   "metadata": {},
   "outputs": [],
   "source": [
    "y3.print_SINDy_nice(noise00050_models[99], sim_list)"
   ]
  },
  {
   "cell_type": "markdown",
   "id": "68183da2",
   "metadata": {},
   "source": [
    "Interestingly, on the last model we just have all of the linear terms active and *none* of the Yukawa terms."
   ]
  },
  {
   "cell_type": "code",
   "execution_count": null,
   "id": "20d4bf55",
   "metadata": {},
   "outputs": [],
   "source": [
    "noise00050_models[-1].get_feature_names()"
   ]
  },
  {
   "cell_type": "code",
   "execution_count": null,
   "id": "626482d5",
   "metadata": {},
   "outputs": [],
   "source": [
    "print(noise00050_models[-1].coefficients())"
   ]
  },
  {
   "cell_type": "markdown",
   "id": "c0282bfc",
   "metadata": {},
   "source": [
    "### Images for ICPDP poster"
   ]
  },
  {
   "cell_type": "code",
   "execution_count": null,
   "id": "352ae794",
   "metadata": {},
   "outputs": [],
   "source": [
    "heading_fontsize = 24\n",
    "noise_models = [nonoise_models,noise00001_models, noise00010_models, noise00050_models]#, noise00003_models, noise00004_models]\n",
    "noise_levels = [0, 1e-5, 1e-4, 5e-4]\n",
    "figsize = (24,5.5)\n",
    "plt.rcParams['font.size'] = 12\n",
    "fig, axs = plt.subplots(1, len(noise_models), sharey=True,figsize=figsize)\n",
    "for i, model_list in enumerate(noise_models):\n",
    "    # extract hparams and complexity from each model\n",
    "    thresholds = np.array([model.optimizer.threshold for model in model_list])\n",
    "    complexities = np.array([model.complexity for model in model_list])\n",
    "    # plot complexity vs. thresholds\n",
    "    axs[i].plot(thresholds, complexities, 'o')\n",
    "    axs[i].set_title('Noise level = ' + str(noise_levels[i]), fontsize=heading_fontsize)\n",
    "    axs[i].set_ylim(25,225)\n",
    "    axs[i].set_xlabel('Threshold', fontsize=heading_fontsize)\n",
    "    axs[i].hlines(42, 0, np.max(thresholds), colors='k', linestyles='dashed', lw=1, label=\"Simulation Equations\")\n",
    "axs[0].legend(fontsize=heading_fontsize-4)\n",
    "axs[0].set_ylabel('Number of terms', fontsize=heading_fontsize)\n",
    "fig.tight_layout()\n",
    "fig.show()"
   ]
  },
  {
   "cell_type": "code",
   "execution_count": null,
   "id": "a4df0cd3",
   "metadata": {},
   "outputs": [],
   "source": [
    "heading_fontsize = 24\n",
    "noise_models = [nonoise_models,noise00001_models, noise00010_models, noise00050_models]#, noise00003_models, noise00004_models]\n",
    "noise_levels = [0, 1e-5, 1e-4, 5e-4]\n",
    "figsize = (12,10)\n",
    "plt.rcParams['font.size'] = 12\n",
    "fig, axs = plt.subplots(2,2, sharey=True,figsize=figsize)\n",
    "axs.resize(4,)\n",
    "for i, model_list in enumerate(noise_models):\n",
    "    # extract hparams and complexity from each model\n",
    "    thresholds = np.array([model.optimizer.threshold for model in model_list])\n",
    "    complexities = np.array([model.complexity for model in model_list])\n",
    "    # plot complexity vs. thresholds\n",
    "    axs[i].plot(thresholds, complexities, 'o')\n",
    "    axs[i].set_title('Noise level = ' + str(noise_levels[i]), fontsize=heading_fontsize)\n",
    "    axs[i].set_ylim(25,225)\n",
    "    axs[i].set_xlabel('Threshold', fontsize=heading_fontsize)\n",
    "    axs[i].hlines(42, 0, np.max(thresholds), colors='k', linestyles='dashed', lw=1, label=\"Simulation Equations\")\n",
    "axs[0].legend(fontsize=heading_fontsize-4)\n",
    "axs[0].set_ylabel('Number of terms', fontsize=heading_fontsize)\n",
    "fig.tight_layout()\n",
    "fig.show()"
   ]
  },
  {
   "cell_type": "code",
   "execution_count": null,
   "id": "79166f8e",
   "metadata": {},
   "outputs": [],
   "source": [
    "figsize = (6,4.5)\n",
    "label_fontsize = 18\n",
    "noise_level = 0.0005\n",
    "fig, axs = plt.subplots(1, 1, sharex=True,figsize=figsize)\n",
    "# extract hparams and complexity from each model\n",
    "thresholds = np.array([model.optimizer.threshold for model in noise00050_models])\n",
    "complexities = np.array([model.complexity for model in noise00050_models])\n",
    "# plot complexity vs. thresholds\n",
    "axs.plot(thresholds, complexities, '.')\n",
    "axs.set_ylabel('Number of terms', fontsize=label_fontsize)\n",
    "axs.set_title('Noise level = ' + str(noise_level), fontsize=label_fontsize)\n",
    "axs.set_ylim(25,225)\n",
    "axs.set_xlabel('Threshold', fontsize=label_fontsize)\n",
    "fig.tight_layout()\n",
    "fig.show()"
   ]
  },
  {
   "cell_type": "code",
   "execution_count": null,
   "id": "c7441c8f",
   "metadata": {},
   "outputs": [],
   "source": [
    "len(nonoise_models[0].get_feature_names())"
   ]
  },
  {
   "cell_type": "code",
   "execution_count": null,
   "id": "eef35173",
   "metadata": {},
   "outputs": [],
   "source": [
    "nonoise_models[0].get_feature_names()"
   ]
  },
  {
   "cell_type": "markdown",
   "id": "1fa035cc",
   "metadata": {},
   "source": [
    "## Weak-form SINDy"
   ]
  },
  {
   "cell_type": "markdown",
   "id": "ac7972d5",
   "metadata": {},
   "source": [
    "### `noise_level=0`"
   ]
  },
  {
   "cell_type": "code",
   "execution_count": 31,
   "id": "c6afdf47",
   "metadata": {},
   "outputs": [],
   "source": [
    "weak_nonoise_models = y3.load_SINDy_models('data/weak_noisy/SINDy_results/noise_0.00000/model_objs')"
   ]
  },
  {
   "cell_type": "markdown",
   "id": "cfc66eb2",
   "metadata": {},
   "source": [
    "First, as a sanity check, let's make sure we are using the library of terms that we want even in the weak case."
   ]
  },
  {
   "cell_type": "code",
   "execution_count": 36,
   "id": "ed749de0",
   "metadata": {},
   "outputs": [
    {
     "data": {
      "text/plain": [
       "['vx0-vx1',\n",
       " 'vy0-vy1',\n",
       " 'vx1-vx2',\n",
       " 'vy1-vy2',\n",
       " 'vx2-vx0',\n",
       " 'vy2-vy0',\n",
       " '(x0-x1) exp( -sqrt((x0-x1)^2+(y0-y1)^2) ) / ((x0-x1)^2+(y0-y1)^2)',\n",
       " '(y0-y1) exp( -sqrt((x0-x1)^2+(y0-y1)^2) ) / ((x0-x1)^2+(y0-y1)^2)',\n",
       " '(x0-x1) exp( -sqrt((x0-x1)^2+(y0-y1)^2) ) / ((x0-x1)^2+(y0-y1)^2)^(3/2)',\n",
       " '(y0-y1) exp( -sqrt((x0-x1)^2+(y0-y1)^2) ) / ((x0-x1)^2+(y0-y1)^2)^(3/2)',\n",
       " '(x1-x2) exp( -sqrt((x1-x2)^2+(y1-y2)^2) ) / ((x1-x2)^2+(y1-y2)^2)',\n",
       " '(y1-y2) exp( -sqrt((x1-x2)^2+(y1-y2)^2) ) / ((x1-x2)^2+(y1-y2)^2)',\n",
       " '(x1-x2) exp( -sqrt((x1-x2)^2+(y1-y2)^2) ) / ((x1-x2)^2+(y1-y2)^2)^(3/2)',\n",
       " '(y1-y2) exp( -sqrt((x1-x2)^2+(y1-y2)^2) ) / ((x1-x2)^2+(y1-y2)^2)^(3/2)',\n",
       " '(x2-x0) exp( -sqrt((x2-x0)^2+(y2-y0)^2) ) / ((x2-x0)^2+(y2-y0)^2)',\n",
       " '(y2-y0) exp( -sqrt((x2-x0)^2+(y2-y0)^2) ) / ((x2-x0)^2+(y2-y0)^2)',\n",
       " '(x2-x0) exp( -sqrt((x2-x0)^2+(y2-y0)^2) ) / ((x2-x0)^2+(y2-y0)^2)^(3/2)',\n",
       " '(y2-y0) exp( -sqrt((x2-x0)^2+(y2-y0)^2) ) / ((x2-x0)^2+(y2-y0)^2)^(3/2)']"
      ]
     },
     "execution_count": 36,
     "metadata": {},
     "output_type": "execute_result"
    }
   ],
   "source": [
    "weak_nonoise_models[0].get_feature_names()"
   ]
  },
  {
   "cell_type": "code",
   "execution_count": 38,
   "id": "6676f3d0",
   "metadata": {},
   "outputs": [
    {
     "data": {
      "image/png": "[encoded data removed]",
      "text/plain": [
       "<Figure size 800x600 with 1 Axes>"
      ]
     },
     "metadata": {},
     "output_type": "display_data"
    }
   ],
   "source": [
    "fig, ax = ys.plot_complexity_objs(weak_nonoise_models)"
   ]
  },
  {
   "cell_type": "code",
   "execution_count": 39,
   "id": "aab5f857",
   "metadata": {},
   "outputs": [
    {
     "name": "stdout",
     "output_type": "stream",
     "text": [
      "====================================================================================================\n",
      "noise level: 0\n",
      "number of trajectories: 200\n",
      "STLSQ threshold: 0.30000000000000004\n",
      "complexity: 57\n",
      "====================================================================================================\n",
      "(x0-x1)'      = -0.297 vx0-vx1\n",
      "              + -1.297 vx1-vx2\n",
      "              + -1.297 vx2-vx0\n",
      "\n",
      "(vx0-vx1)'    = -179210114359540.500 vy0-vy1\n",
      "              + 0.719 vx1-vx2\n",
      "              + -179210114359540.500 vy1-vy2\n",
      "              + -179210114359541.531 vy2-vy0\n",
      "              + 6.030 (x0-x1) exp( -sqrt((x0-x1)^2+(y0-y1)^2) ) / ((x0-x1)^2+(y0-y1)^2)\n",
      "              + -4.956 (x1-x2) exp( -sqrt((x1-x2)^2+(y1-y2)^2) ) / ((x1-x2)^2+(y1-y2)^2)\n",
      "              + -4.649 (x2-x0) exp( -sqrt((x2-x0)^2+(y2-y0)^2) ) / ((x2-x0)^2+(y2-y0)^2)\n",
      "              + 0.873 (y2-y0) exp( -sqrt((x2-x0)^2+(y2-y0)^2) ) / ((x2-x0)^2+(y2-y0)^2)\n",
      "\n",
      "(y0-y1)'      = 4.874 vy0-vy1\n",
      "              + 3.874 vy1-vy2\n",
      "              + 3.874 vy2-vy0\n",
      "\n",
      "(vy0-vy1)'    = 0.812 vx0-vx1\n",
      "              + -0.770 vy0-vy1\n",
      "              + -0.416 vx2-vx0\n",
      "              + 6.807 (y0-y1) exp( -sqrt((x0-x1)^2+(y0-y1)^2) ) / ((x0-x1)^2+(y0-y1)^2)\n",
      "              + -3.321 (y1-y2) exp( -sqrt((x1-x2)^2+(y1-y2)^2) ) / ((x1-x2)^2+(y1-y2)^2)\n",
      "              + 1.053 (x2-x0) exp( -sqrt((x2-x0)^2+(y2-y0)^2) ) / ((x2-x0)^2+(y2-y0)^2)\n",
      "              + -3.317 (y2-y0) exp( -sqrt((x2-x0)^2+(y2-y0)^2) ) / ((x2-x0)^2+(y2-y0)^2)\n",
      "\n",
      "\n",
      "----------------------------------------------------------------------------------------------------\n",
      "(x1-x2)'      = -1.312 vx0-vx1\n",
      "              + -0.312 vx1-vx2\n",
      "              + -1.312 vx2-vx0\n",
      "\n",
      "(vx1-vx2)'    = -0.324 vy0-vy1\n",
      "              + -0.482 vx1-vx2\n",
      "              + 0.483 vx2-vx0\n",
      "              + 0.833 vy2-vy0\n",
      "              + -1.790 (x0-x1) exp( -sqrt((x0-x1)^2+(y0-y1)^2) ) / ((x0-x1)^2+(y0-y1)^2)\n",
      "              + 7.788 (x1-x2) exp( -sqrt((x1-x2)^2+(y1-y2)^2) ) / ((x1-x2)^2+(y1-y2)^2)\n",
      "              + -2.082 (x2-x0) exp( -sqrt((x2-x0)^2+(y2-y0)^2) ) / ((x2-x0)^2+(y2-y0)^2)\n",
      "              + -0.475 (y2-y0) exp( -sqrt((x2-x0)^2+(y2-y0)^2) ) / ((x2-x0)^2+(y2-y0)^2)\n",
      "\n",
      "(y1-y2)'      = -3.834 vy0-vy1\n",
      "              + -2.834 vy1-vy2\n",
      "              + -3.834 vy2-vy0\n",
      "\n",
      "(vy1-vy2)'    = -0.753 vx0-vx1\n",
      "              + -0.592 vy2-vy0\n",
      "              + -3.525 (y0-y1) exp( -sqrt((x0-x1)^2+(y0-y1)^2) ) / ((x0-x1)^2+(y0-y1)^2)\n",
      "              + 5.844 (y1-y2) exp( -sqrt((x1-x2)^2+(y1-y2)^2) ) / ((x1-x2)^2+(y1-y2)^2)\n",
      "              + -3.066 (y2-y0) exp( -sqrt((x2-x0)^2+(y2-y0)^2) ) / ((x2-x0)^2+(y2-y0)^2)\n",
      "\n",
      "\n",
      "----------------------------------------------------------------------------------------------------\n",
      "(x2-x0)'      = 1.676 vx0-vx1\n",
      "              + 1.676 vx1-vx2\n",
      "              + 2.676 vx2-vx0\n",
      "\n",
      "(vx2-vx0)'    = -3.979 (x0-x1) exp( -sqrt((x0-x1)^2+(y0-y1)^2) ) / ((x0-x1)^2+(y0-y1)^2)\n",
      "              + 0.454 (y0-y1) exp( -sqrt((x0-x1)^2+(y0-y1)^2) ) / ((x0-x1)^2+(y0-y1)^2)\n",
      "              + -2.843 (x1-x2) exp( -sqrt((x1-x2)^2+(y1-y2)^2) ) / ((x1-x2)^2+(y1-y2)^2)\n",
      "              + -0.566 (y1-y2) exp( -sqrt((x1-x2)^2+(y1-y2)^2) ) / ((x1-x2)^2+(y1-y2)^2)\n",
      "              + 6.442 (x2-x0) exp( -sqrt((x2-x0)^2+(y2-y0)^2) ) / ((x2-x0)^2+(y2-y0)^2)\n",
      "              + -0.326 (y2-y0) exp( -sqrt((x2-x0)^2+(y2-y0)^2) ) / ((x2-x0)^2+(y2-y0)^2)\n",
      "\n",
      "(y2-y0)'      = -1.147 vy0-vy1\n",
      "              + -1.147 vy1-vy2\n",
      "              + -0.147 vy2-vy0\n",
      "\n",
      "(vy2-vy0)'    = -0.826 vy1-vy2\n",
      "              + -3.230 (y0-y1) exp( -sqrt((x0-x1)^2+(y0-y1)^2) ) / ((x0-x1)^2+(y0-y1)^2)\n",
      "              + -2.381 (y1-y2) exp( -sqrt((x1-x2)^2+(y1-y2)^2) ) / ((x1-x2)^2+(y1-y2)^2)\n",
      "              + -0.574 (x2-x0) exp( -sqrt((x2-x0)^2+(y2-y0)^2) ) / ((x2-x0)^2+(y2-y0)^2)\n",
      "              + 6.199 (y2-y0) exp( -sqrt((x2-x0)^2+(y2-y0)^2) ) / ((x2-x0)^2+(y2-y0)^2)\n",
      "\n",
      "\n",
      "----------------------------------------------------------------------------------------------------\n",
      "====================================================================================================\n",
      "noise level: 0\n",
      "number of trajectories: 200\n",
      "STLSQ threshold: 0.35000000000000003\n",
      "complexity: 40\n",
      "====================================================================================================\n",
      "(x0-x1)'      = 1.000 vx0-vx1\n",
      "\n",
      "(vx0-vx1)'    = 0.686 vx1-vx2\n",
      "              + -1.059 vy2-vy0\n",
      "              + 6.029 (x0-x1) exp( -sqrt((x0-x1)^2+(y0-y1)^2) ) / ((x0-x1)^2+(y0-y1)^2)\n",
      "              + -4.953 (x1-x2) exp( -sqrt((x1-x2)^2+(y1-y2)^2) ) / ((x1-x2)^2+(y1-y2)^2)\n",
      "              + -4.649 (x2-x0) exp( -sqrt((x2-x0)^2+(y2-y0)^2) ) / ((x2-x0)^2+(y2-y0)^2)\n",
      "              + 0.880 (y2-y0) exp( -sqrt((x2-x0)^2+(y2-y0)^2) ) / ((x2-x0)^2+(y2-y0)^2)\n",
      "\n",
      "(y0-y1)'      = 1.000 vy0-vy1\n",
      "\n",
      "(vy0-vy1)'    = 0.812 vx0-vx1\n",
      "              + -0.770 vy0-vy1\n",
      "              + -0.416 vx2-vx0\n",
      "              + 6.807 (y0-y1) exp( -sqrt((x0-x1)^2+(y0-y1)^2) ) / ((x0-x1)^2+(y0-y1)^2)\n",
      "              + -3.321 (y1-y2) exp( -sqrt((x1-x2)^2+(y1-y2)^2) ) / ((x1-x2)^2+(y1-y2)^2)\n",
      "              + 1.053 (x2-x0) exp( -sqrt((x2-x0)^2+(y2-y0)^2) ) / ((x2-x0)^2+(y2-y0)^2)\n",
      "              + -3.317 (y2-y0) exp( -sqrt((x2-x0)^2+(y2-y0)^2) ) / ((x2-x0)^2+(y2-y0)^2)\n",
      "\n",
      "\n",
      "----------------------------------------------------------------------------------------------------\n",
      "(x1-x2)'      = 1.000 vx1-vx2\n",
      "\n",
      "(vx1-vx2)'    = -0.458 vx1-vx2\n",
      "              + 0.499 vx2-vx0\n",
      "              + 0.977 vy2-vy0\n",
      "              + -1.793 (x0-x1) exp( -sqrt((x0-x1)^2+(y0-y1)^2) ) / ((x0-x1)^2+(y0-y1)^2)\n",
      "              + 7.795 (x1-x2) exp( -sqrt((x1-x2)^2+(y1-y2)^2) ) / ((x1-x2)^2+(y1-y2)^2)\n",
      "              + -2.100 (x2-x0) exp( -sqrt((x2-x0)^2+(y2-y0)^2) ) / ((x2-x0)^2+(y2-y0)^2)\n",
      "              + -0.496 (y2-y0) exp( -sqrt((x2-x0)^2+(y2-y0)^2) ) / ((x2-x0)^2+(y2-y0)^2)\n",
      "\n",
      "(y1-y2)'      = 1.000 vy1-vy2\n",
      "\n",
      "(vy1-vy2)'    = -0.693 vx0-vx1\n",
      "              + -3.303 (y0-y1) exp( -sqrt((x0-x1)^2+(y0-y1)^2) ) / ((x0-x1)^2+(y0-y1)^2)\n",
      "              + 6.082 (y1-y2) exp( -sqrt((x1-x2)^2+(y1-y2)^2) ) / ((x1-x2)^2+(y1-y2)^2)\n",
      "              + -3.495 (y2-y0) exp( -sqrt((x2-x0)^2+(y2-y0)^2) ) / ((x2-x0)^2+(y2-y0)^2)\n",
      "\n",
      "\n",
      "----------------------------------------------------------------------------------------------------\n",
      "(x2-x0)'      = 1.000 vx2-vx0\n",
      "\n",
      "(vx2-vx0)'    = -3.983 (x0-x1) exp( -sqrt((x0-x1)^2+(y0-y1)^2) ) / ((x0-x1)^2+(y0-y1)^2)\n",
      "              + 0.504 (y0-y1) exp( -sqrt((x0-x1)^2+(y0-y1)^2) ) / ((x0-x1)^2+(y0-y1)^2)\n",
      "              + -2.863 (x1-x2) exp( -sqrt((x1-x2)^2+(y1-y2)^2) ) / ((x1-x2)^2+(y1-y2)^2)\n",
      "              + -0.516 (y1-y2) exp( -sqrt((x1-x2)^2+(y1-y2)^2) ) / ((x1-x2)^2+(y1-y2)^2)\n",
      "              + 6.423 (x2-x0) exp( -sqrt((x2-x0)^2+(y2-y0)^2) ) / ((x2-x0)^2+(y2-y0)^2)\n",
      "\n",
      "(y2-y0)'      = 1.000 vy2-vy0\n",
      "\n",
      "(vy2-vy0)'    = -0.826 vy1-vy2\n",
      "              + -3.230 (y0-y1) exp( -sqrt((x0-x1)^2+(y0-y1)^2) ) / ((x0-x1)^2+(y0-y1)^2)\n",
      "              + -2.381 (y1-y2) exp( -sqrt((x1-x2)^2+(y1-y2)^2) ) / ((x1-x2)^2+(y1-y2)^2)\n",
      "              + -0.574 (x2-x0) exp( -sqrt((x2-x0)^2+(y2-y0)^2) ) / ((x2-x0)^2+(y2-y0)^2)\n",
      "              + 6.199 (y2-y0) exp( -sqrt((x2-x0)^2+(y2-y0)^2) ) / ((x2-x0)^2+(y2-y0)^2)\n",
      "\n",
      "\n",
      "----------------------------------------------------------------------------------------------------\n"
     ]
    }
   ],
   "source": [
    "for i in [6,7]:\n",
    "    y3.print_SINDy_nice(weak_nonoise_models[i], sim_list)"
   ]
  },
  {
   "cell_type": "markdown",
   "id": "c10c82a0",
   "metadata": {},
   "source": [
    "We can see here that the trivial equations are discovered between threshold values of 0.30 and 0.35, but that the interesting equations are already chopping off important terms. Further, we can see that in the case of threshold=0.35, the cartesian indices of the features on the LHS of equations in general do not correspond to those on the RHS. This is a significant decrease in performance from strong SINDy, which generally correlates the indices even when discovering extraneous terms."
   ]
  },
  {
   "cell_type": "markdown",
   "id": "01d77af2",
   "metadata": {},
   "source": [
    "The next step would be to investigate exactly why this is happening, and to investigate whether it can be fixed by tweaking the parameters of the weak SINDy library via the arguments of `pysindy.WeakPDELibrary`. Some arguments which can be tweaked to perhaps improve upon these results include:\n",
    "- `K`: \"Number of domain centers, corresponding to subdomain squares of length `Hxt`. If `K` is not specified, defaults to 100.\""
   ]
  },
  {
   "cell_type": "code",
   "execution_count": null,
   "id": "4fc3fcad",
   "metadata": {},
   "outputs": [],
   "source": []
  },
  {
   "cell_type": "markdown",
   "id": "d83c8f2b",
   "metadata": {},
   "source": [
    "### `noise_level=1e-5`"
   ]
  },
  {
   "cell_type": "markdown",
   "id": "691a62b7",
   "metadata": {},
   "source": [
    "### `noise_level=1e-4`"
   ]
  },
  {
   "cell_type": "markdown",
   "id": "7d35feec",
   "metadata": {},
   "source": [
    "### `noise_level=5e-4`"
   ]
  },
  {
   "cell_type": "code",
   "execution_count": null,
   "id": "94a01373",
   "metadata": {},
   "outputs": [],
   "source": [
    "# load in SINDy models for 5e-4 noise case\n",
    "weak_noise00050_models = y3.load_SINDy_models('data/weak_noisy/SINDy_results/noise_0.00050/model_objs')"
   ]
  },
  {
   "cell_type": "code",
   "execution_count": 6,
   "id": "858a692c",
   "metadata": {},
   "outputs": [],
   "source": [
    "# remove models with threshold > 1\n",
    "weak_noise00050_models_to1 = [model for model in weak_noise00050_models if model.optimizer.threshold <= 1]"
   ]
  },
  {
   "cell_type": "code",
   "execution_count": 21,
   "id": "4174b69c",
   "metadata": {},
   "outputs": [
    {
     "data": {
      "text/plain": [
       "<matplotlib.legend.Legend at 0x219b178b1a0>"
      ]
     },
     "execution_count": 21,
     "metadata": {},
     "output_type": "execute_result"
    },
    {
     "data": {
      "image/png": "[encoded data removed]",
      "text/plain": [
       "<Figure size 800x600 with 1 Axes>"
      ]
     },
     "metadata": {},
     "output_type": "display_data"
    }
   ],
   "source": [
    "fig, ax = ys.plot_complexity_objs(weak_noise00050_models_to1)\n",
    "# plot a line at the \"correct\" number of terms\n",
    "ax.hlines(42, 0, 1.0, colors='k', linestyles='dashed', lw=1.5, label=\"Simulation Equations\")\n",
    "ax.legend()"
   ]
  },
  {
   "cell_type": "code",
   "execution_count": 22,
   "id": "a8e4a83d",
   "metadata": {},
   "outputs": [
    {
     "data": {
      "text/plain": [
       "21"
      ]
     },
     "execution_count": 22,
     "metadata": {},
     "output_type": "execute_result"
    }
   ],
   "source": [
    "len(weak_noise00050_models_to1)"
   ]
  },
  {
   "cell_type": "code",
   "execution_count": 25,
   "id": "b9a2bce6",
   "metadata": {},
   "outputs": [
    {
     "data": {
      "text/plain": [
       "0.55"
      ]
     },
     "execution_count": 25,
     "metadata": {},
     "output_type": "execute_result"
    }
   ],
   "source": [
    "weak_noise00050_models_to1[11].optimizer.threshold"
   ]
  },
  {
   "cell_type": "code",
   "execution_count": 30,
   "id": "9edd2447",
   "metadata": {},
   "outputs": [
    {
     "name": "stdout",
     "output_type": "stream",
     "text": [
      "====================================================================================================\n",
      "noise level: 0\n",
      "number of trajectories: 200\n",
      "STLSQ threshold: 0.30000000000000004\n",
      "complexity: 72\n",
      "====================================================================================================\n",
      "(x0-x1)'      = -17.504 vx0-vx1\n",
      "              + -18.504 vx1-vx2\n",
      "              + -18.504 vx2-vx0\n",
      "\n",
      "(vx0-vx1)'    = -0.658 vx0-vx1\n",
      "              + 47680.080 vy0-vy1\n",
      "              + 0.827 vx1-vx2\n",
      "              + 47680.037 vy1-vy2\n",
      "              + 47678.809 vy2-vy0\n",
      "              + 17.699 (x0-x1) exp( -sqrt((x0-x1)^2+(y0-y1)^2) ) / ((x0-x1)^2+(y0-y1)^2)\n",
      "              + 0.606 (y0-y1) exp( -sqrt((x0-x1)^2+(y0-y1)^2) ) / ((x0-x1)^2+(y0-y1)^2)\n",
      "              + -11.616 (x1-x2) exp( -sqrt((x1-x2)^2+(y1-y2)^2) ) / ((x1-x2)^2+(y1-y2)^2)\n",
      "              + 0.342 (y1-y2) exp( -sqrt((x1-x2)^2+(y1-y2)^2) ) / ((x1-x2)^2+(y1-y2)^2)\n",
      "              + -9.995 (x2-x0) exp( -sqrt((x2-x0)^2+(y2-y0)^2) ) / ((x2-x0)^2+(y2-y0)^2)\n",
      "              + 0.432 (y2-y0) exp( -sqrt((x2-x0)^2+(y2-y0)^2) ) / ((x2-x0)^2+(y2-y0)^2)\n",
      "\n",
      "(y0-y1)'      = 7.196 vy0-vy1\n",
      "              + 6.196 vy1-vy2\n",
      "              + 6.196 vy2-vy0\n",
      "\n",
      "(vy0-vy1)'    = 1.068 vx0-vx1\n",
      "              + -23707.688 vy0-vy1\n",
      "              + -23706.128 vy1-vy2\n",
      "              + -23706.082 vy2-vy0\n",
      "              + -1.196 (x0-x1) exp( -sqrt((x0-x1)^2+(y0-y1)^2) ) / ((x0-x1)^2+(y0-y1)^2)\n",
      "              + 18.309 (y0-y1) exp( -sqrt((x0-x1)^2+(y0-y1)^2) ) / ((x0-x1)^2+(y0-y1)^2)\n",
      "              + -0.362 (x1-x2) exp( -sqrt((x1-x2)^2+(y1-y2)^2) ) / ((x1-x2)^2+(y1-y2)^2)\n",
      "              + -8.930 (y1-y2) exp( -sqrt((x1-x2)^2+(y1-y2)^2) ) / ((x1-x2)^2+(y1-y2)^2)\n",
      "              + -0.900 (x2-x0) exp( -sqrt((x2-x0)^2+(y2-y0)^2) ) / ((x2-x0)^2+(y2-y0)^2)\n",
      "              + -8.731 (y2-y0) exp( -sqrt((x2-x0)^2+(y2-y0)^2) ) / ((x2-x0)^2+(y2-y0)^2)\n",
      "\n",
      "\n",
      "----------------------------------------------------------------------------------------------------\n",
      "(x1-x2)'      = -25.080 vx0-vx1\n",
      "              + -24.080 vx1-vx2\n",
      "              + -25.080 vx2-vx0\n",
      "\n",
      "(vx1-vx2)'    = -62901.577 vx0-vx1\n",
      "              + -0.325 vy0-vy1\n",
      "              + -62903.258 vx1-vx2\n",
      "              + -62901.106 vx2-vx0\n",
      "              + 1.069 vy2-vy0\n",
      "              + -6.433 (x0-x1) exp( -sqrt((x0-x1)^2+(y0-y1)^2) ) / ((x0-x1)^2+(y0-y1)^2)\n",
      "              + -1.033 (y0-y1) exp( -sqrt((x0-x1)^2+(y0-y1)^2) ) / ((x0-x1)^2+(y0-y1)^2)\n",
      "              + 27.729 (x1-x2) exp( -sqrt((x1-x2)^2+(y1-y2)^2) ) / ((x1-x2)^2+(y1-y2)^2)\n",
      "              + -0.353 (x1-x2) exp( -sqrt((x1-x2)^2+(y1-y2)^2) ) / ((x1-x2)^2+(y1-y2)^2)^(3/2)\n",
      "              + -6.748 (x2-x0) exp( -sqrt((x2-x0)^2+(y2-y0)^2) ) / ((x2-x0)^2+(y2-y0)^2)\n",
      "              + -1.582 (y2-y0) exp( -sqrt((x2-x0)^2+(y2-y0)^2) ) / ((x2-x0)^2+(y2-y0)^2)\n",
      "\n",
      "(y1-y2)'      = 52.891 vy0-vy1\n",
      "              + 53.891 vy1-vy2\n",
      "              + 52.891 vy2-vy0\n",
      "\n",
      "(vy1-vy2)'    = 42289.363 vx0-vx1\n",
      "              + 0.530 vy0-vy1\n",
      "              + 42290.363 vx1-vx2\n",
      "              + 42290.352 vx2-vx0\n",
      "              + -0.347 vy2-vy0\n",
      "              + -9.348 (y0-y1) exp( -sqrt((x0-x1)^2+(y0-y1)^2) ) / ((x0-x1)^2+(y0-y1)^2)\n",
      "              + -0.432 (x1-x2) exp( -sqrt((x1-x2)^2+(y1-y2)^2) ) / ((x1-x2)^2+(y1-y2)^2)\n",
      "              + 16.981 (y1-y2) exp( -sqrt((x1-x2)^2+(y1-y2)^2) ) / ((x1-x2)^2+(y1-y2)^2)\n",
      "              + -7.971 (y2-y0) exp( -sqrt((x2-x0)^2+(y2-y0)^2) ) / ((x2-x0)^2+(y2-y0)^2)\n",
      "\n",
      "\n",
      "----------------------------------------------------------------------------------------------------\n",
      "(x2-x0)'      = 3.716 vx0-vx1\n",
      "              + 3.716 vx1-vx2\n",
      "              + 4.716 vx2-vx0\n",
      "\n",
      "(vx2-vx0)'    = 0.410 vx0-vx1\n",
      "              + -0.871 vx2-vx0\n",
      "              + -10.660 (x0-x1) exp( -sqrt((x0-x1)^2+(y0-y1)^2) ) / ((x0-x1)^2+(y0-y1)^2)\n",
      "              + -6.158 (x1-x2) exp( -sqrt((x1-x2)^2+(y1-y2)^2) ) / ((x1-x2)^2+(y1-y2)^2)\n",
      "              + -1.878 (y1-y2) exp( -sqrt((x1-x2)^2+(y1-y2)^2) ) / ((x1-x2)^2+(y1-y2)^2)\n",
      "              + 17.333 (x2-x0) exp( -sqrt((x2-x0)^2+(y2-y0)^2) ) / ((x2-x0)^2+(y2-y0)^2)\n",
      "\n",
      "(y2-y0)'      = -85.348 vy0-vy1\n",
      "              + -85.348 vy1-vy2\n",
      "              + -84.348 vy2-vy0\n",
      "\n",
      "(vy2-vy0)'    = 0.725 vy0-vy1\n",
      "              + -0.305 vy1-vy2\n",
      "              + 0.844 (x0-x1) exp( -sqrt((x0-x1)^2+(y0-y1)^2) ) / ((x0-x1)^2+(y0-y1)^2)\n",
      "              + -8.912 (y0-y1) exp( -sqrt((x0-x1)^2+(y0-y1)^2) ) / ((x0-x1)^2+(y0-y1)^2)\n",
      "              + 0.713 (x1-x2) exp( -sqrt((x1-x2)^2+(y1-y2)^2) ) / ((x1-x2)^2+(y1-y2)^2)\n",
      "              + -8.054 (y1-y2) exp( -sqrt((x1-x2)^2+(y1-y2)^2) ) / ((x1-x2)^2+(y1-y2)^2)\n",
      "              + 16.752 (y2-y0) exp( -sqrt((x2-x0)^2+(y2-y0)^2) ) / ((x2-x0)^2+(y2-y0)^2)\n",
      "\n",
      "\n",
      "----------------------------------------------------------------------------------------------------\n",
      "====================================================================================================\n",
      "noise level: 0\n",
      "number of trajectories: 200\n",
      "STLSQ threshold: 0.35000000000000003\n",
      "complexity: 53\n",
      "====================================================================================================\n",
      "(x0-x1)'      = 1.000 vx0-vx1\n",
      "\n",
      "(vx0-vx1)'    = -0.664 vx0-vx1\n",
      "              + 47679.573 vy0-vy1\n",
      "              + 0.826 vx1-vx2\n",
      "              + 47679.558 vy1-vy2\n",
      "              + 47678.297 vy2-vy0\n",
      "              + 17.698 (x0-x1) exp( -sqrt((x0-x1)^2+(y0-y1)^2) ) / ((x0-x1)^2+(y0-y1)^2)\n",
      "              + 0.546 (y0-y1) exp( -sqrt((x0-x1)^2+(y0-y1)^2) ) / ((x0-x1)^2+(y0-y1)^2)\n",
      "              + -11.618 (x1-x2) exp( -sqrt((x1-x2)^2+(y1-y2)^2) ) / ((x1-x2)^2+(y1-y2)^2)\n",
      "              + -10.006 (x2-x0) exp( -sqrt((x2-x0)^2+(y2-y0)^2) ) / ((x2-x0)^2+(y2-y0)^2)\n",
      "              + 0.394 (y2-y0) exp( -sqrt((x2-x0)^2+(y2-y0)^2) ) / ((x2-x0)^2+(y2-y0)^2)\n",
      "\n",
      "(y0-y1)'      = 1.000 vy0-vy1\n",
      "\n",
      "(vy0-vy1)'    = 1.068 vx0-vx1\n",
      "              + -23707.688 vy0-vy1\n",
      "              + -23706.128 vy1-vy2\n",
      "              + -23706.082 vy2-vy0\n",
      "              + -1.196 (x0-x1) exp( -sqrt((x0-x1)^2+(y0-y1)^2) ) / ((x0-x1)^2+(y0-y1)^2)\n",
      "              + 18.309 (y0-y1) exp( -sqrt((x0-x1)^2+(y0-y1)^2) ) / ((x0-x1)^2+(y0-y1)^2)\n",
      "              + -0.362 (x1-x2) exp( -sqrt((x1-x2)^2+(y1-y2)^2) ) / ((x1-x2)^2+(y1-y2)^2)\n",
      "              + -8.930 (y1-y2) exp( -sqrt((x1-x2)^2+(y1-y2)^2) ) / ((x1-x2)^2+(y1-y2)^2)\n",
      "              + -0.900 (x2-x0) exp( -sqrt((x2-x0)^2+(y2-y0)^2) ) / ((x2-x0)^2+(y2-y0)^2)\n",
      "              + -8.731 (y2-y0) exp( -sqrt((x2-x0)^2+(y2-y0)^2) ) / ((x2-x0)^2+(y2-y0)^2)\n",
      "\n",
      "\n",
      "----------------------------------------------------------------------------------------------------\n",
      "(x1-x2)'      = 1.000 vx1-vx2\n",
      "\n",
      "(vx1-vx2)'    = -1.045 vx1-vx2\n",
      "              + 0.646 vx2-vx0\n",
      "              + 1.247 vy2-vy0\n",
      "              + -7.035 (x0-x1) exp( -sqrt((x0-x1)^2+(y0-y1)^2) ) / ((x0-x1)^2+(y0-y1)^2)\n",
      "              + -1.256 (y0-y1) exp( -sqrt((x0-x1)^2+(y0-y1)^2) ) / ((x0-x1)^2+(y0-y1)^2)\n",
      "              + 17.804 (x1-x2) exp( -sqrt((x1-x2)^2+(y1-y2)^2) ) / ((x1-x2)^2+(y1-y2)^2)\n",
      "              + -7.313 (x2-x0) exp( -sqrt((x2-x0)^2+(y2-y0)^2) ) / ((x2-x0)^2+(y2-y0)^2)\n",
      "              + -1.870 (y2-y0) exp( -sqrt((x2-x0)^2+(y2-y0)^2) ) / ((x2-x0)^2+(y2-y0)^2)\n",
      "\n",
      "(y1-y2)'      = 1.000 vy1-vy2\n",
      "\n",
      "(vy1-vy2)'    = -0.974 vx0-vx1\n",
      "              + 0.525 vy0-vy1\n",
      "              + -0.342 vy2-vy0\n",
      "              + -9.356 (y0-y1) exp( -sqrt((x0-x1)^2+(y0-y1)^2) ) / ((x0-x1)^2+(y0-y1)^2)\n",
      "              + -0.432 (x1-x2) exp( -sqrt((x1-x2)^2+(y1-y2)^2) ) / ((x1-x2)^2+(y1-y2)^2)\n",
      "              + 16.966 (y1-y2) exp( -sqrt((x1-x2)^2+(y1-y2)^2) ) / ((x1-x2)^2+(y1-y2)^2)\n",
      "              + -7.972 (y2-y0) exp( -sqrt((x2-x0)^2+(y2-y0)^2) ) / ((x2-x0)^2+(y2-y0)^2)\n",
      "\n",
      "\n",
      "----------------------------------------------------------------------------------------------------\n",
      "(x2-x0)'      = 1.000 vx2-vx0\n",
      "\n",
      "(vx2-vx0)'    = 0.410 vx0-vx1\n",
      "              + -0.871 vx2-vx0\n",
      "              + -10.660 (x0-x1) exp( -sqrt((x0-x1)^2+(y0-y1)^2) ) / ((x0-x1)^2+(y0-y1)^2)\n",
      "              + -6.158 (x1-x2) exp( -sqrt((x1-x2)^2+(y1-y2)^2) ) / ((x1-x2)^2+(y1-y2)^2)\n",
      "              + -1.878 (y1-y2) exp( -sqrt((x1-x2)^2+(y1-y2)^2) ) / ((x1-x2)^2+(y1-y2)^2)\n",
      "              + 17.333 (x2-x0) exp( -sqrt((x2-x0)^2+(y2-y0)^2) ) / ((x2-x0)^2+(y2-y0)^2)\n",
      "\n",
      "(y2-y0)'      = 1.000 vy2-vy0\n",
      "\n",
      "(vy2-vy0)'    = 0.880 vy0-vy1\n",
      "              + 0.826 (x0-x1) exp( -sqrt((x0-x1)^2+(y0-y1)^2) ) / ((x0-x1)^2+(y0-y1)^2)\n",
      "              + -8.927 (y0-y1) exp( -sqrt((x0-x1)^2+(y0-y1)^2) ) / ((x0-x1)^2+(y0-y1)^2)\n",
      "              + 0.722 (x1-x2) exp( -sqrt((x1-x2)^2+(y1-y2)^2) ) / ((x1-x2)^2+(y1-y2)^2)\n",
      "              + -8.186 (y1-y2) exp( -sqrt((x1-x2)^2+(y1-y2)^2) ) / ((x1-x2)^2+(y1-y2)^2)\n",
      "              + 16.908 (y2-y0) exp( -sqrt((x2-x0)^2+(y2-y0)^2) ) / ((x2-x0)^2+(y2-y0)^2)\n",
      "\n",
      "\n",
      "----------------------------------------------------------------------------------------------------\n",
      "====================================================================================================\n",
      "noise level: 0\n",
      "number of trajectories: 200\n",
      "STLSQ threshold: 0.4\n",
      "complexity: 48\n",
      "====================================================================================================\n",
      "(x0-x1)'      = 1.000 vx0-vx1\n",
      "\n",
      "(vx0-vx1)'    = -0.660 vx0-vx1\n",
      "              + 0.829 vx1-vx2\n",
      "              + -1.225 vy2-vy0\n",
      "              + 17.711 (x0-x1) exp( -sqrt((x0-x1)^2+(y0-y1)^2) ) / ((x0-x1)^2+(y0-y1)^2)\n",
      "              + 0.524 (y0-y1) exp( -sqrt((x0-x1)^2+(y0-y1)^2) ) / ((x0-x1)^2+(y0-y1)^2)\n",
      "              + -11.595 (x1-x2) exp( -sqrt((x1-x2)^2+(y1-y2)^2) ) / ((x1-x2)^2+(y1-y2)^2)\n",
      "              + -9.983 (x2-x0) exp( -sqrt((x2-x0)^2+(y2-y0)^2) ) / ((x2-x0)^2+(y2-y0)^2)\n",
      "\n",
      "(y0-y1)'      = 1.000 vy0-vy1\n",
      "\n",
      "(vy0-vy1)'    = 1.090 vx0-vx1\n",
      "              + -23768.001 vy0-vy1\n",
      "              + -23766.441 vy1-vy2\n",
      "              + -23766.396 vy2-vy0\n",
      "              + -1.145 (x0-x1) exp( -sqrt((x0-x1)^2+(y0-y1)^2) ) / ((x0-x1)^2+(y0-y1)^2)\n",
      "              + 18.324 (y0-y1) exp( -sqrt((x0-x1)^2+(y0-y1)^2) ) / ((x0-x1)^2+(y0-y1)^2)\n",
      "              + -8.927 (y1-y2) exp( -sqrt((x1-x2)^2+(y1-y2)^2) ) / ((x1-x2)^2+(y1-y2)^2)\n",
      "              + -0.856 (x2-x0) exp( -sqrt((x2-x0)^2+(y2-y0)^2) ) / ((x2-x0)^2+(y2-y0)^2)\n",
      "              + -8.749 (y2-y0) exp( -sqrt((x2-x0)^2+(y2-y0)^2) ) / ((x2-x0)^2+(y2-y0)^2)\n",
      "\n",
      "\n",
      "----------------------------------------------------------------------------------------------------\n",
      "(x1-x2)'      = 1.000 vx1-vx2\n",
      "\n",
      "(vx1-vx2)'    = -1.045 vx1-vx2\n",
      "              + 0.646 vx2-vx0\n",
      "              + 1.247 vy2-vy0\n",
      "              + -7.035 (x0-x1) exp( -sqrt((x0-x1)^2+(y0-y1)^2) ) / ((x0-x1)^2+(y0-y1)^2)\n",
      "              + -1.256 (y0-y1) exp( -sqrt((x0-x1)^2+(y0-y1)^2) ) / ((x0-x1)^2+(y0-y1)^2)\n",
      "              + 17.804 (x1-x2) exp( -sqrt((x1-x2)^2+(y1-y2)^2) ) / ((x1-x2)^2+(y1-y2)^2)\n",
      "              + -7.313 (x2-x0) exp( -sqrt((x2-x0)^2+(y2-y0)^2) ) / ((x2-x0)^2+(y2-y0)^2)\n",
      "              + -1.870 (y2-y0) exp( -sqrt((x2-x0)^2+(y2-y0)^2) ) / ((x2-x0)^2+(y2-y0)^2)\n",
      "\n",
      "(y1-y2)'      = 1.000 vy1-vy2\n",
      "\n",
      "(vy1-vy2)'    = -0.955 vx0-vx1\n",
      "              + 0.691 vy0-vy1\n",
      "              + -9.339 (y0-y1) exp( -sqrt((x0-x1)^2+(y0-y1)^2) ) / ((x0-x1)^2+(y0-y1)^2)\n",
      "              + -0.437 (x1-x2) exp( -sqrt((x1-x2)^2+(y1-y2)^2) ) / ((x1-x2)^2+(y1-y2)^2)\n",
      "              + 17.115 (y1-y2) exp( -sqrt((x1-x2)^2+(y1-y2)^2) ) / ((x1-x2)^2+(y1-y2)^2)\n",
      "              + -8.146 (y2-y0) exp( -sqrt((x2-x0)^2+(y2-y0)^2) ) / ((x2-x0)^2+(y2-y0)^2)\n",
      "\n",
      "\n",
      "----------------------------------------------------------------------------------------------------\n",
      "(x2-x0)'      = 1.000 vx2-vx0\n",
      "\n",
      "(vx2-vx0)'    = 0.410 vx0-vx1\n",
      "              + -0.871 vx2-vx0\n",
      "              + -10.660 (x0-x1) exp( -sqrt((x0-x1)^2+(y0-y1)^2) ) / ((x0-x1)^2+(y0-y1)^2)\n",
      "              + -6.158 (x1-x2) exp( -sqrt((x1-x2)^2+(y1-y2)^2) ) / ((x1-x2)^2+(y1-y2)^2)\n",
      "              + -1.878 (y1-y2) exp( -sqrt((x1-x2)^2+(y1-y2)^2) ) / ((x1-x2)^2+(y1-y2)^2)\n",
      "              + 17.333 (x2-x0) exp( -sqrt((x2-x0)^2+(y2-y0)^2) ) / ((x2-x0)^2+(y2-y0)^2)\n",
      "\n",
      "(y2-y0)'      = 1.000 vy2-vy0\n",
      "\n",
      "(vy2-vy0)'    = 0.880 vy0-vy1\n",
      "              + 0.826 (x0-x1) exp( -sqrt((x0-x1)^2+(y0-y1)^2) ) / ((x0-x1)^2+(y0-y1)^2)\n",
      "              + -8.927 (y0-y1) exp( -sqrt((x0-x1)^2+(y0-y1)^2) ) / ((x0-x1)^2+(y0-y1)^2)\n",
      "              + 0.722 (x1-x2) exp( -sqrt((x1-x2)^2+(y1-y2)^2) ) / ((x1-x2)^2+(y1-y2)^2)\n",
      "              + -8.186 (y1-y2) exp( -sqrt((x1-x2)^2+(y1-y2)^2) ) / ((x1-x2)^2+(y1-y2)^2)\n",
      "              + 16.908 (y2-y0) exp( -sqrt((x2-x0)^2+(y2-y0)^2) ) / ((x2-x0)^2+(y2-y0)^2)\n",
      "\n",
      "\n",
      "----------------------------------------------------------------------------------------------------\n"
     ]
    }
   ],
   "source": [
    "for i in [6,7,8]:\n",
    "    y3.print_SINDy_nice(weak_noise00050_models_to1[i], sim_list)"
   ]
  },
  {
   "cell_type": "code",
   "execution_count": 27,
   "id": "ddfa335c",
   "metadata": {},
   "outputs": [
    {
     "name": "stdout",
     "output_type": "stream",
     "text": [
      "====================================================================================================\n",
      "noise level: 0\n",
      "number of trajectories: 200\n",
      "STLSQ threshold: 0.6000000000000001\n",
      "complexity: 43\n",
      "====================================================================================================\n",
      "(x0-x1)'      = 1.000 vx0-vx1\n",
      "\n",
      "(vx0-vx1)'    = -0.659 vx0-vx1\n",
      "              + 0.826 vx1-vx2\n",
      "              + -1.255 vy2-vy0\n",
      "              + 17.697 (x0-x1) exp( -sqrt((x0-x1)^2+(y0-y1)^2) ) / ((x0-x1)^2+(y0-y1)^2)\n",
      "              + -11.618 (x1-x2) exp( -sqrt((x1-x2)^2+(y1-y2)^2) ) / ((x1-x2)^2+(y1-y2)^2)\n",
      "              + -9.958 (x2-x0) exp( -sqrt((x2-x0)^2+(y2-y0)^2) ) / ((x2-x0)^2+(y2-y0)^2)\n",
      "\n",
      "(y0-y1)'      = 1.000 vy0-vy1\n",
      "\n",
      "(vy0-vy1)'    = 1.088 vx0-vx1\n",
      "              + -1.581 vy0-vy1\n",
      "              + -1.148 (x0-x1) exp( -sqrt((x0-x1)^2+(y0-y1)^2) ) / ((x0-x1)^2+(y0-y1)^2)\n",
      "              + 18.320 (y0-y1) exp( -sqrt((x0-x1)^2+(y0-y1)^2) ) / ((x0-x1)^2+(y0-y1)^2)\n",
      "              + -8.947 (y1-y2) exp( -sqrt((x1-x2)^2+(y1-y2)^2) ) / ((x1-x2)^2+(y1-y2)^2)\n",
      "              + -0.857 (x2-x0) exp( -sqrt((x2-x0)^2+(y2-y0)^2) ) / ((x2-x0)^2+(y2-y0)^2)\n",
      "              + -8.725 (y2-y0) exp( -sqrt((x2-x0)^2+(y2-y0)^2) ) / ((x2-x0)^2+(y2-y0)^2)\n",
      "\n",
      "\n",
      "----------------------------------------------------------------------------------------------------\n",
      "(x1-x2)'      = 1.000 vx1-vx2\n",
      "\n",
      "(vx1-vx2)'    = -1.045 vx1-vx2\n",
      "              + 0.646 vx2-vx0\n",
      "              + 1.247 vy2-vy0\n",
      "              + -7.035 (x0-x1) exp( -sqrt((x0-x1)^2+(y0-y1)^2) ) / ((x0-x1)^2+(y0-y1)^2)\n",
      "              + -1.256 (y0-y1) exp( -sqrt((x0-x1)^2+(y0-y1)^2) ) / ((x0-x1)^2+(y0-y1)^2)\n",
      "              + 17.804 (x1-x2) exp( -sqrt((x1-x2)^2+(y1-y2)^2) ) / ((x1-x2)^2+(y1-y2)^2)\n",
      "              + -7.313 (x2-x0) exp( -sqrt((x2-x0)^2+(y2-y0)^2) ) / ((x2-x0)^2+(y2-y0)^2)\n",
      "              + -1.870 (y2-y0) exp( -sqrt((x2-x0)^2+(y2-y0)^2) ) / ((x2-x0)^2+(y2-y0)^2)\n",
      "\n",
      "(y1-y2)'      = 1.000 vy1-vy2\n",
      "\n",
      "(vy1-vy2)'    = -0.925 vx0-vx1\n",
      "              + 0.694 vy0-vy1\n",
      "              + -9.320 (y0-y1) exp( -sqrt((x0-x1)^2+(y0-y1)^2) ) / ((x0-x1)^2+(y0-y1)^2)\n",
      "              + 17.118 (y1-y2) exp( -sqrt((x1-x2)^2+(y1-y2)^2) ) / ((x1-x2)^2+(y1-y2)^2)\n",
      "              + -8.165 (y2-y0) exp( -sqrt((x2-x0)^2+(y2-y0)^2) ) / ((x2-x0)^2+(y2-y0)^2)\n",
      "\n",
      "\n",
      "----------------------------------------------------------------------------------------------------\n",
      "(x2-x0)'      = 1.000 vx2-vx0\n",
      "\n",
      "(vx2-vx0)'    = -1.099 vx2-vx0\n",
      "              + -10.514 (x0-x1) exp( -sqrt((x0-x1)^2+(y0-y1)^2) ) / ((x0-x1)^2+(y0-y1)^2)\n",
      "              + -6.363 (x1-x2) exp( -sqrt((x1-x2)^2+(y1-y2)^2) ) / ((x1-x2)^2+(y1-y2)^2)\n",
      "              + -1.899 (y1-y2) exp( -sqrt((x1-x2)^2+(y1-y2)^2) ) / ((x1-x2)^2+(y1-y2)^2)\n",
      "              + 17.321 (x2-x0) exp( -sqrt((x2-x0)^2+(y2-y0)^2) ) / ((x2-x0)^2+(y2-y0)^2)\n",
      "\n",
      "(y2-y0)'      = 1.000 vy2-vy0\n",
      "\n",
      "(vy2-vy0)'    = 0.880 vy0-vy1\n",
      "              + 0.826 (x0-x1) exp( -sqrt((x0-x1)^2+(y0-y1)^2) ) / ((x0-x1)^2+(y0-y1)^2)\n",
      "              + -8.927 (y0-y1) exp( -sqrt((x0-x1)^2+(y0-y1)^2) ) / ((x0-x1)^2+(y0-y1)^2)\n",
      "              + 0.722 (x1-x2) exp( -sqrt((x1-x2)^2+(y1-y2)^2) ) / ((x1-x2)^2+(y1-y2)^2)\n",
      "              + -8.186 (y1-y2) exp( -sqrt((x1-x2)^2+(y1-y2)^2) ) / ((x1-x2)^2+(y1-y2)^2)\n",
      "              + 16.908 (y2-y0) exp( -sqrt((x2-x0)^2+(y2-y0)^2) ) / ((x2-x0)^2+(y2-y0)^2)\n",
      "\n",
      "\n",
      "----------------------------------------------------------------------------------------------------\n",
      "====================================================================================================\n",
      "noise level: 0\n",
      "number of trajectories: 200\n",
      "STLSQ threshold: 0.65\n",
      "complexity: 40\n",
      "====================================================================================================\n",
      "(x0-x1)'      = 1.000 vx0-vx1\n",
      "\n",
      "(vx0-vx1)'    = 1.174 vx1-vx2\n",
      "              + -1.220 vy2-vy0\n",
      "              + 17.412 (x0-x1) exp( -sqrt((x0-x1)^2+(y0-y1)^2) ) / ((x0-x1)^2+(y0-y1)^2)\n",
      "              + -11.561 (x1-x2) exp( -sqrt((x1-x2)^2+(y1-y2)^2) ) / ((x1-x2)^2+(y1-y2)^2)\n",
      "              + -9.671 (x2-x0) exp( -sqrt((x2-x0)^2+(y2-y0)^2) ) / ((x2-x0)^2+(y2-y0)^2)\n",
      "\n",
      "(y0-y1)'      = 1.000 vy0-vy1\n",
      "\n",
      "(vy0-vy1)'    = 1.088 vx0-vx1\n",
      "              + -1.581 vy0-vy1\n",
      "              + -1.148 (x0-x1) exp( -sqrt((x0-x1)^2+(y0-y1)^2) ) / ((x0-x1)^2+(y0-y1)^2)\n",
      "              + 18.320 (y0-y1) exp( -sqrt((x0-x1)^2+(y0-y1)^2) ) / ((x0-x1)^2+(y0-y1)^2)\n",
      "              + -8.947 (y1-y2) exp( -sqrt((x1-x2)^2+(y1-y2)^2) ) / ((x1-x2)^2+(y1-y2)^2)\n",
      "              + -0.857 (x2-x0) exp( -sqrt((x2-x0)^2+(y2-y0)^2) ) / ((x2-x0)^2+(y2-y0)^2)\n",
      "              + -8.725 (y2-y0) exp( -sqrt((x2-x0)^2+(y2-y0)^2) ) / ((x2-x0)^2+(y2-y0)^2)\n",
      "\n",
      "\n",
      "----------------------------------------------------------------------------------------------------\n",
      "(x1-x2)'      = 1.000 vx1-vx2\n",
      "\n",
      "(vx1-vx2)'    = -1.350 vx1-vx2\n",
      "              + 1.284 vy2-vy0\n",
      "              + -7.314 (x0-x1) exp( -sqrt((x0-x1)^2+(y0-y1)^2) ) / ((x0-x1)^2+(y0-y1)^2)\n",
      "              + -1.266 (y0-y1) exp( -sqrt((x0-x1)^2+(y0-y1)^2) ) / ((x0-x1)^2+(y0-y1)^2)\n",
      "              + 17.861 (x1-x2) exp( -sqrt((x1-x2)^2+(y1-y2)^2) ) / ((x1-x2)^2+(y1-y2)^2)\n",
      "              + -7.030 (x2-x0) exp( -sqrt((x2-x0)^2+(y2-y0)^2) ) / ((x2-x0)^2+(y2-y0)^2)\n",
      "              + -1.898 (y2-y0) exp( -sqrt((x2-x0)^2+(y2-y0)^2) ) / ((x2-x0)^2+(y2-y0)^2)\n",
      "\n",
      "(y1-y2)'      = 1.000 vy1-vy2\n",
      "\n",
      "(vy1-vy2)'    = -0.858 vx0-vx1\n",
      "              + -8.927 (y0-y1) exp( -sqrt((x0-x1)^2+(y0-y1)^2) ) / ((x0-x1)^2+(y0-y1)^2)\n",
      "              + 16.986 (y1-y2) exp( -sqrt((x1-x2)^2+(y1-y2)^2) ) / ((x1-x2)^2+(y1-y2)^2)\n",
      "              + -8.302 (y2-y0) exp( -sqrt((x2-x0)^2+(y2-y0)^2) ) / ((x2-x0)^2+(y2-y0)^2)\n",
      "\n",
      "\n",
      "----------------------------------------------------------------------------------------------------\n",
      "(x2-x0)'      = 1.000 vx2-vx0\n",
      "\n",
      "(vx2-vx0)'    = -1.099 vx2-vx0\n",
      "              + -10.514 (x0-x1) exp( -sqrt((x0-x1)^2+(y0-y1)^2) ) / ((x0-x1)^2+(y0-y1)^2)\n",
      "              + -6.363 (x1-x2) exp( -sqrt((x1-x2)^2+(y1-y2)^2) ) / ((x1-x2)^2+(y1-y2)^2)\n",
      "              + -1.899 (y1-y2) exp( -sqrt((x1-x2)^2+(y1-y2)^2) ) / ((x1-x2)^2+(y1-y2)^2)\n",
      "              + 17.321 (x2-x0) exp( -sqrt((x2-x0)^2+(y2-y0)^2) ) / ((x2-x0)^2+(y2-y0)^2)\n",
      "\n",
      "(y2-y0)'      = 1.000 vy2-vy0\n",
      "\n",
      "(vy2-vy0)'    = 0.880 vy0-vy1\n",
      "              + 0.826 (x0-x1) exp( -sqrt((x0-x1)^2+(y0-y1)^2) ) / ((x0-x1)^2+(y0-y1)^2)\n",
      "              + -8.927 (y0-y1) exp( -sqrt((x0-x1)^2+(y0-y1)^2) ) / ((x0-x1)^2+(y0-y1)^2)\n",
      "              + 0.722 (x1-x2) exp( -sqrt((x1-x2)^2+(y1-y2)^2) ) / ((x1-x2)^2+(y1-y2)^2)\n",
      "              + -8.186 (y1-y2) exp( -sqrt((x1-x2)^2+(y1-y2)^2) ) / ((x1-x2)^2+(y1-y2)^2)\n",
      "              + 16.908 (y2-y0) exp( -sqrt((x2-x0)^2+(y2-y0)^2) ) / ((x2-x0)^2+(y2-y0)^2)\n",
      "\n",
      "\n",
      "----------------------------------------------------------------------------------------------------\n",
      "====================================================================================================\n",
      "noise level: 0\n",
      "number of trajectories: 200\n",
      "STLSQ threshold: 0.7000000000000001\n",
      "complexity: 32\n",
      "====================================================================================================\n",
      "(x0-x1)'      = 0.000\n",
      "\n",
      "(vx0-vx1)'    = 1.174 vx1-vx2\n",
      "              + -1.220 vy2-vy0\n",
      "              + 17.412 (x0-x1) exp( -sqrt((x0-x1)^2+(y0-y1)^2) ) / ((x0-x1)^2+(y0-y1)^2)\n",
      "              + -11.561 (x1-x2) exp( -sqrt((x1-x2)^2+(y1-y2)^2) ) / ((x1-x2)^2+(y1-y2)^2)\n",
      "              + -9.671 (x2-x0) exp( -sqrt((x2-x0)^2+(y2-y0)^2) ) / ((x2-x0)^2+(y2-y0)^2)\n",
      "\n",
      "(y0-y1)'      = 0.000\n",
      "\n",
      "(vy0-vy1)'    = 1.128 vx0-vx1\n",
      "              + -1.586 vy0-vy1\n",
      "              + -1.034 (x0-x1) exp( -sqrt((x0-x1)^2+(y0-y1)^2) ) / ((x0-x1)^2+(y0-y1)^2)\n",
      "              + 18.278 (y0-y1) exp( -sqrt((x0-x1)^2+(y0-y1)^2) ) / ((x0-x1)^2+(y0-y1)^2)\n",
      "              + -8.919 (y1-y2) exp( -sqrt((x1-x2)^2+(y1-y2)^2) ) / ((x1-x2)^2+(y1-y2)^2)\n",
      "              + -8.766 (y2-y0) exp( -sqrt((x2-x0)^2+(y2-y0)^2) ) / ((x2-x0)^2+(y2-y0)^2)\n",
      "\n",
      "\n",
      "----------------------------------------------------------------------------------------------------\n",
      "(x1-x2)'      = 0.000\n",
      "\n",
      "(vx1-vx2)'    = -1.350 vx1-vx2\n",
      "              + 1.284 vy2-vy0\n",
      "              + -7.314 (x0-x1) exp( -sqrt((x0-x1)^2+(y0-y1)^2) ) / ((x0-x1)^2+(y0-y1)^2)\n",
      "              + -1.266 (y0-y1) exp( -sqrt((x0-x1)^2+(y0-y1)^2) ) / ((x0-x1)^2+(y0-y1)^2)\n",
      "              + 17.861 (x1-x2) exp( -sqrt((x1-x2)^2+(y1-y2)^2) ) / ((x1-x2)^2+(y1-y2)^2)\n",
      "              + -7.030 (x2-x0) exp( -sqrt((x2-x0)^2+(y2-y0)^2) ) / ((x2-x0)^2+(y2-y0)^2)\n",
      "              + -1.898 (y2-y0) exp( -sqrt((x2-x0)^2+(y2-y0)^2) ) / ((x2-x0)^2+(y2-y0)^2)\n",
      "\n",
      "(y1-y2)'      = 0.000\n",
      "\n",
      "(vy1-vy2)'    = -8.956 (y0-y1) exp( -sqrt((x0-x1)^2+(y0-y1)^2) ) / ((x0-x1)^2+(y0-y1)^2)\n",
      "              + 17.060 (y1-y2) exp( -sqrt((x1-x2)^2+(y1-y2)^2) ) / ((x1-x2)^2+(y1-y2)^2)\n",
      "              + -8.226 (y2-y0) exp( -sqrt((x2-x0)^2+(y2-y0)^2) ) / ((x2-x0)^2+(y2-y0)^2)\n",
      "\n",
      "\n",
      "----------------------------------------------------------------------------------------------------\n",
      "(x2-x0)'      = 0.000\n",
      "\n",
      "(vx2-vx0)'    = -1.099 vx2-vx0\n",
      "              + -10.514 (x0-x1) exp( -sqrt((x0-x1)^2+(y0-y1)^2) ) / ((x0-x1)^2+(y0-y1)^2)\n",
      "              + -6.363 (x1-x2) exp( -sqrt((x1-x2)^2+(y1-y2)^2) ) / ((x1-x2)^2+(y1-y2)^2)\n",
      "              + -1.899 (y1-y2) exp( -sqrt((x1-x2)^2+(y1-y2)^2) ) / ((x1-x2)^2+(y1-y2)^2)\n",
      "              + 17.321 (x2-x0) exp( -sqrt((x2-x0)^2+(y2-y0)^2) ) / ((x2-x0)^2+(y2-y0)^2)\n",
      "\n",
      "(y2-y0)'      = 0.000\n",
      "\n",
      "(vy2-vy0)'    = 0.880 vy0-vy1\n",
      "              + 0.826 (x0-x1) exp( -sqrt((x0-x1)^2+(y0-y1)^2) ) / ((x0-x1)^2+(y0-y1)^2)\n",
      "              + -8.927 (y0-y1) exp( -sqrt((x0-x1)^2+(y0-y1)^2) ) / ((x0-x1)^2+(y0-y1)^2)\n",
      "              + 0.722 (x1-x2) exp( -sqrt((x1-x2)^2+(y1-y2)^2) ) / ((x1-x2)^2+(y1-y2)^2)\n",
      "              + -8.186 (y1-y2) exp( -sqrt((x1-x2)^2+(y1-y2)^2) ) / ((x1-x2)^2+(y1-y2)^2)\n",
      "              + 16.908 (y2-y0) exp( -sqrt((x2-x0)^2+(y2-y0)^2) ) / ((x2-x0)^2+(y2-y0)^2)\n",
      "\n",
      "\n",
      "----------------------------------------------------------------------------------------------------\n"
     ]
    }
   ],
   "source": [
    "for i in [12,13,14]:\n",
    "    y3.print_SINDy_nice(weak_noise00050_models_to1[i], sim_list)"
   ]
  },
  {
   "cell_type": "markdown",
   "id": "c4f6911e",
   "metadata": {},
   "source": [
    "### `noise_level=1e-3`"
   ]
  },
  {
   "cell_type": "code",
   "execution_count": 15,
   "id": "42825a96",
   "metadata": {},
   "outputs": [],
   "source": [
    "# load in SINDy models for 1e-3 noise case\n",
    "weak_noise00100_models = y3.load_SINDy_models('data/weak_noisy/SINDy_results/noise_0.00100/model_objs')\n",
    "# remove models with threshold > 1\n",
    "weak_noise00100_models_to1 = [model for model in weak_noise00100_models if model.optimizer.threshold <= 1]"
   ]
  },
  {
   "cell_type": "code",
   "execution_count": 16,
   "id": "d314b1e9",
   "metadata": {},
   "outputs": [
    {
     "data": {
      "text/plain": [
       "<matplotlib.legend.Legend at 0x219aac30320>"
      ]
     },
     "execution_count": 16,
     "metadata": {},
     "output_type": "execute_result"
    },
    {
     "data": {
      "image/png": "[encoded data removed]",
      "text/plain": [
       "<Figure size 800x600 with 1 Axes>"
      ]
     },
     "metadata": {},
     "output_type": "display_data"
    }
   ],
   "source": [
    "fig, ax = ys.plot_complexity_objs(weak_noise00100_models_to1)\n",
    "ax.hlines(42, 0, 1.0, colors='k', linestyles='dashed', lw=1, label=\"Simulation Equations\")\n",
    "ax.legend()"
   ]
  },
  {
   "cell_type": "code",
   "execution_count": null,
   "id": "379363a1",
   "metadata": {},
   "outputs": [],
   "source": []
  }
 ],
 "metadata": {
  "kernelspec": {
   "display_name": "yukawa-project",
   "language": "python",
   "name": "python3"
  },
  "language_info": {
   "codemirror_mode": {
    "name": "ipython",
    "version": 3
   },
   "file_extension": ".py",
   "mimetype": "text/x-python",
   "name": "python",
   "nbconvert_exporter": "python",
   "pygments_lexer": "ipython3",
   "version": "3.12.7"
  }
 },
 "nbformat": 4,
 "nbformat_minor": 5
}
