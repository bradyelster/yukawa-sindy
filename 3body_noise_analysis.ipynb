{
 "cells": [
  {
   "cell_type": "code",
   "execution_count": 1,
   "id": "53980ec3",
   "metadata": {},
   "outputs": [],
   "source": [
    "import Yukawa_SINDy as ys\n",
    "import Yukawa3body as y3\n",
    "import numpy as np\n",
    "import pysindy as ps\n",
    "import matplotlib.pyplot as plt"
   ]
  },
  {
   "cell_type": "markdown",
   "id": "c7f2d78a",
   "metadata": {},
   "source": [
    "# Noise analysis for 3-body Yukawa system"
   ]
  },
  {
   "cell_type": "markdown",
   "id": "8ae114f2",
   "metadata": {},
   "source": [
    "Here, we load in the data used for all the noise cases used in this notebook. The data is a list of 200 `y3.Yukawa3body` objects with *no noise added*, and the data is *unsubtracted*."
   ]
  },
  {
   "cell_type": "code",
   "execution_count": 16,
   "id": "068db77e",
   "metadata": {},
   "outputs": [],
   "source": [
    "# load in data\n",
    "sim_list = y3.load_data('data/basic_noisy/analysis_trajectories')"
   ]
  },
  {
   "cell_type": "code",
   "execution_count": 17,
   "id": "6a91392a",
   "metadata": {},
   "outputs": [],
   "source": [
    "# Process data from simulation objects in place: delete noise (if exists, which it should not) and subtract data\n",
    "for sim in sim_list:\n",
    "    # delete noise if present\n",
    "    if sim.is_noisy:\n",
    "        sim.delete_noise()\n",
    "    # subtract data and add noise\n",
    "    if not sim.is_subtracted:\n",
    "        sim.subtract_data()"
   ]
  },
  {
   "cell_type": "code",
   "execution_count": 18,
   "id": "f38a9c49",
   "metadata": {},
   "outputs": [
    {
     "data": {
      "text/plain": [
       "False"
      ]
     },
     "execution_count": 18,
     "metadata": {},
     "output_type": "execute_result"
    }
   ],
   "source": [
    "# sanity check to see if noise was added\n",
    "sim_list[0].is_noisy"
   ]
  },
  {
   "cell_type": "markdown",
   "id": "cf659d91",
   "metadata": {},
   "source": [
    "We can concatenate all the data into one list and find the average magnitude in order to decide how to add noise to the data. If we truly do *all* the data however, which includes both positions and velocities, an average doesn't mean much because generally the positions and velocities do not have the same order of magnitude. Thus we can get a sense for the magnitudes of the differences in positions and velocities by taking the absolute value and averaging them separately."
   ]
  },
  {
   "cell_type": "code",
   "execution_count": 19,
   "id": "139f5bfd",
   "metadata": {},
   "outputs": [
    {
     "name": "stdout",
     "output_type": "stream",
     "text": [
      "average magnitude of interparticle spacings: 0.3731317925355648\n",
      "average magnitude of differences in velocity: 8.87462815647504\n"
     ]
    }
   ],
   "source": [
    "all_data = np.concatenate([sim.x for sim in sim_list])\n",
    "all_positions = np.concatenate([position for position in all_data[:,0::2]])\n",
    "all_velocities = np.concatenate([velocity for velocity in all_data[:,1::2]])\n",
    "avg_abs_position = np.average(np.abs(all_positions))\n",
    "avg_abs_velocity = np.average(np.abs(all_velocities))\n",
    "print(\"average magnitude of interparticle spacings:\", avg_abs_position)\n",
    "print(\"average magnitude of differences in velocity:\", avg_abs_velocity)"
   ]
  },
  {
   "cell_type": "markdown",
   "id": "6c6df53d",
   "metadata": {},
   "source": [
    "We can get a sense for the spread of the data by computing the minima, maxima, and standard deviations of the position and velocity data."
   ]
  },
  {
   "cell_type": "code",
   "execution_count": 23,
   "id": "62b56a0d",
   "metadata": {},
   "outputs": [
    {
     "name": "stdout",
     "output_type": "stream",
     "text": [
      "maximum position: 2.4780761926705104\n",
      "minimum position: -2.3111320064747454\n",
      "std. dev. of position: 0.5240702948816783\n",
      "\n",
      "maximum velocity: 27.87314486877339\n",
      "minimum velocity: -24.497286772420445\n",
      "std. dev. of velocity: 10.592752726201555\n"
     ]
    }
   ],
   "source": [
    "print(\"maximum position:\", np.max(all_positions))\n",
    "print(\"minimum position:\", np.min(all_positions))\n",
    "print(\"std. dev. of position:\", np.std(all_positions))\n",
    "print()\n",
    "print(\"maximum velocity:\", np.max(all_velocities))\n",
    "print(\"minimum velocity:\", np.min(all_velocities))\n",
    "print(\"std. dev. of velocity:\", np.std(all_velocities))"
   ]
  },
  {
   "cell_type": "markdown",
   "id": "8526f0a1",
   "metadata": {},
   "source": [
    "Could also get a sense for the scale of the data by looking at the l2 norm of the data, which can be done as follows:"
   ]
  },
  {
   "cell_type": "code",
   "execution_count": 24,
   "id": "0654938b",
   "metadata": {},
   "outputs": [
    {
     "data": {
      "text/plain": [
       "0.5240702948816783"
      ]
     },
     "execution_count": 24,
     "metadata": {},
     "output_type": "execute_result"
    }
   ],
   "source": [
    "import sklearn\n",
    "zeros = np.zeros_like(all_positions)\n",
    "sklearn.metrics.root_mean_squared_error(zeros, all_positions)"
   ]
  },
  {
   "cell_type": "code",
   "execution_count": 25,
   "id": "c960927e",
   "metadata": {},
   "outputs": [
    {
     "data": {
      "text/plain": [
       "10.592752726201555"
      ]
     },
     "execution_count": 25,
     "metadata": {},
     "output_type": "execute_result"
    }
   ],
   "source": [
    "sklearn.metrics.root_mean_squared_error(zeros, all_velocities)"
   ]
  },
  {
   "cell_type": "code",
   "execution_count": null,
   "id": "9926d4c7",
   "metadata": {},
   "outputs": [],
   "source": [
    "y3.plot_multiple(sim_list)"
   ]
  },
  {
   "cell_type": "markdown",
   "id": "fd000002",
   "metadata": {},
   "source": [
    "We can extract the simulation parameters used in this set by taking a look at the object attributes from the first element."
   ]
  },
  {
   "cell_type": "code",
   "execution_count": null,
   "id": "17818456",
   "metadata": {},
   "outputs": [],
   "source": [
    "# print simulation parameters\n",
    "print(\"Number of trajectories:\", len(sim_list))\n",
    "print(\"Timestep duration:\", sim_list[0].dt)\n",
    "print(\"Duration:\", sim_list[0].duration)\n",
    "print(\"Number of timesteps (sanity check):\", sim_list[0].x.shape[0])\n",
    "print(\"Number of features (sanity check):\", sim_list[0].x.shape[1])\n",
    "print(\"Noisy:\", sim_list[0].is_noisy)\n",
    "print(\"Subtracted:\", sim_list[0].is_subtracted)"
   ]
  },
  {
   "cell_type": "markdown",
   "id": "b3c9091a",
   "metadata": {},
   "source": [
    "Below is some code that will generate plots of 9 of the trajectories *with noise added*. "
   ]
  },
  {
   "cell_type": "code",
   "execution_count": null,
   "id": "0ee377f9",
   "metadata": {},
   "outputs": [],
   "source": [
    "for sim in sim_list:\n",
    "    if sim.is_noisy:\n",
    "        sim.delete_noise()\n",
    "    sim.add_gaussian_noise(noise_level=1e-4)"
   ]
  },
  {
   "cell_type": "code",
   "execution_count": null,
   "id": "47ebe070",
   "metadata": {},
   "outputs": [],
   "source": [
    "y3.plot_multiple(sim_list[190:])"
   ]
  },
  {
   "cell_type": "markdown",
   "id": "5da0c72c",
   "metadata": {},
   "source": [
    "## `noise_level = 0`"
   ]
  },
  {
   "cell_type": "markdown",
   "id": "e873b8aa",
   "metadata": {},
   "source": [
    "We begin by looking at the clean data, with no Gaussian noise added. SINDy models were generated using the python script 'Code/data/basic_sindy_results_noisy.py'."
   ]
  },
  {
   "cell_type": "code",
   "execution_count": null,
   "id": "cc298566",
   "metadata": {},
   "outputs": [],
   "source": [
    "# load in SINDy models for 0 noise case\n",
    "nonoise_models = y3.load_SINDy_models('data/basic_noisy/SINDy_results/noise_0.00000/model_objs')\n",
    "# remove models with threshold > 1 from list\n",
    "nonoise_models = [model for model in nonoise_models if model.optimizer.threshold <= 1]"
   ]
  },
  {
   "cell_type": "code",
   "execution_count": null,
   "id": "996348fd",
   "metadata": {},
   "outputs": [],
   "source": [
    "ys.plot_complexity_objs(nonoise_models)"
   ]
  },
  {
   "cell_type": "markdown",
   "id": "51bbbdb5",
   "metadata": {},
   "source": [
    "- course-graining (threshold scan from 0 to 0.45, increment 0.05) shows that the correct model is discovered some point between 0.3 and 0.35.\n",
    "- I want to find the transition point from bad to good model to 3 significant figures, so I then did a more fine step of 0.005 and found that the discovered model becomes correct between 0.330 and 0.335\n",
    "- Finally, investigating  between 0.328 and 0.337 by steps of 0.001 we find the critical threshold to be 0.334.\n",
    "- This is not reflected in the plot above, which was made later."
   ]
  },
  {
   "cell_type": "markdown",
   "id": "fa670c5f",
   "metadata": {},
   "source": [
    "Below are the models for `threshold=0.330` and `threshold=0.340`. We can see that in the 0.330 case, all of the trivial equations (of the form $\\dot{x}=v$) are characterized by extremely large coefficients ($\\sim 10^6$) for all the velocity features available to them *that are in the correct cartesian direction*. For example, the `(y0-y1)'`-equation has all 6 velocity features (of the form `(vxi-vxj)` and `(vyi-vyj)` for $i,j\\in\\{0,1,2|i\\neq j\\}$). On the other hand, the interesting equations (of the form $\\dot{v}=f(x)$) are \"correctly\" discovered."
   ]
  },
  {
   "cell_type": "code",
   "execution_count": null,
   "id": "c2b547de",
   "metadata": {},
   "outputs": [],
   "source": [
    "for i in [33,34]:\n",
    "    y3.print_SINDy_nice(nonoise_models[i], sim_list)"
   ]
  },
  {
   "cell_type": "markdown",
   "id": "d5e94871",
   "metadata": {},
   "source": [
    "## `noise_level = 1e-5`"
   ]
  },
  {
   "cell_type": "code",
   "execution_count": null,
   "id": "eacc750d",
   "metadata": {},
   "outputs": [],
   "source": [
    "noise00001_models = y3.load_SINDy_models('data/basic_noisy/SINDy_results/noise_0.00001/model_objs')"
   ]
  },
  {
   "cell_type": "markdown",
   "id": "130e3e77",
   "metadata": {},
   "source": [
    "- The approximately correct model is discovered with a threshold of 0.40, where we only stepped the solver with 0.01 resolution.\n",
    "- The complexity vs. threshold plot is shown here:"
   ]
  },
  {
   "cell_type": "code",
   "execution_count": 96,
   "id": "579bce72",
   "metadata": {},
   "outputs": [
    {
     "data": {
      "image/png": "[encoded data removed]",
      "text/plain": [
       "<Figure size 800x600 with 1 Axes>"
      ]
     },
     "metadata": {},
     "output_type": "display_data"
    }
   ],
   "source": [
    "ys.plot_complexity_objs(noise00001_models)"
   ]
  },
  {
   "cell_type": "markdown",
   "id": "0082c568",
   "metadata": {},
   "source": [
    "We can look at the models around 0.4 to see how they evolve to the correct model."
   ]
  },
  {
   "cell_type": "code",
   "execution_count": null,
   "id": "d6e9e89d",
   "metadata": {},
   "outputs": [],
   "source": [
    "for i in [39,40]:\n",
    "    y3.print_SINDy_nice(noise00001_models[i], sim_list)"
   ]
  },
  {
   "cell_type": "markdown",
   "id": "884229d8",
   "metadata": {},
   "source": [
    "- As we can see above, the only equation that is wrong with `threshold=0.39` is the `(y1-y2)'` equation, which proves to be an issue later as well (see below).\n",
    "- It could be interesting to investigate whether that is a problem with this particular set of trajectories. There is no obvious reason why that particular equation would be an issue."
   ]
  },
  {
   "cell_type": "markdown",
   "id": "8a957c8e",
   "metadata": {},
   "source": [
    "## `noise_level = 2e-5`"
   ]
  },
  {
   "cell_type": "code",
   "execution_count": null,
   "id": "4bfd8d06",
   "metadata": {},
   "outputs": [],
   "source": [
    "noise00002_models = y3.load_SINDy_models('data/basic_noisy/SINDy_results/noise_0.00002/model_objs')\n",
    "noise00002_models = [model for model in noise00002_models if model.optimizer.threshold <= 1]"
   ]
  },
  {
   "cell_type": "code",
   "execution_count": 97,
   "id": "e6e59eb1",
   "metadata": {},
   "outputs": [
    {
     "data": {
      "image/png": "[encoded data removed]",
      "text/plain": [
       "<Figure size 800x600 with 1 Axes>"
      ]
     },
     "metadata": {},
     "output_type": "display_data"
    }
   ],
   "source": [
    "ys.plot_complexity_objs(noise00002_models)"
   ]
  },
  {
   "cell_type": "markdown",
   "id": "1baf7b39",
   "metadata": {},
   "source": [
    "- Interestingly, the steps here are much more small and incremental than in the no noise case\n",
    "- Here, the correct model is *not* discovered. We can check around the correct complexity value and see how close we get.\n",
    "- The model generated with threshold=0.64 comes the closest to the true model without zeroing out any coefficients shown below"
   ]
  },
  {
   "cell_type": "code",
   "execution_count": 125,
   "id": "c35eeff2",
   "metadata": {},
   "outputs": [
    {
     "name": "stdout",
     "output_type": "stream",
     "text": [
      "====================================================================================================\n",
      "noise level: 0\n",
      "number of trajectories: 200\n",
      "STLSQ threshold: 0.5700000000000001\n",
      "complexity: 49\n",
      "====================================================================================================\n",
      "(x0-x1)'      = 1.000 vx0-vx1\n",
      "\n",
      "(vx0-vx1)'    = 2.207 (x0-x1) exp( -sqrt((x0-x1)^2+(y0-y1)^2) ) / ((x0-x1)^2+(y0-y1)^2)\n",
      "              + 1.992 (x0-x1) exp( -sqrt((x0-x1)^2+(y0-y1)^2) ) / ((x0-x1)^2+(y0-y1)^2)^(3/2)\n",
      "              + -1.070 (x1-x2) exp( -sqrt((x1-x2)^2+(y1-y2)^2) ) / ((x1-x2)^2+(y1-y2)^2)\n",
      "              + -0.997 (x1-x2) exp( -sqrt((x1-x2)^2+(y1-y2)^2) ) / ((x1-x2)^2+(y1-y2)^2)^(3/2)\n",
      "              + -1.042 (x2-x0) exp( -sqrt((x2-x0)^2+(y2-y0)^2) ) / ((x2-x0)^2+(y2-y0)^2)\n",
      "              + -0.998 (x2-x0) exp( -sqrt((x2-x0)^2+(y2-y0)^2) ) / ((x2-x0)^2+(y2-y0)^2)^(3/2)\n",
      "\n",
      "(y0-y1)'      = 1.000 vy0-vy1\n",
      "\n",
      "(vy0-vy1)'    = 2.161 (y0-y1) exp( -sqrt((x0-x1)^2+(y0-y1)^2) ) / ((x0-x1)^2+(y0-y1)^2)\n",
      "              + 1.994 (y0-y1) exp( -sqrt((x0-x1)^2+(y0-y1)^2) ) / ((x0-x1)^2+(y0-y1)^2)^(3/2)\n",
      "              + -1.085 (y1-y2) exp( -sqrt((x1-x2)^2+(y1-y2)^2) ) / ((x1-x2)^2+(y1-y2)^2)\n",
      "              + -0.996 (y1-y2) exp( -sqrt((x1-x2)^2+(y1-y2)^2) ) / ((x1-x2)^2+(y1-y2)^2)^(3/2)\n",
      "              + -1.089 (y2-y0) exp( -sqrt((x2-x0)^2+(y2-y0)^2) ) / ((x2-x0)^2+(y2-y0)^2)\n",
      "              + -0.997 (y2-y0) exp( -sqrt((x2-x0)^2+(y2-y0)^2) ) / ((x2-x0)^2+(y2-y0)^2)^(3/2)\n",
      "\n",
      "\n",
      "----------------------------------------------------------------------------------------------------\n",
      "(x1-x2)'      = 1.000 vx1-vx2\n",
      "\n",
      "(vx1-vx2)'    = 451.724 vy0-vy1\n",
      "              + 451.722 vy1-vy2\n",
      "              + 451.721 vy2-vy0\n",
      "              + -1.101 (x0-x1) exp( -sqrt((x0-x1)^2+(y0-y1)^2) ) / ((x0-x1)^2+(y0-y1)^2)\n",
      "              + -0.996 (x0-x1) exp( -sqrt((x0-x1)^2+(y0-y1)^2) ) / ((x0-x1)^2+(y0-y1)^2)^(3/2)\n",
      "              + 2.159 (x1-x2) exp( -sqrt((x1-x2)^2+(y1-y2)^2) ) / ((x1-x2)^2+(y1-y2)^2)\n",
      "              + 1.993 (x1-x2) exp( -sqrt((x1-x2)^2+(y1-y2)^2) ) / ((x1-x2)^2+(y1-y2)^2)^(3/2)\n",
      "              + -1.079 (x2-x0) exp( -sqrt((x2-x0)^2+(y2-y0)^2) ) / ((x2-x0)^2+(y2-y0)^2)\n",
      "              + -0.997 (x2-x0) exp( -sqrt((x2-x0)^2+(y2-y0)^2) ) / ((x2-x0)^2+(y2-y0)^2)^(3/2)\n",
      "\n",
      "(y1-y2)'      = -1.000 vy0-vy1\n",
      "              + -1.000 vy2-vy0\n",
      "\n",
      "(vy1-vy2)'    = -1.075 (y0-y1) exp( -sqrt((x0-x1)^2+(y0-y1)^2) ) / ((x0-x1)^2+(y0-y1)^2)\n",
      "              + -0.997 (y0-y1) exp( -sqrt((x0-x1)^2+(y0-y1)^2) ) / ((x0-x1)^2+(y0-y1)^2)^(3/2)\n",
      "              + 2.169 (y1-y2) exp( -sqrt((x1-x2)^2+(y1-y2)^2) ) / ((x1-x2)^2+(y1-y2)^2)\n",
      "              + 1.992 (y1-y2) exp( -sqrt((x1-x2)^2+(y1-y2)^2) ) / ((x1-x2)^2+(y1-y2)^2)^(3/2)\n",
      "              + -1.070 (y2-y0) exp( -sqrt((x2-x0)^2+(y2-y0)^2) ) / ((x2-x0)^2+(y2-y0)^2)\n",
      "              + -0.997 (y2-y0) exp( -sqrt((x2-x0)^2+(y2-y0)^2) ) / ((x2-x0)^2+(y2-y0)^2)^(3/2)\n",
      "\n",
      "\n",
      "----------------------------------------------------------------------------------------------------\n",
      "(x2-x0)'      = 1.000 vx2-vx0\n",
      "\n",
      "(vx2-vx0)'    = -1.106 (x0-x1) exp( -sqrt((x0-x1)^2+(y0-y1)^2) ) / ((x0-x1)^2+(y0-y1)^2)\n",
      "              + -0.996 (x0-x1) exp( -sqrt((x0-x1)^2+(y0-y1)^2) ) / ((x0-x1)^2+(y0-y1)^2)^(3/2)\n",
      "              + -1.089 (x1-x2) exp( -sqrt((x1-x2)^2+(y1-y2)^2) ) / ((x1-x2)^2+(y1-y2)^2)\n",
      "              + -0.996 (x1-x2) exp( -sqrt((x1-x2)^2+(y1-y2)^2) ) / ((x1-x2)^2+(y1-y2)^2)^(3/2)\n",
      "              + 2.121 (x2-x0) exp( -sqrt((x2-x0)^2+(y2-y0)^2) ) / ((x2-x0)^2+(y2-y0)^2)\n",
      "              + 1.995 (x2-x0) exp( -sqrt((x2-x0)^2+(y2-y0)^2) ) / ((x2-x0)^2+(y2-y0)^2)^(3/2)\n",
      "\n",
      "(y2-y0)'      = 1.000 vy2-vy0\n",
      "\n",
      "(vy2-vy0)'    = -347.174 vx0-vx1\n",
      "              + -347.177 vx1-vx2\n",
      "              + -347.175 vx2-vx0\n",
      "              + -1.086 (y0-y1) exp( -sqrt((x0-x1)^2+(y0-y1)^2) ) / ((x0-x1)^2+(y0-y1)^2)\n",
      "              + -0.997 (y0-y1) exp( -sqrt((x0-x1)^2+(y0-y1)^2) ) / ((x0-x1)^2+(y0-y1)^2)^(3/2)\n",
      "              + -1.084 (y1-y2) exp( -sqrt((x1-x2)^2+(y1-y2)^2) ) / ((x1-x2)^2+(y1-y2)^2)\n",
      "              + -0.996 (y1-y2) exp( -sqrt((x1-x2)^2+(y1-y2)^2) ) / ((x1-x2)^2+(y1-y2)^2)^(3/2)\n",
      "              + 2.159 (y2-y0) exp( -sqrt((x2-x0)^2+(y2-y0)^2) ) / ((x2-x0)^2+(y2-y0)^2)\n",
      "              + 1.993 (y2-y0) exp( -sqrt((x2-x0)^2+(y2-y0)^2) ) / ((x2-x0)^2+(y2-y0)^2)^(3/2)\n",
      "\n",
      "\n",
      "----------------------------------------------------------------------------------------------------\n",
      "====================================================================================================\n",
      "noise level: 0\n",
      "number of trajectories: 200\n",
      "STLSQ threshold: 0.58\n",
      "complexity: 47\n",
      "====================================================================================================\n",
      "(x0-x1)'      = 1.000 vx0-vx1\n",
      "\n",
      "(vx0-vx1)'    = 2.207 (x0-x1) exp( -sqrt((x0-x1)^2+(y0-y1)^2) ) / ((x0-x1)^2+(y0-y1)^2)\n",
      "              + 1.992 (x0-x1) exp( -sqrt((x0-x1)^2+(y0-y1)^2) ) / ((x0-x1)^2+(y0-y1)^2)^(3/2)\n",
      "              + -1.070 (x1-x2) exp( -sqrt((x1-x2)^2+(y1-y2)^2) ) / ((x1-x2)^2+(y1-y2)^2)\n",
      "              + -0.997 (x1-x2) exp( -sqrt((x1-x2)^2+(y1-y2)^2) ) / ((x1-x2)^2+(y1-y2)^2)^(3/2)\n",
      "              + -1.042 (x2-x0) exp( -sqrt((x2-x0)^2+(y2-y0)^2) ) / ((x2-x0)^2+(y2-y0)^2)\n",
      "              + -0.998 (x2-x0) exp( -sqrt((x2-x0)^2+(y2-y0)^2) ) / ((x2-x0)^2+(y2-y0)^2)^(3/2)\n",
      "\n",
      "(y0-y1)'      = 1.000 vy0-vy1\n",
      "\n",
      "(vy0-vy1)'    = 2.161 (y0-y1) exp( -sqrt((x0-x1)^2+(y0-y1)^2) ) / ((x0-x1)^2+(y0-y1)^2)\n",
      "              + 1.994 (y0-y1) exp( -sqrt((x0-x1)^2+(y0-y1)^2) ) / ((x0-x1)^2+(y0-y1)^2)^(3/2)\n",
      "              + -1.085 (y1-y2) exp( -sqrt((x1-x2)^2+(y1-y2)^2) ) / ((x1-x2)^2+(y1-y2)^2)\n",
      "              + -0.996 (y1-y2) exp( -sqrt((x1-x2)^2+(y1-y2)^2) ) / ((x1-x2)^2+(y1-y2)^2)^(3/2)\n",
      "              + -1.089 (y2-y0) exp( -sqrt((x2-x0)^2+(y2-y0)^2) ) / ((x2-x0)^2+(y2-y0)^2)\n",
      "              + -0.997 (y2-y0) exp( -sqrt((x2-x0)^2+(y2-y0)^2) ) / ((x2-x0)^2+(y2-y0)^2)^(3/2)\n",
      "\n",
      "\n",
      "----------------------------------------------------------------------------------------------------\n",
      "(x1-x2)'      = 1.000 vx1-vx2\n",
      "\n",
      "(vx1-vx2)'    = 451.724 vy0-vy1\n",
      "              + 451.722 vy1-vy2\n",
      "              + 451.721 vy2-vy0\n",
      "              + -1.101 (x0-x1) exp( -sqrt((x0-x1)^2+(y0-y1)^2) ) / ((x0-x1)^2+(y0-y1)^2)\n",
      "              + -0.996 (x0-x1) exp( -sqrt((x0-x1)^2+(y0-y1)^2) ) / ((x0-x1)^2+(y0-y1)^2)^(3/2)\n",
      "              + 2.159 (x1-x2) exp( -sqrt((x1-x2)^2+(y1-y2)^2) ) / ((x1-x2)^2+(y1-y2)^2)\n",
      "              + 1.993 (x1-x2) exp( -sqrt((x1-x2)^2+(y1-y2)^2) ) / ((x1-x2)^2+(y1-y2)^2)^(3/2)\n",
      "              + -1.079 (x2-x0) exp( -sqrt((x2-x0)^2+(y2-y0)^2) ) / ((x2-x0)^2+(y2-y0)^2)\n",
      "              + -0.997 (x2-x0) exp( -sqrt((x2-x0)^2+(y2-y0)^2) ) / ((x2-x0)^2+(y2-y0)^2)^(3/2)\n",
      "\n",
      "(y1-y2)'      = 0.000\n",
      "\n",
      "(vy1-vy2)'    = -1.075 (y0-y1) exp( -sqrt((x0-x1)^2+(y0-y1)^2) ) / ((x0-x1)^2+(y0-y1)^2)\n",
      "              + -0.997 (y0-y1) exp( -sqrt((x0-x1)^2+(y0-y1)^2) ) / ((x0-x1)^2+(y0-y1)^2)^(3/2)\n",
      "              + 2.169 (y1-y2) exp( -sqrt((x1-x2)^2+(y1-y2)^2) ) / ((x1-x2)^2+(y1-y2)^2)\n",
      "              + 1.992 (y1-y2) exp( -sqrt((x1-x2)^2+(y1-y2)^2) ) / ((x1-x2)^2+(y1-y2)^2)^(3/2)\n",
      "              + -1.070 (y2-y0) exp( -sqrt((x2-x0)^2+(y2-y0)^2) ) / ((x2-x0)^2+(y2-y0)^2)\n",
      "              + -0.997 (y2-y0) exp( -sqrt((x2-x0)^2+(y2-y0)^2) ) / ((x2-x0)^2+(y2-y0)^2)^(3/2)\n",
      "\n",
      "\n",
      "----------------------------------------------------------------------------------------------------\n",
      "(x2-x0)'      = 1.000 vx2-vx0\n",
      "\n",
      "(vx2-vx0)'    = -1.106 (x0-x1) exp( -sqrt((x0-x1)^2+(y0-y1)^2) ) / ((x0-x1)^2+(y0-y1)^2)\n",
      "              + -0.996 (x0-x1) exp( -sqrt((x0-x1)^2+(y0-y1)^2) ) / ((x0-x1)^2+(y0-y1)^2)^(3/2)\n",
      "              + -1.089 (x1-x2) exp( -sqrt((x1-x2)^2+(y1-y2)^2) ) / ((x1-x2)^2+(y1-y2)^2)\n",
      "              + -0.996 (x1-x2) exp( -sqrt((x1-x2)^2+(y1-y2)^2) ) / ((x1-x2)^2+(y1-y2)^2)^(3/2)\n",
      "              + 2.121 (x2-x0) exp( -sqrt((x2-x0)^2+(y2-y0)^2) ) / ((x2-x0)^2+(y2-y0)^2)\n",
      "              + 1.995 (x2-x0) exp( -sqrt((x2-x0)^2+(y2-y0)^2) ) / ((x2-x0)^2+(y2-y0)^2)^(3/2)\n",
      "\n",
      "(y2-y0)'      = 1.000 vy2-vy0\n",
      "\n",
      "(vy2-vy0)'    = -347.174 vx0-vx1\n",
      "              + -347.177 vx1-vx2\n",
      "              + -347.175 vx2-vx0\n",
      "              + -1.086 (y0-y1) exp( -sqrt((x0-x1)^2+(y0-y1)^2) ) / ((x0-x1)^2+(y0-y1)^2)\n",
      "              + -0.997 (y0-y1) exp( -sqrt((x0-x1)^2+(y0-y1)^2) ) / ((x0-x1)^2+(y0-y1)^2)^(3/2)\n",
      "              + -1.084 (y1-y2) exp( -sqrt((x1-x2)^2+(y1-y2)^2) ) / ((x1-x2)^2+(y1-y2)^2)\n",
      "              + -0.996 (y1-y2) exp( -sqrt((x1-x2)^2+(y1-y2)^2) ) / ((x1-x2)^2+(y1-y2)^2)^(3/2)\n",
      "              + 2.159 (y2-y0) exp( -sqrt((x2-x0)^2+(y2-y0)^2) ) / ((x2-x0)^2+(y2-y0)^2)\n",
      "              + 1.993 (y2-y0) exp( -sqrt((x2-x0)^2+(y2-y0)^2) ) / ((x2-x0)^2+(y2-y0)^2)^(3/2)\n",
      "\n",
      "\n",
      "----------------------------------------------------------------------------------------------------\n",
      "====================================================================================================\n",
      "noise level: 0\n",
      "number of trajectories: 200\n",
      "STLSQ threshold: 0.6\n",
      "complexity: 44\n",
      "====================================================================================================\n",
      "(x0-x1)'      = 1.000 vx0-vx1\n",
      "\n",
      "(vx0-vx1)'    = 2.207 (x0-x1) exp( -sqrt((x0-x1)^2+(y0-y1)^2) ) / ((x0-x1)^2+(y0-y1)^2)\n",
      "              + 1.992 (x0-x1) exp( -sqrt((x0-x1)^2+(y0-y1)^2) ) / ((x0-x1)^2+(y0-y1)^2)^(3/2)\n",
      "              + -1.070 (x1-x2) exp( -sqrt((x1-x2)^2+(y1-y2)^2) ) / ((x1-x2)^2+(y1-y2)^2)\n",
      "              + -0.997 (x1-x2) exp( -sqrt((x1-x2)^2+(y1-y2)^2) ) / ((x1-x2)^2+(y1-y2)^2)^(3/2)\n",
      "              + -1.042 (x2-x0) exp( -sqrt((x2-x0)^2+(y2-y0)^2) ) / ((x2-x0)^2+(y2-y0)^2)\n",
      "              + -0.998 (x2-x0) exp( -sqrt((x2-x0)^2+(y2-y0)^2) ) / ((x2-x0)^2+(y2-y0)^2)^(3/2)\n",
      "\n",
      "(y0-y1)'      = 1.000 vy0-vy1\n",
      "\n",
      "(vy0-vy1)'    = 2.161 (y0-y1) exp( -sqrt((x0-x1)^2+(y0-y1)^2) ) / ((x0-x1)^2+(y0-y1)^2)\n",
      "              + 1.994 (y0-y1) exp( -sqrt((x0-x1)^2+(y0-y1)^2) ) / ((x0-x1)^2+(y0-y1)^2)^(3/2)\n",
      "              + -1.085 (y1-y2) exp( -sqrt((x1-x2)^2+(y1-y2)^2) ) / ((x1-x2)^2+(y1-y2)^2)\n",
      "              + -0.996 (y1-y2) exp( -sqrt((x1-x2)^2+(y1-y2)^2) ) / ((x1-x2)^2+(y1-y2)^2)^(3/2)\n",
      "              + -1.089 (y2-y0) exp( -sqrt((x2-x0)^2+(y2-y0)^2) ) / ((x2-x0)^2+(y2-y0)^2)\n",
      "              + -0.997 (y2-y0) exp( -sqrt((x2-x0)^2+(y2-y0)^2) ) / ((x2-x0)^2+(y2-y0)^2)^(3/2)\n",
      "\n",
      "\n",
      "----------------------------------------------------------------------------------------------------\n",
      "(x1-x2)'      = 1.000 vx1-vx2\n",
      "\n",
      "(vx1-vx2)'    = 451.724 vy0-vy1\n",
      "              + 451.722 vy1-vy2\n",
      "              + 451.721 vy2-vy0\n",
      "              + -1.101 (x0-x1) exp( -sqrt((x0-x1)^2+(y0-y1)^2) ) / ((x0-x1)^2+(y0-y1)^2)\n",
      "              + -0.996 (x0-x1) exp( -sqrt((x0-x1)^2+(y0-y1)^2) ) / ((x0-x1)^2+(y0-y1)^2)^(3/2)\n",
      "              + 2.159 (x1-x2) exp( -sqrt((x1-x2)^2+(y1-y2)^2) ) / ((x1-x2)^2+(y1-y2)^2)\n",
      "              + 1.993 (x1-x2) exp( -sqrt((x1-x2)^2+(y1-y2)^2) ) / ((x1-x2)^2+(y1-y2)^2)^(3/2)\n",
      "              + -1.079 (x2-x0) exp( -sqrt((x2-x0)^2+(y2-y0)^2) ) / ((x2-x0)^2+(y2-y0)^2)\n",
      "              + -0.997 (x2-x0) exp( -sqrt((x2-x0)^2+(y2-y0)^2) ) / ((x2-x0)^2+(y2-y0)^2)^(3/2)\n",
      "\n",
      "(y1-y2)'      = 0.000\n",
      "\n",
      "(vy1-vy2)'    = -1.075 (y0-y1) exp( -sqrt((x0-x1)^2+(y0-y1)^2) ) / ((x0-x1)^2+(y0-y1)^2)\n",
      "              + -0.997 (y0-y1) exp( -sqrt((x0-x1)^2+(y0-y1)^2) ) / ((x0-x1)^2+(y0-y1)^2)^(3/2)\n",
      "              + 2.169 (y1-y2) exp( -sqrt((x1-x2)^2+(y1-y2)^2) ) / ((x1-x2)^2+(y1-y2)^2)\n",
      "              + 1.992 (y1-y2) exp( -sqrt((x1-x2)^2+(y1-y2)^2) ) / ((x1-x2)^2+(y1-y2)^2)^(3/2)\n",
      "              + -1.070 (y2-y0) exp( -sqrt((x2-x0)^2+(y2-y0)^2) ) / ((x2-x0)^2+(y2-y0)^2)\n",
      "              + -0.997 (y2-y0) exp( -sqrt((x2-x0)^2+(y2-y0)^2) ) / ((x2-x0)^2+(y2-y0)^2)^(3/2)\n",
      "\n",
      "\n",
      "----------------------------------------------------------------------------------------------------\n",
      "(x2-x0)'      = 1.000 vx2-vx0\n",
      "\n",
      "(vx2-vx0)'    = -1.106 (x0-x1) exp( -sqrt((x0-x1)^2+(y0-y1)^2) ) / ((x0-x1)^2+(y0-y1)^2)\n",
      "              + -0.996 (x0-x1) exp( -sqrt((x0-x1)^2+(y0-y1)^2) ) / ((x0-x1)^2+(y0-y1)^2)^(3/2)\n",
      "              + -1.089 (x1-x2) exp( -sqrt((x1-x2)^2+(y1-y2)^2) ) / ((x1-x2)^2+(y1-y2)^2)\n",
      "              + -0.996 (x1-x2) exp( -sqrt((x1-x2)^2+(y1-y2)^2) ) / ((x1-x2)^2+(y1-y2)^2)^(3/2)\n",
      "              + 2.121 (x2-x0) exp( -sqrt((x2-x0)^2+(y2-y0)^2) ) / ((x2-x0)^2+(y2-y0)^2)\n",
      "              + 1.995 (x2-x0) exp( -sqrt((x2-x0)^2+(y2-y0)^2) ) / ((x2-x0)^2+(y2-y0)^2)^(3/2)\n",
      "\n",
      "(y2-y0)'      = 1.000 vy2-vy0\n",
      "\n",
      "(vy2-vy0)'    = -1.086 (y0-y1) exp( -sqrt((x0-x1)^2+(y0-y1)^2) ) / ((x0-x1)^2+(y0-y1)^2)\n",
      "              + -0.997 (y0-y1) exp( -sqrt((x0-x1)^2+(y0-y1)^2) ) / ((x0-x1)^2+(y0-y1)^2)^(3/2)\n",
      "              + -1.084 (y1-y2) exp( -sqrt((x1-x2)^2+(y1-y2)^2) ) / ((x1-x2)^2+(y1-y2)^2)\n",
      "              + -0.996 (y1-y2) exp( -sqrt((x1-x2)^2+(y1-y2)^2) ) / ((x1-x2)^2+(y1-y2)^2)^(3/2)\n",
      "              + 2.158 (y2-y0) exp( -sqrt((x2-x0)^2+(y2-y0)^2) ) / ((x2-x0)^2+(y2-y0)^2)\n",
      "              + 1.993 (y2-y0) exp( -sqrt((x2-x0)^2+(y2-y0)^2) ) / ((x2-x0)^2+(y2-y0)^2)^(3/2)\n",
      "\n",
      "\n",
      "----------------------------------------------------------------------------------------------------\n"
     ]
    }
   ],
   "source": [
    "for i in [57,58,60]:\n",
    "    y3.print_SINDy_nice(noise00002_models[i], sim_list)"
   ]
  },
  {
   "cell_type": "markdown",
   "id": "7e019084",
   "metadata": {},
   "source": [
    "- In all three cases shown here, we can see that the `(vx1-vx2)'` equation contains extraneous terms with very large coefficients\n",
    "- In the first case with `threshold=0.57` we can see that there are no equations in which all the coefficients are zero. Problematic equations are only the `(vx1-vx2)'` equation, the `(y1-y2)'` equation, and the `(vy2-vy0)` equation which contain extraneous terms.\n",
    "- At `threshold=0.58`, we can see that instead of settling into the correct form, thresholding forces the `(y1-y2)'`-equation to be zero, while the extraneous terms remain in the `(vx1-vx2)'` and `(vy2-vy0)` equations.\n",
    "- In the third case, `threshold=0.60`, we can see that the extraneous terms in the `(vy2-vy0)'` equation go to zero."
   ]
  },
  {
   "cell_type": "code",
   "execution_count": null,
   "id": "d7d66ef2",
   "metadata": {},
   "outputs": [],
   "source": []
  },
  {
   "cell_type": "markdown",
   "id": "368500a5",
   "metadata": {},
   "source": [
    "## `noise_level = 3e-5`"
   ]
  },
  {
   "cell_type": "code",
   "execution_count": null,
   "id": "0cc9824f",
   "metadata": {},
   "outputs": [],
   "source": [
    "noise00003_models = y3.load_SINDy_models('data/basic_noisy/SINDy_results/noise_0.00003/model_objs')\n",
    "noise00003_models = [model for model in noise00002_models if model.optimizer.threshold <= 1]"
   ]
  },
  {
   "cell_type": "code",
   "execution_count": 98,
   "id": "e999674b",
   "metadata": {},
   "outputs": [
    {
     "data": {
      "image/png": "[encoded data removed]",
      "text/plain": [
       "<Figure size 500x400 with 1 Axes>"
      ]
     },
     "metadata": {},
     "output_type": "display_data"
    }
   ],
   "source": [
    "ys.plot_complexity_objs(noise00003_models, figsize=(5,4))"
   ]
  },
  {
   "cell_type": "markdown",
   "id": "473ea1ed",
   "metadata": {},
   "source": [
    "The complexity vs. threshold looks exactly the same as the `noise_level=2e-5` case. There is a quick check that I can do to verify this."
   ]
  },
  {
   "cell_type": "code",
   "execution_count": 99,
   "id": "0d3f869c",
   "metadata": {},
   "outputs": [],
   "source": [
    "def check_equations(models1, models2):\n",
    "    '''\n",
    "    Description: Checks to see if the equations of two lists of ps.SINDy() models are the same.\n",
    "    '''\n",
    "    if len(models1) != len(models2):\n",
    "        raise ValueError(\"Lists of models must be of equal length\")\n",
    "    for i in range(len(models1)):\n",
    "        Equation_check = np.array(models1[i].equations())==np.array(models2[i].equations())\n",
    "        TrueMat = np.array(12*[True])\n",
    "        if not np.array_equal(Equation_check, TrueMat):\n",
    "            print(\"Equations do not match at index\", i)\n",
    "            return False\n",
    "    print(\"All model equations match\")\n",
    "    return True"
   ]
  },
  {
   "cell_type": "code",
   "execution_count": 100,
   "id": "ff135bb5",
   "metadata": {},
   "outputs": [
    {
     "name": "stdout",
     "output_type": "stream",
     "text": [
      "All model equations match\n"
     ]
    },
    {
     "data": {
      "text/plain": [
       "True"
      ]
     },
     "execution_count": 100,
     "metadata": {},
     "output_type": "execute_result"
    }
   ],
   "source": [
    "check_equations(noise00002_models, noise00003_models)"
   ]
  },
  {
   "cell_type": "markdown",
   "id": "cad5db4f",
   "metadata": {},
   "source": [
    "So, even though we slightly increased the noise level, SINDy generates *the same sequence of 100 models* from `threshold=0` to `threshold=0.99`.\n",
    "\n",
    "I speculate that this could be due to the fact that the increase in noise is just too small."
   ]
  },
  {
   "cell_type": "markdown",
   "id": "f41eae89",
   "metadata": {},
   "source": [
    "## `noise_level = 4e-5`"
   ]
  },
  {
   "cell_type": "code",
   "execution_count": null,
   "id": "a125b6e0",
   "metadata": {},
   "outputs": [],
   "source": [
    "noise00004_models = y3.load_SINDy_models('data/basic_noisy/SINDy_results/noise_0.00004/model_objs')\n",
    "noise00004_models = [model for model in noise00002_models if model.optimizer.threshold <= 1]"
   ]
  },
  {
   "cell_type": "code",
   "execution_count": null,
   "id": "07d7eec0",
   "metadata": {},
   "outputs": [],
   "source": [
    "ys.plot_complexity_objs(noise00004_models, figsize=(5,4))"
   ]
  },
  {
   "cell_type": "code",
   "execution_count": null,
   "id": "2a52b3b1",
   "metadata": {},
   "outputs": [],
   "source": [
    "y3.print_SINDy_nice(noise00004_models[72], sim_list)"
   ]
  },
  {
   "cell_type": "code",
   "execution_count": 102,
   "id": "591c9e1c",
   "metadata": {},
   "outputs": [
    {
     "name": "stdout",
     "output_type": "stream",
     "text": [
      "All model equations match\n"
     ]
    },
    {
     "data": {
      "text/plain": [
       "True"
      ]
     },
     "execution_count": 102,
     "metadata": {},
     "output_type": "execute_result"
    }
   ],
   "source": [
    "check_equations(noise00003_models, noise00004_models)"
   ]
  },
  {
   "cell_type": "markdown",
   "id": "c29c364d",
   "metadata": {},
   "source": [
    "The same is true here as for above, the equations are all the same and SINDy has generated the same sequence of 100 models."
   ]
  },
  {
   "cell_type": "markdown",
   "id": "44609e2d",
   "metadata": {},
   "source": [
    "## `noise_level = 1e-4`"
   ]
  },
  {
   "cell_type": "code",
   "execution_count": null,
   "id": "1155a5e1",
   "metadata": {},
   "outputs": [],
   "source": [
    "noise00010_models = y3.load_SINDy_models('data/basic_noisy/SINDy_results/noise_0.00010/model_objs')\n",
    "noise00010_models = [model for model in noise00002_models if model.optimizer.threshold <= 1]"
   ]
  },
  {
   "cell_type": "code",
   "execution_count": null,
   "id": "061f7f13",
   "metadata": {},
   "outputs": [],
   "source": [
    "ys.plot_complexity_objs(noise00010_models, figsize=(5,4))"
   ]
  },
  {
   "cell_type": "code",
   "execution_count": null,
   "id": "31ce79c9",
   "metadata": {},
   "outputs": [],
   "source": [
    "y3.print_SINDy_nice(noise00010_models[72], sim_list)"
   ]
  },
  {
   "cell_type": "code",
   "execution_count": 103,
   "id": "9adb8073",
   "metadata": {},
   "outputs": [
    {
     "name": "stdout",
     "output_type": "stream",
     "text": [
      "All model equations match\n"
     ]
    },
    {
     "data": {
      "text/plain": [
       "True"
      ]
     },
     "execution_count": 103,
     "metadata": {},
     "output_type": "execute_result"
    }
   ],
   "source": [
    "check_equations(noise00004_models, noise00010_models)"
   ]
  },
  {
   "cell_type": "markdown",
   "id": "f41b8844",
   "metadata": {},
   "source": [
    "The same is true here, even when we increase by *an order of magnitude*, SINDy generates the same sequence of 100 models."
   ]
  },
  {
   "cell_type": "markdown",
   "id": "bcb733d8",
   "metadata": {},
   "source": [
    "## `noise_level=5e-4`"
   ]
  },
  {
   "cell_type": "code",
   "execution_count": 107,
   "id": "5c417f4b",
   "metadata": {},
   "outputs": [],
   "source": [
    "noise00050_models = y3.load_SINDy_models('data/basic_noisy/SINDy_results/noise_0.00050/model_objs')\n",
    "noise00050_models_to1 = [model for model in noise00050_models if model.optimizer.threshold <= 1]"
   ]
  },
  {
   "cell_type": "code",
   "execution_count": 108,
   "id": "aea12612",
   "metadata": {},
   "outputs": [
    {
     "data": {
      "image/png": "[encoded data removed]",
      "text/plain": [
       "<Figure size 500x400 with 1 Axes>"
      ]
     },
     "metadata": {},
     "output_type": "display_data"
    }
   ],
   "source": [
    "ys.plot_complexity_objs(noise00050_models_to1, figsize=(5,4))"
   ]
  },
  {
   "cell_type": "code",
   "execution_count": 112,
   "id": "7ad61465",
   "metadata": {},
   "outputs": [
    {
     "name": "stdout",
     "output_type": "stream",
     "text": [
      "Equations do not match at index 0\n"
     ]
    },
    {
     "data": {
      "text/plain": [
       "False"
      ]
     },
     "execution_count": 112,
     "metadata": {},
     "output_type": "execute_result"
    }
   ],
   "source": [
    "check_equations(noise00010_models, noise00050_models_to1)"
   ]
  },
  {
   "cell_type": "markdown",
   "id": "dd959c82",
   "metadata": {},
   "source": [
    "Here, we finally found a new sequence of model that SINDy has discovered. Once again, this could be due to the numbers being so small, but here we have found a new sequence of models. Further, a threshold of 1 is not enough to find a model with the right complexity, so we need to increase the threshold higher to see if we can find any better model."
   ]
  },
  {
   "cell_type": "code",
   "execution_count": 113,
   "id": "6324d5e9",
   "metadata": {},
   "outputs": [
    {
     "data": {
      "image/png": "[encoded data removed]",
      "text/plain": [
       "<Figure size 500x400 with 1 Axes>"
      ]
     },
     "metadata": {},
     "output_type": "display_data"
    }
   ],
   "source": [
    "ys.plot_complexity_objs(noise00050_models, figsize=(5,4))"
   ]
  },
  {
   "cell_type": "code",
   "execution_count": 114,
   "id": "f7d343a6",
   "metadata": {},
   "outputs": [
    {
     "data": {
      "text/plain": [
       "140"
      ]
     },
     "execution_count": 114,
     "metadata": {},
     "output_type": "execute_result"
    }
   ],
   "source": [
    "len(noise00050_models)"
   ]
  },
  {
   "cell_type": "code",
   "execution_count": null,
   "id": "192d8ebf",
   "metadata": {},
   "outputs": [
    {
     "name": "stdout",
     "output_type": "stream",
     "text": [
      "====================================================================================================\n",
      "noise level: 0\n",
      "number of trajectories: 200\n",
      "STLSQ threshold: 0.99\n",
      "complexity: 96\n",
      "====================================================================================================\n",
      "(x0-x1)'      = 57.962 vx0-vx1\n",
      "              + -4.310 vy0-vy1\n",
      "              + 56.962 vx1-vx2\n",
      "              + -4.310 vy1-vy2\n",
      "              + 56.962 vx2-vx0\n",
      "              + -4.310 vy2-vy0\n",
      "\n",
      "(vx0-vx1)'    = -230.274 vx0-vx1\n",
      "              + 566.965 vy0-vy1\n",
      "              + -228.365 vx1-vx2\n",
      "              + 566.886 vy1-vy2\n",
      "              + -228.439 vx2-vx0\n",
      "              + 567.224 vy2-vy0\n",
      "              + -7.403 (x0-x1) exp( -sqrt((x0-x1)^2+(y0-y1)^2) ) / ((x0-x1)^2+(y0-y1)^2)\n",
      "              + 2.093 (x0-x1) exp( -sqrt((x0-x1)^2+(y0-y1)^2) ) / ((x0-x1)^2+(y0-y1)^2)^(3/2)\n",
      "              + -36.157 (x1-x2) exp( -sqrt((x1-x2)^2+(y1-y2)^2) ) / ((x1-x2)^2+(y1-y2)^2)\n",
      "              + -38.862 (x2-x0) exp( -sqrt((x2-x0)^2+(y2-y0)^2) ) / ((x2-x0)^2+(y2-y0)^2)\n",
      "\n",
      "(y0-y1)'      = 40.493 vx0-vx1\n",
      "              + 98.315 vy0-vy1\n",
      "              + 40.493 vx1-vx2\n",
      "              + 97.315 vy1-vy2\n",
      "              + 40.493 vx2-vx0\n",
      "              + 97.315 vy2-vy0\n",
      "\n",
      "(vy0-vy1)'    = -590.871 vx0-vx1\n",
      "              + 187.668 vy0-vy1\n",
      "              + -590.373 vx1-vx2\n",
      "              + 188.425 vy1-vy2\n",
      "              + -590.545 vx2-vx0\n",
      "              + 188.683 vy2-vy0\n",
      "              + -7.890 (y0-y1) exp( -sqrt((x0-x1)^2+(y0-y1)^2) ) / ((x0-x1)^2+(y0-y1)^2)\n",
      "              + 2.144 (y0-y1) exp( -sqrt((x0-x1)^2+(y0-y1)^2) ) / ((x0-x1)^2+(y0-y1)^2)^(3/2)\n",
      "              + -36.328 (y1-y2) exp( -sqrt((x1-x2)^2+(y1-y2)^2) ) / ((x1-x2)^2+(y1-y2)^2)\n",
      "              + -39.659 (y2-y0) exp( -sqrt((x2-x0)^2+(y2-y0)^2) ) / ((x2-x0)^2+(y2-y0)^2)\n",
      "\n",
      "\n",
      "----------------------------------------------------------------------------------------------------\n",
      "(x1-x2)'      = 49.037 vx0-vx1\n",
      "              + -15.702 vy0-vy1\n",
      "              + 50.037 vx1-vx2\n",
      "              + -15.702 vy1-vy2\n",
      "              + 49.037 vx2-vx0\n",
      "              + -15.702 vy2-vy0\n",
      "\n",
      "(vx1-vx2)'    = -961.494 vx0-vx1\n",
      "              + 593.647 vy0-vy1\n",
      "              + -962.128 vx1-vx2\n",
      "              + 593.318 vy1-vy2\n",
      "              + -961.356 vx2-vx0\n",
      "              + 593.511 vy2-vy0\n",
      "              + -41.976 (x0-x1) exp( -sqrt((x0-x1)^2+(y0-y1)^2) ) / ((x0-x1)^2+(y0-y1)^2)\n",
      "              + -9.264 (x1-x2) exp( -sqrt((x1-x2)^2+(y1-y2)^2) ) / ((x1-x2)^2+(y1-y2)^2)\n",
      "              + 2.163 (x1-x2) exp( -sqrt((x1-x2)^2+(y1-y2)^2) ) / ((x1-x2)^2+(y1-y2)^2)^(3/2)\n",
      "              + -41.425 (x2-x0) exp( -sqrt((x2-x0)^2+(y2-y0)^2) ) / ((x2-x0)^2+(y2-y0)^2)\n",
      "\n",
      "(y1-y2)'      = -35.727 vx0-vx1\n",
      "              + -146.783 vy0-vy1\n",
      "              + -35.727 vx1-vx2\n",
      "              + -145.783 vy1-vy2\n",
      "              + -35.727 vx2-vx0\n",
      "              + -146.783 vy2-vy0\n",
      "\n",
      "(vy1-vy2)'    = 715.111 vx0-vx1\n",
      "              + 396.717 vy0-vy1\n",
      "              + 715.392 vx1-vx2\n",
      "              + 395.210 vy1-vy2\n",
      "              + 715.481 vx2-vx0\n",
      "              + 396.188 vy2-vy0\n",
      "              + -38.049 (y0-y1) exp( -sqrt((x0-x1)^2+(y0-y1)^2) ) / ((x0-x1)^2+(y0-y1)^2)\n",
      "              + -10.202 (y1-y2) exp( -sqrt((x1-x2)^2+(y1-y2)^2) ) / ((x1-x2)^2+(y1-y2)^2)\n",
      "              + 2.162 (y1-y2) exp( -sqrt((x1-x2)^2+(y1-y2)^2) ) / ((x1-x2)^2+(y1-y2)^2)^(3/2)\n",
      "              + -39.297 (y2-y0) exp( -sqrt((x2-x0)^2+(y2-y0)^2) ) / ((x2-x0)^2+(y2-y0)^2)\n",
      "\n",
      "\n",
      "----------------------------------------------------------------------------------------------------\n",
      "(x2-x0)'      = 183.925 vx0-vx1\n",
      "              + 207.501 vy0-vy1\n",
      "              + 183.925 vx1-vx2\n",
      "              + 207.501 vy1-vy2\n",
      "              + 184.925 vx2-vx0\n",
      "              + 207.501 vy2-vy0\n",
      "\n",
      "(vx2-vx0)'    = -1407.376 vx0-vx1\n",
      "              + 443.156 vy0-vy1\n",
      "              + -1406.854 vx1-vx2\n",
      "              + 443.022 vy1-vy2\n",
      "              + -1408.389 vx2-vx0\n",
      "              + 443.225 vy2-vy0\n",
      "              + -41.105 (x0-x1) exp( -sqrt((x0-x1)^2+(y0-y1)^2) ) / ((x0-x1)^2+(y0-y1)^2)\n",
      "              + -36.588 (x1-x2) exp( -sqrt((x1-x2)^2+(y1-y2)^2) ) / ((x1-x2)^2+(y1-y2)^2)\n",
      "              + -8.858 (x2-x0) exp( -sqrt((x2-x0)^2+(y2-y0)^2) ) / ((x2-x0)^2+(y2-y0)^2)\n",
      "              + 2.135 (x2-x0) exp( -sqrt((x2-x0)^2+(y2-y0)^2) ) / ((x2-x0)^2+(y2-y0)^2)^(3/2)\n",
      "\n",
      "(y2-y0)'      = -15.238 vx0-vx1\n",
      "              + 20.990 vy0-vy1\n",
      "              + -15.238 vx1-vx2\n",
      "              + 20.990 vy1-vy2\n",
      "              + -15.238 vx2-vx0\n",
      "              + 21.990 vy2-vy0\n",
      "\n",
      "(vy2-vy0)'    = -350.983 vx0-vx1\n",
      "              + -72.545 vy0-vy1\n",
      "              + -350.774 vx1-vx2\n",
      "              + -72.899 vy1-vy2\n",
      "              + -350.595 vx2-vx0\n",
      "              + -74.678 vy2-vy0\n",
      "              + -38.622 (y0-y1) exp( -sqrt((x0-x1)^2+(y0-y1)^2) ) / ((x0-x1)^2+(y0-y1)^2)\n",
      "              + -36.742 (y1-y2) exp( -sqrt((x1-x2)^2+(y1-y2)^2) ) / ((x1-x2)^2+(y1-y2)^2)\n",
      "              + -7.046 (y2-y0) exp( -sqrt((x2-x0)^2+(y2-y0)^2) ) / ((x2-x0)^2+(y2-y0)^2)\n",
      "              + 2.111 (y2-y0) exp( -sqrt((x2-x0)^2+(y2-y0)^2) ) / ((x2-x0)^2+(y2-y0)^2)^(3/2)\n",
      "\n",
      "\n",
      "----------------------------------------------------------------------------------------------------\n"
     ]
    }
   ],
   "source": [
    "y3.print_SINDy_nice(noise00050_models[99], sim_list)"
   ]
  },
  {
   "cell_type": "markdown",
   "id": "68183da2",
   "metadata": {},
   "source": [
    "Interestingly, on the last model we just have all of the linear terms active and *none* of the Yukawa terms."
   ]
  },
  {
   "cell_type": "code",
   "execution_count": 123,
   "id": "20d4bf55",
   "metadata": {},
   "outputs": [
    {
     "data": {
      "text/plain": [
       "['vx0-vx1',\n",
       " 'vy0-vy1',\n",
       " 'vx1-vx2',\n",
       " 'vy1-vy2',\n",
       " 'vx2-vx0',\n",
       " 'vy2-vy0',\n",
       " '(x0-x1) exp( -sqrt((x0-x1)^2+(y0-y1)^2) ) / ((x0-x1)^2+(y0-y1)^2)',\n",
       " '(y0-y1) exp( -sqrt((x0-x1)^2+(y0-y1)^2) ) / ((x0-x1)^2+(y0-y1)^2)',\n",
       " '(x0-x1) exp( -sqrt((x0-x1)^2+(y0-y1)^2) ) / ((x0-x1)^2+(y0-y1)^2)^(3/2)',\n",
       " '(y0-y1) exp( -sqrt((x0-x1)^2+(y0-y1)^2) ) / ((x0-x1)^2+(y0-y1)^2)^(3/2)',\n",
       " '(x1-x2) exp( -sqrt((x1-x2)^2+(y1-y2)^2) ) / ((x1-x2)^2+(y1-y2)^2)',\n",
       " '(y1-y2) exp( -sqrt((x1-x2)^2+(y1-y2)^2) ) / ((x1-x2)^2+(y1-y2)^2)',\n",
       " '(x1-x2) exp( -sqrt((x1-x2)^2+(y1-y2)^2) ) / ((x1-x2)^2+(y1-y2)^2)^(3/2)',\n",
       " '(y1-y2) exp( -sqrt((x1-x2)^2+(y1-y2)^2) ) / ((x1-x2)^2+(y1-y2)^2)^(3/2)',\n",
       " '(x2-x0) exp( -sqrt((x2-x0)^2+(y2-y0)^2) ) / ((x2-x0)^2+(y2-y0)^2)',\n",
       " '(y2-y0) exp( -sqrt((x2-x0)^2+(y2-y0)^2) ) / ((x2-x0)^2+(y2-y0)^2)',\n",
       " '(x2-x0) exp( -sqrt((x2-x0)^2+(y2-y0)^2) ) / ((x2-x0)^2+(y2-y0)^2)^(3/2)',\n",
       " '(y2-y0) exp( -sqrt((x2-x0)^2+(y2-y0)^2) ) / ((x2-x0)^2+(y2-y0)^2)^(3/2)']"
      ]
     },
     "execution_count": 123,
     "metadata": {},
     "output_type": "execute_result"
    }
   ],
   "source": [
    "noise00050_models[-1].get_feature_names()"
   ]
  },
  {
   "cell_type": "code",
   "execution_count": 121,
   "id": "626482d5",
   "metadata": {},
   "outputs": [
    {
     "name": "stdout",
     "output_type": "stream",
     "text": [
      "[[   57.67496437     0.            56.67505654     0.\n",
      "     56.67504283     0.             0.             0.\n",
      "      0.             0.             0.             0.\n",
      "      0.             0.             0.             0.\n",
      "      0.             0.        ]\n",
      " [ 3754.72700755  1339.95609647  3753.80417249  1340.08081253\n",
      "   3753.32339894  1338.63644171     0.             0.\n",
      "      0.             0.             0.             0.\n",
      "      0.             0.             0.             0.\n",
      "      0.             0.        ]\n",
      " [   40.49300784    98.315114      40.49295222    97.3151663\n",
      "     40.49294063    97.3151146      0.             0.\n",
      "      0.             0.             0.             0.\n",
      "      0.             0.             0.             0.\n",
      "      0.             0.        ]\n",
      " [-2147.249247     138.80280504 -2147.91497901   138.49950561\n",
      "  -2148.14209726   138.40998594     0.             0.\n",
      "      0.             0.             0.             0.\n",
      "      0.             0.             0.             0.\n",
      "      0.             0.        ]\n",
      " [   49.03713398   -15.70193895    50.03731829   -15.70196563\n",
      "     49.03727448   -15.70207474     0.             0.\n",
      "      0.             0.             0.             0.\n",
      "      0.             0.             0.             0.\n",
      "      0.             0.        ]\n",
      " [-1195.02590953  -667.36400174 -1194.24046286  -666.73889932\n",
      "  -1194.25476855  -666.00270733     0.             0.\n",
      "      0.             0.             0.             0.\n",
      "      0.             0.             0.             0.\n",
      "      0.             0.        ]\n",
      " [  -35.72651665  -146.78288889   -35.72670503  -145.78287467\n",
      "    -35.72664152  -146.78271966     0.             0.\n",
      "      0.             0.             0.             0.\n",
      "      0.             0.             0.             0.\n",
      "      0.             0.        ]\n",
      " [ 1287.5985635    763.67655683  1288.17501625   764.88899558\n",
      "   1288.5402309    763.43745455     0.             0.\n",
      "      0.             0.             0.             0.\n",
      "      0.             0.             0.             0.\n",
      "      0.             0.        ]\n",
      " [  183.92494539   207.50078792   183.92528399   207.50069119\n",
      "    184.92521065   207.50061832     0.             0.\n",
      "      0.             0.             0.             0.\n",
      "      0.             0.             0.             0.\n",
      "      0.             0.        ]\n",
      " [-2603.31868142  -287.93796787 -2603.18147001  -288.68772558\n",
      "  -2602.68635058  -287.9795333      0.             0.\n",
      "      0.             0.             0.             0.\n",
      "      0.             0.             0.             0.\n",
      "      0.             0.        ]\n",
      " [  -15.23811139    20.99045836   -15.23793601    20.99039896\n",
      "    -15.23797317    21.99035463     0.             0.\n",
      "      0.             0.             0.             0.\n",
      "      0.             0.             0.             0.\n",
      "      0.             0.        ]\n",
      " [  494.23673572  -854.04194465   494.3260214   -854.95108712\n",
      "    494.18790632  -853.41005737     0.             0.\n",
      "      0.             0.             0.             0.\n",
      "      0.             0.             0.             0.\n",
      "      0.             0.        ]]\n"
     ]
    }
   ],
   "source": [
    "print(noise00050_models[-1].coefficients())"
   ]
  },
  {
   "cell_type": "markdown",
   "id": "c0282bfc",
   "metadata": {},
   "source": [
    "## Images for poster"
   ]
  },
  {
   "cell_type": "code",
   "execution_count": 223,
   "id": "352ae794",
   "metadata": {},
   "outputs": [
    {
     "data": {
      "image/png": "[encoded data removed]",
      "text/plain": [
       "<Figure size 2400x550 with 4 Axes>"
      ]
     },
     "metadata": {},
     "output_type": "display_data"
    }
   ],
   "source": [
    "heading_fontsize = 24\n",
    "noise_models = [nonoise_models,noise00001_models, noise00010_models, noise00050_models]#, noise00003_models, noise00004_models]\n",
    "noise_levels = [0, 1e-5, 1e-4, 5e-4]\n",
    "figsize = (24,5.5)\n",
    "plt.rcParams['font.size'] = 12\n",
    "fig, axs = plt.subplots(1, len(noise_models), sharey=True,figsize=figsize)\n",
    "for i, model_list in enumerate(noise_models):\n",
    "    # extract hparams and complexity from each model\n",
    "    thresholds = np.array([model.optimizer.threshold for model in model_list])\n",
    "    complexities = np.array([model.complexity for model in model_list])\n",
    "    # plot complexity vs. thresholds\n",
    "    axs[i].plot(thresholds, complexities, 'o')\n",
    "    axs[i].set_title('Noise level = ' + str(noise_levels[i]), fontsize=heading_fontsize)\n",
    "    axs[i].set_ylim(25,225)\n",
    "    axs[i].set_xlabel('Threshold', fontsize=heading_fontsize)\n",
    "    axs[i].hlines(42, 0, np.max(thresholds), colors='k', linestyles='dashed', lw=1, label=\"Simulation Equations\")\n",
    "axs[0].legend(fontsize=heading_fontsize-4)\n",
    "axs[0].set_ylabel('Number of terms', fontsize=heading_fontsize)\n",
    "fig.tight_layout()\n",
    "fig.show()"
   ]
  },
  {
   "cell_type": "code",
   "execution_count": 142,
   "id": "79166f8e",
   "metadata": {},
   "outputs": [
    {
     "data": {
      "image/png": "[encoded data removed]",
      "text/plain": [
       "<Figure size 600x450 with 1 Axes>"
      ]
     },
     "metadata": {},
     "output_type": "display_data"
    }
   ],
   "source": [
    "figsize = (6,4.5)\n",
    "label_fontsize = 18\n",
    "noise_level = 0.0005\n",
    "fig, axs = plt.subplots(1, 1, sharex=True,figsize=figsize)\n",
    "# extract hparams and complexity from each model\n",
    "thresholds = np.array([model.optimizer.threshold for model in noise00050_models])\n",
    "complexities = np.array([model.complexity for model in noise00050_models])\n",
    "# plot complexity vs. thresholds\n",
    "axs.plot(thresholds, complexities, '.')\n",
    "axs.set_ylabel('Number of terms', fontsize=label_fontsize)\n",
    "axs.set_title('Noise level = ' + str(noise_level), fontsize=label_fontsize)\n",
    "axs.set_ylim(25,225)\n",
    "axs.set_xlabel('Threshold', fontsize=label_fontsize)\n",
    "fig.tight_layout()\n",
    "fig.show()"
   ]
  },
  {
   "cell_type": "code",
   "execution_count": 129,
   "id": "c7441c8f",
   "metadata": {},
   "outputs": [
    {
     "data": {
      "text/plain": [
       "18"
      ]
     },
     "execution_count": 129,
     "metadata": {},
     "output_type": "execute_result"
    }
   ],
   "source": [
    "len(nonoise_models[0].get_feature_names())"
   ]
  },
  {
   "cell_type": "code",
   "execution_count": 130,
   "id": "eef35173",
   "metadata": {},
   "outputs": [
    {
     "data": {
      "text/plain": [
       "['vx0-vx1',\n",
       " 'vy0-vy1',\n",
       " 'vx1-vx2',\n",
       " 'vy1-vy2',\n",
       " 'vx2-vx0',\n",
       " 'vy2-vy0',\n",
       " '(x0-x1) exp( -sqrt((x0-x1)^2+(y0-y1)^2) ) / ((x0-x1)^2+(y0-y1)^2)',\n",
       " '(y0-y1) exp( -sqrt((x0-x1)^2+(y0-y1)^2) ) / ((x0-x1)^2+(y0-y1)^2)',\n",
       " '(x0-x1) exp( -sqrt((x0-x1)^2+(y0-y1)^2) ) / ((x0-x1)^2+(y0-y1)^2)^(3/2)',\n",
       " '(y0-y1) exp( -sqrt((x0-x1)^2+(y0-y1)^2) ) / ((x0-x1)^2+(y0-y1)^2)^(3/2)',\n",
       " '(x1-x2) exp( -sqrt((x1-x2)^2+(y1-y2)^2) ) / ((x1-x2)^2+(y1-y2)^2)',\n",
       " '(y1-y2) exp( -sqrt((x1-x2)^2+(y1-y2)^2) ) / ((x1-x2)^2+(y1-y2)^2)',\n",
       " '(x1-x2) exp( -sqrt((x1-x2)^2+(y1-y2)^2) ) / ((x1-x2)^2+(y1-y2)^2)^(3/2)',\n",
       " '(y1-y2) exp( -sqrt((x1-x2)^2+(y1-y2)^2) ) / ((x1-x2)^2+(y1-y2)^2)^(3/2)',\n",
       " '(x2-x0) exp( -sqrt((x2-x0)^2+(y2-y0)^2) ) / ((x2-x0)^2+(y2-y0)^2)',\n",
       " '(y2-y0) exp( -sqrt((x2-x0)^2+(y2-y0)^2) ) / ((x2-x0)^2+(y2-y0)^2)',\n",
       " '(x2-x0) exp( -sqrt((x2-x0)^2+(y2-y0)^2) ) / ((x2-x0)^2+(y2-y0)^2)^(3/2)',\n",
       " '(y2-y0) exp( -sqrt((x2-x0)^2+(y2-y0)^2) ) / ((x2-x0)^2+(y2-y0)^2)^(3/2)']"
      ]
     },
     "execution_count": 130,
     "metadata": {},
     "output_type": "execute_result"
    }
   ],
   "source": [
    "nonoise_models[0].get_feature_names()"
   ]
  },
  {
   "cell_type": "code",
   "execution_count": null,
   "id": "1fa035cc",
   "metadata": {},
   "outputs": [],
   "source": []
  }
 ],
 "metadata": {
  "kernelspec": {
   "display_name": "yukawa-project",
   "language": "python",
   "name": "python3"
  },
  "language_info": {
   "codemirror_mode": {
    "name": "ipython",
    "version": 3
   },
   "file_extension": ".py",
   "mimetype": "text/x-python",
   "name": "python",
   "nbconvert_exporter": "python",
   "pygments_lexer": "ipython3",
   "version": "3.12.7"
  }
 },
 "nbformat": 4,
 "nbformat_minor": 5
}
