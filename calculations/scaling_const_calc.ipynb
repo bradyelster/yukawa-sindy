{
 "cells": [
  {
   "cell_type": "code",
   "execution_count": 18,
   "metadata": {},
   "outputs": [],
   "source": [
    "import numpy as np\n",
    "from scipy import constants as const\n",
    "import pickle as pkl"
   ]
  },
  {
   "cell_type": "markdown",
   "metadata": {},
   "source": [
    "# Calculation of scaling constant using PK-4-relevant parameters"
   ]
  },
  {
   "cell_type": "markdown",
   "id": "fb456395",
   "metadata": {},
   "source": [
    "In order to tie the simulation to real a dusty plasma system we normalize space and time according to the electron Debye length (`lambda_De` or $\\lambda_{De}$, the relevant Yukawa screening length) and the plasma *dust* frequency in Hertz (`f_pd` or $f_{pd}$). These quantities are calculated below. The \"scaling constant\" comes from collecting all these values from the normalizations along with any constants in the equation of motion, so\n",
    "$$\n",
    "\\begin{equation*}\n",
    "    m_d\\frac{d^2r}{dt^2}=\\frac{q_d^2}{4\\pi\\varepsilon_0}\n",
    "    \\left[\n",
    "        \\frac{e^{-r/\\lambda_{Di}}}{\\lambda_{Di}r} + \\frac{e^{-r/\\lambda_{Di}}}{r^2}\n",
    "    \\right],\n",
    "\\end{equation*}\n",
    "$$\n",
    "where $m_d$ is the mass of the dust, $r$ is the interparticle spacing, and $q_d$ is the dust charge, becomes\n",
    "$$\n",
    "\\begin{equation*}\n",
    "    \\frac{d^2\\hat{r}}{(dt^{*})^2}=A\n",
    "    \\left[\n",
    "        \\frac{e^{-\\hat{r}}}{\\hat{r}} + \\frac{e^{-\\hat{r}}}{\\hat{r}^2}\n",
    "    \\right],\n",
    "\\end{equation*}\n",
    "$$\n",
    "where $\\hat{r}=r/\\lambda_{Di}$, $t^*=\\omega_{pd}t$, and $A=\\frac{q_d^2}{4\\pi\\varepsilon_0 m_d \\omega_{pd}^2 \\lambda_{Di}^3}$ is what we refer to as the \"scaling constant.\""
   ]
  },
  {
   "cell_type": "code",
   "execution_count": 22,
   "id": "3c075399",
   "metadata": {},
   "outputs": [
    {
     "name": "stdout",
     "output_type": "stream",
     "text": [
      "scaling constant with electron Debye length and plasma freq in Hz: 0.033390989559415385\n",
      "scaling constant with ion Debye length and plasma freq in rad/s: 4.544937607428946\n",
      "scaling constant with ion Debye length and plasma freq in Hz: 4.544937607428946\n"
     ]
    }
   ],
   "source": [
    "# scaling constant\n",
    "m_d = 3.03e-14  # dust mass in kg\n",
    "mu = m_d / 2    # reduced mass\n",
    "n_d = 1e11      # dust density in m^-3\n",
    "n_e = 2.81e14   # electron density in m^-3\n",
    "q_d = 1e4 * const.e   # dust charge\n",
    "\n",
    "\n",
    "kT_e_eV = 7.75  # T_e in eV from RSI paper\n",
    "kT_e = kT_e_eV * const.e # 1.24e-18 # in Joules (converted from eV)\n",
    "\n",
    "# calculate ion quantities\n",
    "T_i = 293.15 # Room temp in K\n",
    "kT_i = const.k * T_i\n",
    "kT_i_eV = kT_i / const.e\n",
    "\n",
    "# ion Debye length assuming quasineutrality\n",
    "lambda_Di = ( ( const.epsilon_0 * kT_i ) / ( n_e * const.e**2 ) )**(1/2)\n",
    "\n",
    "lambda_De = ( ( const.epsilon_0 * kT_e ) / ( n_e * const.e**2 ) )**(1/2)\n",
    "omega_pd = np.sqrt( ( n_d * q_d**2 ) / ( const.epsilon_0 * m_d ) )\n",
    "f_pd = omega_pd / (2 * np.pi)\n",
    "\n",
    "A_De = q_d**2 / (4 * np.pi * const.epsilon_0 * mu * lambda_De**3 * f_pd**2)\n",
    "print(\"scaling constant with electron Debye length and plasma freq in Hz:\", A_De)\n",
    "\n",
    "A = q_d**2 / (4 * np.pi * const.epsilon_0 * mu * lambda_Di**3 * omega_pd**2)\n",
    "print(\"scaling constant with ion Debye length and plasma freq in rad/s:\", A)\n",
    "\n",
    "A_fpd = q_d**2 / (4 * np.pi * const.epsilon_0 * mu * lambda_Di**3 * f_pd**2)\n",
    "print(\"scaling constant with ion Debye length and plasma freq in Hz:\", A)"
   ]
  },
  {
   "cell_type": "markdown",
   "metadata": {},
   "source": [
    "Save the scaling constant in the working directory using pickle."
   ]
  },
  {
   "cell_type": "code",
   "execution_count": 23,
   "metadata": {},
   "outputs": [],
   "source": [
    "with open('../scaling_const.float', 'wb') as f:\n",
    "    pkl.dump(A, f, pkl.HIGHEST_PROTOCOL)"
   ]
  },
  {
   "cell_type": "code",
   "execution_count": 15,
   "id": "e86055e0",
   "metadata": {},
   "outputs": [
    {
     "name": "stdout",
     "output_type": "stream",
     "text": [
      "electron Debye length 0.0012354127099723797 m\n",
      "ion Debye length: 7.058100095522309e-05 m\n",
      "plasma Debye length: 6.676652799554636e-05 m\n",
      "electron Debye length (px): 88.24376499802712\n",
      "ion Debye length (px): 5.041500068230221\n"
     ]
    }
   ],
   "source": [
    "print(\"electron Debye length\", lambda_De, \"m\")\n",
    "print(\"ion Debye length:\", lambda_Di, \"m\")\n",
    "lambda_D = lambda_De*lambda_Di / ( lambda_De + lambda_Di )\n",
    "print(\"plasma Debye length:\", lambda_D, \"m\")\n",
    "\n",
    "# in units of PK-4 camera pixels\n",
    "px_dim = 14e-6\n",
    "lambda_De_px = lambda_De / px_dim\n",
    "print(\"electron Debye length (px):\", lambda_De_px)\n",
    "lambda_Di_px = lambda_Di / px_dim\n",
    "print(\"ion Debye length (px):\", lambda_Di_px)"
   ]
  },
  {
   "cell_type": "markdown",
   "id": "b0d5a920",
   "metadata": {},
   "source": [
    "We can interpret this scaling constant as proportional to a ratio of energies, particularly the electrostatic Coulomb potential energy and the electron thermal kinetic energy. We show this here:\n",
    "$$\n",
    "\\begin{align*}\n",
    "    A &= \\frac{q_d^2}{4\\pi\\varepsilon_0\\lambda_{Di}} \\frac{1}{m_d \\omega_{pd}^2\\lambda_{Di}^2} \\\\\n",
    "      &= \\frac{q_d^2}{4\\pi\\varepsilon_0\\lambda_{Di}} \\frac{1}{m_d} \\frac{\\varepsilon_0 m_d}{n_d q_d^2} \\frac{n_i e^2}{\\varepsilon_0 k_B T_i} \\\\\n",
    "      &= \\frac{n_i}{n_d Z_d^2} \\frac{q_d^2}{4\\pi\\varepsilon_0\\lambda_{Di}} \\frac{1}{k_B T_i}\n",
    "\\end{align*}\n",
    "$$\n",
    "where $k_B$ is the Boltzmann constant, $e$ is the fundamental charge, and $Z_d=\\frac{q_d}{e}$.\n",
    "$$\n",
    "\\begin{equation*}\n",
    "  A \\propto \\frac{\\epsilon_{C,d}}{\\epsilon_{th,i}}\n",
    "\\end{equation*}\n",
    "$$\n",
    "with $\\epsilon_{C,d}=\\frac{q_d^2}{4\\pi\\varepsilon_0\\lambda_{Di}}$ and $\\epsilon_{th,i}=k_B T_i$"
   ]
  }
 ],
 "metadata": {
  "kernelspec": {
   "display_name": "Python 3.12.11 ('yukawa-sindy-vetted')",
   "language": "python",
   "name": "python3"
  },
  "language_info": {
   "codemirror_mode": {
    "name": "ipython",
    "version": 3
   },
   "file_extension": ".py",
   "mimetype": "text/x-python",
   "name": "python",
   "nbconvert_exporter": "python",
   "pygments_lexer": "ipython3",
   "version": "3.12.11"
  },
  "orig_nbformat": 4,
  "vscode": {
   "interpreter": {
    "hash": "98d46e98f64ee163222527ccb20c076c625615c644e0fce1ec07415ec7d302a9"
   }
  }
 },
 "nbformat": 4,
 "nbformat_minor": 2
}
