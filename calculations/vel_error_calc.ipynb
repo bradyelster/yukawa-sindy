{
 "cells": [
  {
   "cell_type": "code",
   "execution_count": null,
   "metadata": {},
   "outputs": [],
   "source": [
    "import sys\n",
    "sys.path.append('../')\n",
    "import Yukawa_SINDy as ys\n",
    "import numpy as np\n",
    "import matplotlib.pyplot as plt\n",
    "from pysindy.differentiation import FiniteDifference\n",
    "from scipy.optimize import curve_fit\n",
    "\n",
    "# import scaling constant from working directory\n",
    "import pickle as pkl\n",
    "with open('../scaling_const.float','rb') as f:\n",
    "    A = pkl.load(f)\n",
    "\n",
    "# ignore warnings generated from using LaTeX coding in matplotlib label strings\n",
    "from warnings import filterwarnings\n",
    "filterwarnings('ignore', message = 'invalid escape sequence')"
   ]
  },
  {
   "cell_type": "code",
   "execution_count": null,
   "metadata": {},
   "outputs": [],
   "source": [
    "# generate data and show\n",
    "sim  = ys.Yukawa_simulation()\n",
    "sim.simulate(5,x0=0.5,v0=0.01,scaled=True)\n",
    "sim.plot()"
   ]
  },
  {
   "cell_type": "code",
   "execution_count": null,
   "metadata": {},
   "outputs": [],
   "source": [
    "def plot_vel_comparison(true_vel, fd_vel, t):\n",
    "    '''\n",
    "    Desc: Creates 2 subplots showing the velocity calculated by 'solve_ivp' (the \"true\" velocity) and\n",
    "    that calculated by the finite difference method, as well as the abs. value of the  difference \n",
    "    between them (the \"abs. error\").\n",
    "    '''\n",
    "    fig, axs = plt.subplots(1,2, sharex=True, figsize=(10,5))\n",
    "    axs[0].plot(t, true_vel, lw = 2, label=\"True velocity\")\n",
    "    axs[0].plot(t, fd_vel, '--', label=\"FD velocity\")\n",
    "    axs[0].set_ylabel(\"velocity\")\n",
    "    axs[0].set_xlim((0,5))\n",
    "    axs[0].legend()\n",
    "\n",
    "    axs[1].plot(t, np.abs(true_vel - fd_vel))\n",
    "    axs[1].set_ylabel(\"abs. error\")\n",
    "\n",
    "    fig.suptitle(\"Comparison of FD and true velocity vs. time\")\n",
    "    fig.supxlabel(\"time ($\\omega_{pd}$)\")\n",
    "    fig.tight_layout()\n",
    "\n",
    "    return fig, axs"
   ]
  },
  {
   "cell_type": "code",
   "execution_count": null,
   "metadata": {},
   "outputs": [],
   "source": [
    "# calculate velocities from clean position data\n",
    "vel_clean = sim.x[:,1]\n",
    "fd = FiniteDifference(order=3)\n",
    "vel_calc_clean = fd._differentiate(sim.x[:,0],sim.t)\n",
    "fig, axs = plot_vel_comparison(vel_clean, vel_calc_clean, sim.t)"
   ]
  },
  {
   "cell_type": "code",
   "execution_count": null,
   "metadata": {},
   "outputs": [],
   "source": [
    "noise_level = 0.02\n",
    "if sim.is_noisy:\n",
    "    sim.delete_noise()\n",
    "sim.add_gaussian_noise(noise_level=noise_level)\n",
    "vel_calc_001 = fd._differentiate(sim.x[:,0], sim.t)\n",
    "fig, axs = plot_vel_comparison(vel_clean, vel_calc_001, sim.t)"
   ]
  },
  {
   "cell_type": "code",
   "execution_count": null,
   "metadata": {},
   "outputs": [],
   "source": [
    "sim.plot()"
   ]
  },
  {
   "cell_type": "code",
   "execution_count": null,
   "metadata": {},
   "outputs": [],
   "source": [
    "def plot_noises(clean_pos, noisy_pos, clean_vel, noisy_vel, t):\n",
    "    '''\n",
    "    Desc: plot histograms of the error for position and velocity\n",
    "    '''\n",
    "    only_noise = np.zeros((clean_pos.shape[0],2))\n",
    "    titles = np.empty((1,2), dtype=\"<U8\")\n",
    "    titles[0,0] = \"position noise\"\n",
    "    only_noise[:,0] = noisy_pos - clean_pos\n",
    "    titles[0,1] = \"velocity noise\"\n",
    "    only_noise[:,1] = noisy_vel - clean_vel\n",
    "    std_devs = only_noise.std(axis=0).round(5)\n",
    "    sharex = True\n",
    "    if std_devs[1]/std_devs[0] > 100:\n",
    "        sharex = False\n",
    "    # plot\n",
    "    fig, axs = plt.subplots(1,2,figsize=(10,5), sharex=sharex)\n",
    "    for i in range(2):\n",
    "        axs[i].hist(only_noise[:,i])\n",
    "        axs[i].set_title(titles[0,i])\n",
    "        textstr = f\"$\\sigma={std_devs[i]}$\"\n",
    "        axs[i].text(0.05, 0.95, textstr, transform=axs[i].transAxes,\n",
    "                    verticalalignment='top')\n",
    "        axs[i].ticklabel_format(scilimits=(-3,5))\n",
    "        axs[i].set_xlabel(titles[0,i] + \" error\")\n",
    "    fig.supylabel(\"Counts\")\n",
    "    fig.tight_layout()\n",
    "    \n",
    "    return fig, axs\n"
   ]
  },
  {
   "cell_type": "code",
   "execution_count": null,
   "metadata": {},
   "outputs": [],
   "source": [
    "fig, axs = plot_noises(sim.x_clean[:,0], sim.x[:,0], vel_clean, vel_calc_001, sim.t)"
   ]
  },
  {
   "cell_type": "code",
   "execution_count": null,
   "metadata": {},
   "outputs": [],
   "source": [
    "def explore_std_devs(pos_std_dev_list):\n",
    "    '''\n",
    "    Desc:   finds standard deviation of error in velocity for a given \n",
    "            standard deviations in the position.\n",
    "    '''\n",
    "    sim = ys.Yukawa_simulation()\n",
    "    sim.simulate(5)\n",
    "    clean_position = sim.x[:,0]\n",
    "    clean_velocity = sim.x[:,1]\n",
    "\n",
    "    fd = FiniteDifference(order=2)\n",
    "\n",
    "    position_data = np.zeros((sim.x.shape[0], len(pos_std_dev_list)))\n",
    "    velocity_data = np.zeros_like(position_data)\n",
    "    for i, std_dev in enumerate(pos_std_dev_list):\n",
    "        if sim.is_noisy:\n",
    "            sim.delete_noise()\n",
    "        sim.add_gaussian_noise(std_dev)\n",
    "        position_data[:, i] = sim.x[:,0]\n",
    "        velocity_data[:, i] = fd._differentiate(sim.x[:,0], sim.t)\n",
    "    only_noise_pos = position_data - clean_position.reshape(len(clean_position),1)\n",
    "    pos_std_dev_calc = only_noise_pos.std(axis=0)\n",
    "    only_noise_vel = velocity_data - clean_velocity.reshape(len(clean_velocity),1)\n",
    "    vel_std_dev_calc = only_noise_vel.std(axis=0)\n",
    "    return pos_std_dev_calc, vel_std_dev_calc"
   ]
  },
  {
   "cell_type": "code",
   "execution_count": null,
   "metadata": {},
   "outputs": [],
   "source": [
    "pos_std_in = np.logspace(-5,-2,num=40)\n",
    "pos_std_out, vel_std = explore_std_devs(pos_std_in)\n",
    "# linear curve fit\n",
    "coef, _ = curve_fit(lambda x, m, b: m*x + b, pos_std_out, vel_std)\n",
    "fity = coef[0]*pos_std_in + coef[1]\n",
    "# plot\n",
    "fig, ax = plt.subplots()\n",
    "ax.loglog(pos_std_out, vel_std, 'ko')\n",
    "ax.loglog(pos_std_in, fity, '-')\n",
    "ax.set_xlabel(\"Std. dev. of position\")\n",
    "ax.set_ylabel(\"Std. dev. of velocity\")\n",
    "nice_coef = [np.format_float_scientific(x, 3) for x in coef]\n",
    "fit_text = f\"linear fit:\\n$y=({nice_coef[0]})x+({nice_coef[1]})$\"\n",
    "ax.text(0.05, 0.95, fit_text, transform=ax.transAxes, fontsize=14,\n",
    "        verticalalignment='top')\n",
    "fig.tight_layout()"
   ]
  },
  {
   "cell_type": "code",
   "execution_count": null,
   "metadata": {},
   "outputs": [],
   "source": []
  }
 ],
 "metadata": {
  "kernelspec": {
   "display_name": "Python 3.12.11 ('yukawa-sindy-vetted')",
   "language": "python",
   "name": "python3"
  },
  "language_info": {
   "codemirror_mode": {
    "name": "ipython",
    "version": 3
   },
   "file_extension": ".py",
   "mimetype": "text/x-python",
   "name": "python",
   "nbconvert_exporter": "python",
   "pygments_lexer": "ipython3",
   "version": "3.12.11"
  },
  "orig_nbformat": 4,
  "vscode": {
   "interpreter": {
    "hash": "98d46e98f64ee163222527ccb20c076c625615c644e0fce1ec07415ec7d302a9"
   }
  }
 },
 "nbformat": 4,
 "nbformat_minor": 2
}
