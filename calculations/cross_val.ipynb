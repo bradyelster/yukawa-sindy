{
 "cells": [
  {
   "cell_type": "code",
   "execution_count": 4,
   "metadata": {},
   "outputs": [],
   "source": [
    "# change working directory to be repo base\n",
    "import os\n",
    "# os.chdir('/Users/zbh0005/Library/CloudStorage/OneDrive-AuburnUniversity/Documents/Code/yukawa-sindy')\n",
    "os.chdir('../')"
   ]
  },
  {
   "cell_type": "code",
   "execution_count": 5,
   "metadata": {},
   "outputs": [],
   "source": [
    "# import function file\n",
    "import Yukawa_SINDy as ys\n",
    "# import libraries\n",
    "from sklearn.model_selection import KFold\n",
    "from sklearn.metrics import root_mean_squared_error\n",
    "import numpy as np\n",
    "from numpy.linalg  import norm\n",
    "import pysindy as ps\n",
    "import matplotlib.pyplot as plt\n",
    "# ignore warnings generated from using LaTeX coding in matplotlib label strings\n",
    "from warnings import filterwarnings\n",
    "filterwarnings('ignore', message = 'invalid escape sequence')\n",
    "# import scaling constant from working directory and declare as global variable\n",
    "from pickle import load\n",
    "with open('scaling_const.float','rb') as f:\n",
    "    A = load(f)"
   ]
  },
  {
   "cell_type": "code",
   "execution_count": 37,
   "metadata": {},
   "outputs": [],
   "source": [
    "def same_times(list_of_sims:list):\n",
    "    '''\n",
    "    Description: Helper function to check if all simulations in a list of \n",
    "    Yukawa_SINDy.Yukawa_simulation objs have the same time grid. returns \n",
    "    True or False.\n",
    "    '''\n",
    "    same_times:bool = True\n",
    "    t_check = list_of_sims[0].t\n",
    "    for sim in list_of_sims[1:]:\n",
    "        if not np.all(t_check == sim.t):\n",
    "            same_times = False\n",
    "            break\n",
    "    return same_times\n",
    "\n",
    "\n",
    "def kfold_training(x_train:np.ndarray, t_data:np.ndarray, n_folds:int, SINDy_model:ps.SINDy, verbose:bool=False):\n",
    "    '''\n",
    "    Description: takes in training data and associated time data and performs k-fold\n",
    "    cross-validation with k=n_folds. Takes in a ps.SINDy object to extract the library\n",
    "    of terms, feature names, and optimizer. Prints all model if verbose is True.\n",
    "    Returns rmse score from all models and a 3D array of coefficients from all models.\n",
    "    '''\n",
    "    # check dimension of training_data and t_data arrays\n",
    "    if x_train.ndim!=3:\n",
    "        raise Exception('training data has wrong dimensions')\n",
    "    if x_train.shape[1]!=t_data.shape[0]:\n",
    "        raise Exception('time data has wrong dimensions')\n",
    "    # get SINDy parameters from input SINDy model\n",
    "    feature_list = SINDy_model.get_feature_names()\n",
    "    n_features = len(feature_list)\n",
    "    feature_library = SINDy_model.feature_library\n",
    "    feature_names = SINDy_model.feature_names\n",
    "    opt = SINDy_model.optimizer\n",
    "\n",
    "    # check if feature_library is weak or strong, don't need\n",
    "    # to pass time as an arg into the 'fit' method of ps.SINDy\n",
    "    if isinstance(feature_library, ps.WeakPDELibrary):\n",
    "        t_to_fit = None\n",
    "    else:\n",
    "        t_to_fit = t_data\n",
    "    \n",
    "    # perform KFold CV\n",
    "    all_rmse = np.array([])\n",
    "    all_coefs = np.empty((0,x_train.shape[2],n_features))\n",
    "    mdl_list = []\n",
    "    kf = KFold(n_splits=n_folds)\n",
    "    for train, test in kf.split(x_train):\n",
    "        # split training data\n",
    "        x_train_kf = [traj for traj in x_train[train]]\n",
    "        x_test_kf  = [traj for traj in x_train[test]]\n",
    "        # print(f'train shape: {train.shape}')\n",
    "        # print(f'test shape: {test.shape}')\n",
    "        # fit SINDy model using given threshold\n",
    "        mdl = ps.SINDy(optimizer=opt, feature_library=feature_library, feature_names=feature_names)\n",
    "        mdl.fit(x_train_kf, t_to_fit, multiple_trajectories=True)\n",
    "        if verbose: mdl.print()\n",
    "\n",
    "        # get coefs and append to all_coefs\n",
    "        coefs = mdl.coefficients()\n",
    "        coefs = coefs.reshape((1,*coefs.shape))\n",
    "        all_coefs = np.vstack((all_coefs,coefs))\n",
    "\n",
    "        # validate model against test data\n",
    "        # print(f'test traj shape: {x_test_kf[0].shape}') # included for testing\n",
    "        # print(f'coefficients shape: {mdl.coefficients().shape}') # included for testing\n",
    "        rmse = mdl.score(x_test_kf, t=t_data, multiple_trajectories=True, metric=root_mean_squared_error)\n",
    "        all_rmse = np.hstack((all_rmse, rmse))\n",
    "\n",
    "        # need to check: does the loop actually generate different models or just\n",
    "        # re-fit every model during every instance of the loop?\n",
    "        mdl_list.append(mdl)\n",
    "\n",
    "    # pull out model with the lowest error from cross val\n",
    "    best_mdl = mdl_list[all_rmse.argmin()]\n",
    "    best_coefs = best_mdl.coefficients()\n",
    "    # extract average model with average of all coef\n",
    "    avg_coefs = coefs.mean(axis=0)\n",
    "    \n",
    "    return best_coefs, avg_coefs\n",
    "\n",
    "\n",
    "def cross_validate(all_data:list, threshold:float, feature_library:ps.feature_library.base.BaseFeatureLibrary, feature_names, n_folds=10):\n",
    "    '''\n",
    "    Description: This function performs k-fold cross-validation (cv) with k specified by the 'n_folds'\n",
    "    (default 10) argument. Gets help from the 'sklearn.model_selection.KFold' object. Takes a list \n",
    "    of Yukawa_SINDy.Yukawa_simulation objects, a SINDy STLSQ threshold, a feature library \n",
    "    ('pysindy.BaseFeatureLibrary' child objs), and feature names as args. Returns a rank 3 numpy\n",
    "    array of coefficients from the best two models: the one with the lowest error and the average\n",
    "    coefficients of all models generated during k-fold cv. Generates coefficients using the weak\n",
    "    library and makes predictions using those coefficients and the strong library's 'transform'\n",
    "    method.\n",
    "    '''\n",
    "    # check if list of sim objects\n",
    "    for item in all_data:\n",
    "        if not isinstance(item, ys.Yukawa_simulation):\n",
    "            raise TypeError(\"Argument 'all_data' should be list of 'Yukawa_SINDy.Yukawa_simulation' objects\")\n",
    "    # check if all time grids are the same\n",
    "    if not same_times(all_data):\n",
    "        raise Exception(\"All simulations do not have the same time grid.\")\n",
    "    \n",
    "    # extract data from sim objects\n",
    "    x_data = np.array([sim.x for sim in all_data])\n",
    "    t_data = all_data[0].t\n",
    "    n_timesteps = t_data.shape[0]\n",
    "    n_features = all_data[0].x.shape[1]\n",
    "    # print(f'shape and ndims of t_data: {t_data.shape}, {t_data.ndim}') # included for testing\n",
    "\n",
    "    # split data into withhold(testing) and training data\n",
    "    n_trajectories = len(all_data)\n",
    "    rng = np.random.default_rng(seed=10235783)\n",
    "    withhold_idxs = rng.choice(x_data.shape[0], np.floor(0.25 * n_trajectories).astype(int), replace=False)\n",
    "    withhold_idxs.sort()\n",
    "    train_idxs = np.delete(np.arange(len(all_data)), withhold_idxs)\n",
    "    x_train = x_data[train_idxs]\n",
    "    x_withhold = x_data[withhold_idxs]\n",
    "\n",
    "    # declare optimizer with given threshold\n",
    "    opt = ps.STLSQ(threshold=threshold)\n",
    "\n",
    "    # get number of terms in library\n",
    "    rand_data = np.random.random((n_timesteps,n_features))\n",
    "    test_mdl = ps.SINDy(optimizer=opt, feature_library=feature_library, feature_names=feature_names)\n",
    "    test_mdl.fit(rand_data)\n",
    "\n",
    "    # perform kfold cv\n",
    "    best_coefs, avg_coefs = kfold_training(x_train,t_data,n_folds,test_mdl)\n",
    "\n",
    "    # delete unnecessary vars\n",
    "    del test_mdl, rand_data\n",
    "\n",
    "    # obtain rmse scores for best model and average model with withheld data\n",
    "    lib_funcs = feature_library.functions\n",
    "    lib_for_pred = ps.CustomLibrary(library_functions=lib_funcs)\n",
    "    fd = ps.differentiation.FiniteDifference()\n",
    "    all_x_dot_pred_best = np.empty((0,n_features))\n",
    "    all_x_dot_pred_avg = np.empty_like(all_x_dot_pred_best)\n",
    "    all_x_dot_calc = np.empty_like(all_x_dot_pred_best)\n",
    "    for traj in x_withhold:\n",
    "        lib_for_pred.fit(traj)\n",
    "        Phi = lib_for_pred.transform(traj)\n",
    "        # best model prediction\n",
    "        x_dot_pred_best = Phi@best_coefs.T\n",
    "        all_x_dot_pred_best = np.array(np.vstack((all_x_dot_pred_best,x_dot_pred_best)))\n",
    "        # avg model prediction\n",
    "        x_dot_pred_avg = Phi@avg_coefs.T\n",
    "        all_x_dot_pred_avg = np.array(np.vstack((all_x_dot_pred_avg,x_dot_pred_avg)))\n",
    "        # calculated derivatives\n",
    "        x_dot_calc = fd._differentiate(traj,t_data)\n",
    "        all_x_dot_calc = np.array(np.vstack((all_x_dot_calc,x_dot_calc)))\n",
    "    best_rmse = root_mean_squared_error(all_x_dot_calc, all_x_dot_pred_best)\n",
    "    avg_rmse = root_mean_squared_error(all_x_dot_pred_avg, all_x_dot_calc)\n",
    "\n",
    "    best_mdl_out = (best_coefs,best_rmse)\n",
    "    avg_mdl_out = (avg_coefs,avg_rmse)\n",
    "\n",
    "    return best_mdl_out, avg_mdl_out\n"
   ]
  },
  {
   "cell_type": "code",
   "execution_count": 19,
   "metadata": {},
   "outputs": [],
   "source": [
    "sims = ys.generate_training_data(noise_level=0.01,scaled=True)"
   ]
  },
  {
   "cell_type": "code",
   "execution_count": 5,
   "metadata": {},
   "outputs": [
    {
     "data": {
      "image/png": "[encoded data removed]",
      "text/plain": [
       "<Figure size 800x600 with 1 Axes>"
      ]
     },
     "metadata": {},
     "output_type": "display_data"
    }
   ],
   "source": [
    "sims[77].plot()"
   ]
  },
  {
   "cell_type": "code",
   "execution_count": 36,
   "metadata": {},
   "outputs": [
    {
     "name": "stderr",
     "output_type": "stream",
     "text": [
      "/opt/anaconda3/envs/yukawa-sindy-vetted/lib/python3.12/site-packages/pysindy/optimizers/stlsq.py:191: UserWarning: Sparsity parameter is too big (0.4) and eliminated all coefficients\n",
      "  warnings.warn(\n"
     ]
    },
    {
     "ename": "TypeError",
     "evalue": "concatenate() got an unexpected keyword argument 'dtype'",
     "output_type": "error",
     "traceback": [
      "\u001b[31m---------------------------------------------------------------------------\u001b[39m",
      "\u001b[31mTypeError\u001b[39m                                 Traceback (most recent call last)",
      "\u001b[36mCell\u001b[39m\u001b[36m \u001b[39m\u001b[32mIn[36]\u001b[39m\u001b[32m, line 6\u001b[39m\n\u001b[32m      3\u001b[39m weak_lib, strong_lib = ys.generate_libraries(t_data)\n\u001b[32m      4\u001b[39m feature_names = [\u001b[33m'\u001b[39m\u001b[33mx\u001b[39m\u001b[33m'\u001b[39m, \u001b[33m'\u001b[39m\u001b[33mv\u001b[39m\u001b[33m'\u001b[39m]\n\u001b[32m----> \u001b[39m\u001b[32m6\u001b[39m best_mdl_out, avg_mdl_out = \u001b[43mcross_validate\u001b[49m\u001b[43m(\u001b[49m\u001b[43msims\u001b[49m\u001b[43m,\u001b[49m\u001b[43m \u001b[49m\u001b[43mthreshold\u001b[49m\u001b[43m,\u001b[49m\u001b[43m \u001b[49m\u001b[43mweak_lib\u001b[49m\u001b[43m,\u001b[49m\u001b[43m \u001b[49m\u001b[43mfeature_names\u001b[49m\u001b[43m)\u001b[49m\n\u001b[32m      8\u001b[39m \u001b[38;5;66;03m# # unpack results\u001b[39;00m\n\u001b[32m      9\u001b[39m \u001b[38;5;66;03m# best_coefs = best_mdl_out[0]\u001b[39;00m\n\u001b[32m     10\u001b[39m \u001b[38;5;66;03m# best_complexity = norm(best_mdl_out[0], ord=0)\u001b[39;00m\n\u001b[32m   (...)\u001b[39m\u001b[32m     19\u001b[39m \u001b[38;5;66;03m# print(\"  avg rmse:\", avg_rmse)\u001b[39;00m\n\u001b[32m     20\u001b[39m \u001b[38;5;66;03m# print(\"complexity:\", best_complexity)\u001b[39;00m\n",
      "\u001b[36mCell\u001b[39m\u001b[36m \u001b[39m\u001b[32mIn[35]\u001b[39m\u001b[32m, line 146\u001b[39m, in \u001b[36mcross_validate\u001b[39m\u001b[34m(all_data, threshold, feature_library, feature_names, n_folds)\u001b[39m\n\u001b[32m    144\u001b[39m \u001b[38;5;66;03m# avg model prediction\u001b[39;00m\n\u001b[32m    145\u001b[39m x_dot_pred_avg = Phi\u001b[38;5;129m@avg_coefs\u001b[39m.T\n\u001b[32m--> \u001b[39m\u001b[32m146\u001b[39m all_x_dot_pred_avg = \u001b[43mnp\u001b[49m\u001b[43m.\u001b[49m\u001b[43mvstack\u001b[49m\u001b[43m(\u001b[49m\u001b[43m(\u001b[49m\u001b[43mall_x_dot_pred_avg\u001b[49m\u001b[43m,\u001b[49m\u001b[43mx_dot_pred_avg\u001b[49m\u001b[43m)\u001b[49m\u001b[43m)\u001b[49m\n\u001b[32m    147\u001b[39m \u001b[38;5;66;03m# calculated derivatives\u001b[39;00m\n\u001b[32m    148\u001b[39m x_dot_calc = fd._differentiate(traj,t_data)\n",
      "\u001b[36mFile \u001b[39m\u001b[32m/opt/anaconda3/envs/yukawa-sindy-vetted/lib/python3.12/site-packages/pysindy/utils/axes.py:98\u001b[39m, in \u001b[36mAxesArray.__array_function__\u001b[39m\u001b[34m(self, func, types, args, kwargs)\u001b[39m\n\u001b[32m     96\u001b[39m \u001b[38;5;28;01mdef\u001b[39;00m\u001b[38;5;250m \u001b[39m\u001b[34m__array_function__\u001b[39m(\u001b[38;5;28mself\u001b[39m, func, types, args, kwargs):\n\u001b[32m     97\u001b[39m     \u001b[38;5;28;01mif\u001b[39;00m func \u001b[38;5;129;01mnot\u001b[39;00m \u001b[38;5;129;01min\u001b[39;00m HANDLED_FUNCTIONS:\n\u001b[32m---> \u001b[39m\u001b[32m98\u001b[39m         arr = \u001b[38;5;28;43msuper\u001b[39;49m\u001b[43m(\u001b[49m\u001b[43mAxesArray\u001b[49m\u001b[43m,\u001b[49m\u001b[43m \u001b[49m\u001b[38;5;28;43mself\u001b[39;49m\u001b[43m)\u001b[49m\u001b[43m.\u001b[49m\u001b[43m__array_function__\u001b[49m\u001b[43m(\u001b[49m\u001b[43mfunc\u001b[49m\u001b[43m,\u001b[49m\u001b[43m \u001b[49m\u001b[43mtypes\u001b[49m\u001b[43m,\u001b[49m\u001b[43m \u001b[49m\u001b[43margs\u001b[49m\u001b[43m,\u001b[49m\u001b[43m \u001b[49m\u001b[43mkwargs\u001b[49m\u001b[43m)\u001b[49m\n\u001b[32m     99\u001b[39m         \u001b[38;5;28;01mif\u001b[39;00m \u001b[38;5;28misinstance\u001b[39m(arr, np.ndarray):\n\u001b[32m    100\u001b[39m             \u001b[38;5;28;01mreturn\u001b[39;00m AxesArray(arr, axes=\u001b[38;5;28mself\u001b[39m.\u001b[34m__dict__\u001b[39m)\n",
      "\u001b[36mFile \u001b[39m\u001b[32m/opt/anaconda3/envs/yukawa-sindy-vetted/lib/python3.12/site-packages/numpy/core/shape_base.py:289\u001b[39m, in \u001b[36mvstack\u001b[39m\u001b[34m(tup, dtype, casting)\u001b[39m\n\u001b[32m    287\u001b[39m \u001b[38;5;28;01mif\u001b[39;00m \u001b[38;5;129;01mnot\u001b[39;00m \u001b[38;5;28misinstance\u001b[39m(arrs, \u001b[38;5;28mlist\u001b[39m):\n\u001b[32m    288\u001b[39m     arrs = [arrs]\n\u001b[32m--> \u001b[39m\u001b[32m289\u001b[39m \u001b[38;5;28;01mreturn\u001b[39;00m \u001b[43m_nx\u001b[49m\u001b[43m.\u001b[49m\u001b[43mconcatenate\u001b[49m\u001b[43m(\u001b[49m\u001b[43marrs\u001b[49m\u001b[43m,\u001b[49m\u001b[43m \u001b[49m\u001b[32;43m0\u001b[39;49m\u001b[43m,\u001b[49m\u001b[43m \u001b[49m\u001b[43mdtype\u001b[49m\u001b[43m=\u001b[49m\u001b[43mdtype\u001b[49m\u001b[43m,\u001b[49m\u001b[43m \u001b[49m\u001b[43mcasting\u001b[49m\u001b[43m=\u001b[49m\u001b[43mcasting\u001b[49m\u001b[43m)\u001b[49m\n",
      "\u001b[36mFile \u001b[39m\u001b[32m/opt/anaconda3/envs/yukawa-sindy-vetted/lib/python3.12/site-packages/pysindy/utils/axes.py:106\u001b[39m, in \u001b[36mAxesArray.__array_function__\u001b[39m\u001b[34m(self, func, types, args, kwargs)\u001b[39m\n\u001b[32m    104\u001b[39m \u001b[38;5;28;01mif\u001b[39;00m \u001b[38;5;129;01mnot\u001b[39;00m \u001b[38;5;28mall\u001b[39m(\u001b[38;5;28missubclass\u001b[39m(t, AxesArray) \u001b[38;5;28;01mfor\u001b[39;00m t \u001b[38;5;129;01min\u001b[39;00m types):\n\u001b[32m    105\u001b[39m     \u001b[38;5;28;01mreturn\u001b[39;00m \u001b[38;5;28mNotImplemented\u001b[39m\n\u001b[32m--> \u001b[39m\u001b[32m106\u001b[39m \u001b[38;5;28;01mreturn\u001b[39;00m \u001b[43mHANDLED_FUNCTIONS\u001b[49m\u001b[43m[\u001b[49m\u001b[43mfunc\u001b[49m\u001b[43m]\u001b[49m\u001b[43m(\u001b[49m\u001b[43m*\u001b[49m\u001b[43margs\u001b[49m\u001b[43m,\u001b[49m\u001b[43m \u001b[49m\u001b[43m*\u001b[49m\u001b[43m*\u001b[49m\u001b[43mkwargs\u001b[49m\u001b[43m)\u001b[49m\n",
      "\u001b[31mTypeError\u001b[39m: concatenate() got an unexpected keyword argument 'dtype'"
     ]
    }
   ],
   "source": [
    "threshold =0.4\n",
    "t_data = sims[0].t\n",
    "weak_lib, strong_lib = ys.generate_libraries(t_data)\n",
    "feature_names = ['x', 'v']\n",
    "\n",
    "best_mdl_out, avg_mdl_out = cross_validate(sims, threshold, weak_lib, feature_names)\n",
    "\n",
    "# unpack results\n",
    "best_coefs = best_mdl_out[0]\n",
    "best_complexity = norm(best_mdl_out[0], ord=0)\n",
    "best_rmse = best_mdl_out[1]\n",
    "avg_coefs = avg_mdl_out[0]\n",
    "avg_complexity = norm(avg_mdl_out[0], ord=0)\n",
    "avg_rmse = avg_mdl_out[1]\n",
    "\n",
    "print(\" best rmse:\", best_rmse)\n",
    "print(\"complexity:\", best_complexity)\n",
    "print()\n",
    "print(\"  avg rmse:\", avg_rmse)\n",
    "print(\"complexity:\", best_complexity)"
   ]
  },
  {
   "cell_type": "code",
   "execution_count": 31,
   "metadata": {},
   "outputs": [
    {
     "data": {
      "text/plain": [
       "array([[5.67700883e-03, 4.83172486e+00],\n",
       "       [2.03613507e-02, 5.05194029e+00],\n",
       "       [1.58725009e-02, 4.86911542e+00],\n",
       "       ...,\n",
       "       [2.12641086e+00, 1.02696131e-05],\n",
       "       [2.12526838e+00, 1.01967572e-05],\n",
       "       [2.10703480e+00, 1.02271005e-05]])"
      ]
     },
     "execution_count": 31,
     "metadata": {},
     "output_type": "execute_result"
    }
   ],
   "source": [
    "np.array(np.vstack((best_mdl_out, avg_mdl_out)))"
   ]
  },
  {
   "cell_type": "code",
   "execution_count": 24,
   "metadata": {},
   "outputs": [
    {
     "data": {
      "text/plain": [
       "AxesArray([], shape=(0, 2), dtype=float64)"
      ]
     },
     "execution_count": 24,
     "metadata": {},
     "output_type": "execute_result"
    }
   ],
   "source": [
    "ps.AxesArray(best_mdl_out, {})"
   ]
  },
  {
   "cell_type": "code",
   "execution_count": 22,
   "metadata": {},
   "outputs": [
    {
     "data": {
      "text/plain": [
       "AxesArray([[5.67700883e-03, 4.83172486e+00],\n",
       "           [2.03613507e-02, 5.05194029e+00],\n",
       "           [1.58725009e-02, 4.86911542e+00],\n",
       "           ...,\n",
       "           [2.12641086e+00, 1.02696131e-05],\n",
       "           [2.12526838e+00, 1.01967572e-05],\n",
       "           [2.10703480e+00, 1.02271005e-05]])"
      ]
     },
     "execution_count": 22,
     "metadata": {},
     "output_type": "execute_result"
    }
   ],
   "source": [
    "avg_mdl_out"
   ]
  },
  {
   "cell_type": "code",
   "execution_count": 29,
   "metadata": {},
   "outputs": [
    {
     "data": {
      "text/plain": [
       "[]"
      ]
     },
     "execution_count": 29,
     "metadata": {},
     "output_type": "execute_result"
    }
   ],
   "source": [
    "avg_mdl_out.ax_spatial"
   ]
  },
  {
   "cell_type": "code",
   "execution_count": null,
   "metadata": {},
   "outputs": [],
   "source": [
    "norm_mat = np.array( [ 10*[1], 10*[A] ] )"
   ]
  },
  {
   "cell_type": "code",
   "execution_count": null,
   "metadata": {},
   "outputs": [],
   "source": [
    "threshold/A"
   ]
  },
  {
   "cell_type": "code",
   "execution_count": null,
   "metadata": {},
   "outputs": [],
   "source": [
    "coef[5]/norm_mat"
   ]
  },
  {
   "cell_type": "code",
   "execution_count": null,
   "metadata": {},
   "outputs": [],
   "source": [
    "coef[1]/norm_mat"
   ]
  },
  {
   "cell_type": "code",
   "execution_count": null,
   "metadata": {},
   "outputs": [],
   "source": [
    "correct_coefs = np.array( [ [0., 1., 0., 0., 0., 0., 0., 0., 0., 0. ], \n",
    "                            [0., 0., 1., 0., 1., 0., 0., 0., 0., 0. ] ] ).reshape((1,2,10))\n",
    "coef_diff = np.abs(coef/norm_mat - correct_coefs)"
   ]
  },
  {
   "cell_type": "code",
   "execution_count": null,
   "metadata": {},
   "outputs": [],
   "source": [
    "coef_diff[5]"
   ]
  },
  {
   "cell_type": "code",
   "execution_count": null,
   "metadata": {},
   "outputs": [],
   "source": [
    "coef_diff[6]"
   ]
  },
  {
   "cell_type": "code",
   "execution_count": null,
   "metadata": {},
   "outputs": [],
   "source": [
    "coef_diff.max()"
   ]
  },
  {
   "cell_type": "code",
   "execution_count": null,
   "metadata": {},
   "outputs": [],
   "source": [
    "coef.mean(axis=0)/norm_mat"
   ]
  },
  {
   "cell_type": "code",
   "execution_count": null,
   "metadata": {},
   "outputs": [],
   "source": []
  }
 ],
 "metadata": {
  "kernelspec": {
   "display_name": "Python 3.12.11 ('yukawa-sindy-vetted')",
   "language": "python",
   "name": "python3"
  },
  "language_info": {
   "codemirror_mode": {
    "name": "ipython",
    "version": 3
   },
   "file_extension": ".py",
   "mimetype": "text/x-python",
   "name": "python",
   "nbconvert_exporter": "python",
   "pygments_lexer": "ipython3",
   "version": "3.12.11"
  },
  "orig_nbformat": 4,
  "vscode": {
   "interpreter": {
    "hash": "98d46e98f64ee163222527ccb20c076c625615c644e0fce1ec07415ec7d302a9"
   }
  }
 },
 "nbformat": 4,
 "nbformat_minor": 2
}
