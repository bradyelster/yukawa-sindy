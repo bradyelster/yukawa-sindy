{
 "cells": [
  {
   "cell_type": "code",
   "execution_count": 28,
   "metadata": {},
   "outputs": [],
   "source": [
    "# change working directory to be repo base\n",
    "import os\n",
    "os.chdir('/Users/zbh0005/Library/CloudStorage/OneDrive-AuburnUniversity/Documents/Code/yukawa-sindy')\n",
    "# import function file\n",
    "import Yukawa_SINDy as ys\n",
    "# import libraries\n",
    "from sklearn.model_selection import KFold\n",
    "import numpy as np\n",
    "import pysindy as ps\n",
    "import matplotlib.pyplot as plt\n",
    "# ignore warnings generated from using LaTeX coding in matplotlib label strings\n",
    "from warnings import filterwarnings\n",
    "filterwarnings('ignore', message = 'invalid escape sequence')"
   ]
  },
  {
   "cell_type": "code",
   "execution_count": 26,
   "metadata": {},
   "outputs": [
    {
     "name": "stdout",
     "output_type": "stream",
     "text": [
      "train: [['traj20-39' 'traj20-39']\n",
      " ['traj40-59' 'traj40-59']\n",
      " ['traj60-79' 'traj60-79']\n",
      " ['traj80-99' 'traj80-99']\n",
      " ['traj100-119' 'traj100-119']\n",
      " ['traj120-139' 'traj120-139']\n",
      " ['traj140-159' 'traj140-159']\n",
      " ['traj160-179' 'traj160-179']\n",
      " ['traj180-199' 'traj180-199']]\n",
      "test: [['traj0-19' 'traj0-19']]\n",
      "------------------------------------------------------------\n",
      "train: [['traj0-19' 'traj0-19']\n",
      " ['traj40-59' 'traj40-59']\n",
      " ['traj60-79' 'traj60-79']\n",
      " ['traj80-99' 'traj80-99']\n",
      " ['traj100-119' 'traj100-119']\n",
      " ['traj120-139' 'traj120-139']\n",
      " ['traj140-159' 'traj140-159']\n",
      " ['traj160-179' 'traj160-179']\n",
      " ['traj180-199' 'traj180-199']]\n",
      "test: [['traj20-39' 'traj20-39']]\n",
      "------------------------------------------------------------\n",
      "train: [['traj0-19' 'traj0-19']\n",
      " ['traj20-39' 'traj20-39']\n",
      " ['traj60-79' 'traj60-79']\n",
      " ['traj80-99' 'traj80-99']\n",
      " ['traj100-119' 'traj100-119']\n",
      " ['traj120-139' 'traj120-139']\n",
      " ['traj140-159' 'traj140-159']\n",
      " ['traj160-179' 'traj160-179']\n",
      " ['traj180-199' 'traj180-199']]\n",
      "test: [['traj40-59' 'traj40-59']]\n",
      "------------------------------------------------------------\n",
      "train: [['traj0-19' 'traj0-19']\n",
      " ['traj20-39' 'traj20-39']\n",
      " ['traj40-59' 'traj40-59']\n",
      " ['traj80-99' 'traj80-99']\n",
      " ['traj100-119' 'traj100-119']\n",
      " ['traj120-139' 'traj120-139']\n",
      " ['traj140-159' 'traj140-159']\n",
      " ['traj160-179' 'traj160-179']\n",
      " ['traj180-199' 'traj180-199']]\n",
      "test: [['traj60-79' 'traj60-79']]\n",
      "------------------------------------------------------------\n",
      "train: [['traj0-19' 'traj0-19']\n",
      " ['traj20-39' 'traj20-39']\n",
      " ['traj40-59' 'traj40-59']\n",
      " ['traj60-79' 'traj60-79']\n",
      " ['traj100-119' 'traj100-119']\n",
      " ['traj120-139' 'traj120-139']\n",
      " ['traj140-159' 'traj140-159']\n",
      " ['traj160-179' 'traj160-179']\n",
      " ['traj180-199' 'traj180-199']]\n",
      "test: [['traj80-99' 'traj80-99']]\n",
      "------------------------------------------------------------\n",
      "train: [['traj0-19' 'traj0-19']\n",
      " ['traj20-39' 'traj20-39']\n",
      " ['traj40-59' 'traj40-59']\n",
      " ['traj60-79' 'traj60-79']\n",
      " ['traj80-99' 'traj80-99']\n",
      " ['traj120-139' 'traj120-139']\n",
      " ['traj140-159' 'traj140-159']\n",
      " ['traj160-179' 'traj160-179']\n",
      " ['traj180-199' 'traj180-199']]\n",
      "test: [['traj100-119' 'traj100-119']]\n",
      "------------------------------------------------------------\n",
      "train: [['traj0-19' 'traj0-19']\n",
      " ['traj20-39' 'traj20-39']\n",
      " ['traj40-59' 'traj40-59']\n",
      " ['traj60-79' 'traj60-79']\n",
      " ['traj80-99' 'traj80-99']\n",
      " ['traj100-119' 'traj100-119']\n",
      " ['traj140-159' 'traj140-159']\n",
      " ['traj160-179' 'traj160-179']\n",
      " ['traj180-199' 'traj180-199']]\n",
      "test: [['traj120-139' 'traj120-139']]\n",
      "------------------------------------------------------------\n",
      "train: [['traj0-19' 'traj0-19']\n",
      " ['traj20-39' 'traj20-39']\n",
      " ['traj40-59' 'traj40-59']\n",
      " ['traj60-79' 'traj60-79']\n",
      " ['traj80-99' 'traj80-99']\n",
      " ['traj100-119' 'traj100-119']\n",
      " ['traj120-139' 'traj120-139']\n",
      " ['traj160-179' 'traj160-179']\n",
      " ['traj180-199' 'traj180-199']]\n",
      "test: [['traj140-159' 'traj140-159']]\n",
      "------------------------------------------------------------\n",
      "train: [['traj0-19' 'traj0-19']\n",
      " ['traj20-39' 'traj20-39']\n",
      " ['traj40-59' 'traj40-59']\n",
      " ['traj60-79' 'traj60-79']\n",
      " ['traj80-99' 'traj80-99']\n",
      " ['traj100-119' 'traj100-119']\n",
      " ['traj120-139' 'traj120-139']\n",
      " ['traj140-159' 'traj140-159']\n",
      " ['traj180-199' 'traj180-199']]\n",
      "test: [['traj160-179' 'traj160-179']]\n",
      "------------------------------------------------------------\n",
      "train: [['traj0-19' 'traj0-19']\n",
      " ['traj20-39' 'traj20-39']\n",
      " ['traj40-59' 'traj40-59']\n",
      " ['traj60-79' 'traj60-79']\n",
      " ['traj80-99' 'traj80-99']\n",
      " ['traj100-119' 'traj100-119']\n",
      " ['traj120-139' 'traj120-139']\n",
      " ['traj140-159' 'traj140-159']\n",
      " ['traj160-179' 'traj160-179']]\n",
      "test: [['traj180-199' 'traj180-199']]\n",
      "------------------------------------------------------------\n"
     ]
    }
   ],
   "source": [
    "X = np.array([['traj0-19', 'traj20-39', 'traj40-59', 'traj60-79', 'traj80-99', 'traj100-119', 'traj120-139', 'traj140-159', 'traj160-179', 'traj180-199'],\n",
    "              ['traj0-19', 'traj20-39', 'traj40-59', 'traj60-79', 'traj80-99', 'traj100-119', 'traj120-139', 'traj140-159', 'traj160-179', 'traj180-199']]).T\n",
    "kf = KFold(n_splits=10)\n",
    "for train, test in kf.split(X):\n",
    "    print('train:', X[train])\n",
    "    print('test:', X[test])\n",
    "    print(60*'-')"
   ]
  },
  {
   "cell_type": "code",
   "execution_count": 23,
   "metadata": {},
   "outputs": [
    {
     "data": {
      "text/plain": [
       "(10, 2)"
      ]
     },
     "execution_count": 23,
     "metadata": {},
     "output_type": "execute_result"
    }
   ],
   "source": [
    "X.T.shape"
   ]
  },
  {
   "cell_type": "code",
   "execution_count": null,
   "metadata": {},
   "outputs": [],
   "source": [
    "X = ['traj0-19', 'traj20-39', 'traj40-59', 'traj60-79', 'traj80-99', 'traj100-119', 'traj120-139', 'traj140-159', 'traj160-179', 'traj180-199']\n",
    "              \n",
    "kf = KFold(n_splits=10)\n",
    "for train, test in kf.split(X):\n",
    "    for idx in train:\n",
    "        print('train:', X[idx])\n",
    "    for idx in test:\n",
    "        print('test:', X[idx])\n",
    "    print(60*'-')"
   ]
  },
  {
   "cell_type": "code",
   "execution_count": 18,
   "metadata": {},
   "outputs": [
    {
     "name": "stdout",
     "output_type": "stream",
     "text": [
      "[2 3] [0 1]\n",
      "[0 1] [2 3]\n"
     ]
    }
   ],
   "source": [
    "X = np.array([[0., 0.], [1., 1.], [-1., -1.], [2., 2.]])\n",
    "y = np.array([0, 1, 0, 1])\n",
    "kf = KFold(n_splits=2)\n",
    "for train, test in kf.split(X):\n",
    "    print(train,test)\n",
    "    X_train, X_test, y_train, y_test = X[train], X[test], y[train], y[test]"
   ]
  },
  {
   "cell_type": "code",
   "execution_count": 162,
   "metadata": {},
   "outputs": [],
   "source": [
    "sims = ys.generate_training_data()"
   ]
  },
  {
   "cell_type": "code",
   "execution_count": 163,
   "metadata": {},
   "outputs": [
    {
     "data": {
      "text/plain": [
       "200"
      ]
     },
     "execution_count": 163,
     "metadata": {},
     "output_type": "execute_result"
    }
   ],
   "source": [
    "len(sims)"
   ]
  },
  {
   "cell_type": "code",
   "execution_count": 181,
   "metadata": {},
   "outputs": [],
   "source": [
    "def same_times(list_of_sims:list):\n",
    "    '''\n",
    "    Description: Helper function to check if all simulations in a list of \n",
    "    Yukawa_SINDy.Yukawa_simulation objs have the same time grid. returns \n",
    "    True or False.\n",
    "    '''\n",
    "    same_times:bool = True\n",
    "    t_check = list_of_sims[0].t\n",
    "    for sim in list_of_sims[1:]:\n",
    "        if not np.all(t_check == sim.t):\n",
    "            same_times = False\n",
    "            break\n",
    "    return same_times\n",
    "\n",
    "\n",
    "def cross_validate(all_data: list):\n",
    "    # check if list of sim objects\n",
    "    for item in all_data:\n",
    "        if not isinstance(item, ys.Yukawa_simulation):\n",
    "            raise TypeError(\"Argument 'all_data' should be list of 'Yukawa_SINDy.Yukawa_simulation' objects\")\n",
    "    # check if all time grids are the same\n",
    "    if not same_times(all_data):\n",
    "        raise Exception(\"All simulations do not have the same time grid.\")\n",
    "    \n",
    "    # extract data from sim objects\n",
    "    x_data = np.array([sim.x for sim in sims])\n",
    "    t_data = sims[0].t\n",
    "\n",
    "    # split data into withhold(testing) and training data\n",
    "    n_trajectories = len(all_data)\n",
    "    rng = np.random.default_rng(seed=10235783)\n",
    "    withhold_idxs = rng.choice(x_data.shape[0], np.floor(0.10 * n_trajectories).astype(int), replace=False)\n",
    "    withhold_idxs.sort()\n",
    "    train_idxs = np.delete(np.arange(len(all_data)), withhold_idxs)\n",
    "    x_train = x_data[train_idxs]\n",
    "    x_withhold = x_data[withhold_idxs]\n",
    "\n",
    "    # perform KFold CV\n",
    "    kf = KFold(n_splits=10)\n",
    "    for train, validation in kf.split(train_idxs):\n",
    "        pass\n",
    "\n",
    "    return x_train, x_withhold\n"
   ]
  },
  {
   "cell_type": "code",
   "execution_count": 182,
   "metadata": {},
   "outputs": [],
   "source": [
    "x_train, x_withhold = cross_validate(sims)"
   ]
  },
  {
   "cell_type": "code",
   "execution_count": null,
   "metadata": {},
   "outputs": [],
   "source": []
  }
 ],
 "metadata": {
  "kernelspec": {
   "display_name": "Python 3.12.11 ('yukawa-sindy-vetted')",
   "language": "python",
   "name": "python3"
  },
  "language_info": {
   "codemirror_mode": {
    "name": "ipython",
    "version": 3
   },
   "file_extension": ".py",
   "mimetype": "text/x-python",
   "name": "python",
   "nbconvert_exporter": "python",
   "pygments_lexer": "ipython3",
   "version": "3.12.11"
  },
  "orig_nbformat": 4,
  "vscode": {
   "interpreter": {
    "hash": "98d46e98f64ee163222527ccb20c076c625615c644e0fce1ec07415ec7d302a9"
   }
  }
 },
 "nbformat": 4,
 "nbformat_minor": 2
}
