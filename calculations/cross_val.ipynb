{
 "cells": [
  {
   "cell_type": "code",
   "execution_count": null,
   "metadata": {},
   "outputs": [],
   "source": [
    "# change working directory to be repo base\n",
    "import os\n",
    "os.chdir('/Users/zbh0005/Library/CloudStorage/OneDrive-AuburnUniversity/Documents/Code/yukawa-sindy')\n",
    "# import function file\n",
    "import Yukawa_SINDy as ys\n",
    "# import libraries\n",
    "from sklearn.model_selection import KFold\n",
    "from sklearn.metrics import root_mean_squared_error\n",
    "import numpy as np\n",
    "import pysindy as ps\n",
    "import matplotlib.pyplot as plt\n",
    "# ignore warnings generated from using LaTeX coding in matplotlib label strings\n",
    "from warnings import filterwarnings\n",
    "filterwarnings('ignore', message = 'invalid escape sequence')"
   ]
  },
  {
   "cell_type": "code",
   "execution_count": null,
   "metadata": {},
   "outputs": [],
   "source": [
    "X = np.array([['traj0-19', 'traj20-39', 'traj40-59', 'traj60-79', 'traj80-99', 'traj100-119', 'traj120-139', 'traj140-159', 'traj160-179', 'traj180-199'],\n",
    "              ['traj0-19', 'traj20-39', 'traj40-59', 'traj60-79', 'traj80-99', 'traj100-119', 'traj120-139', 'traj140-159', 'traj160-179', 'traj180-199']]).T\n",
    "kf = KFold(n_splits=10)\n",
    "for train, test in kf.split(X):\n",
    "    print('train:', X[train])\n",
    "    print('test:', X[test])\n",
    "    print(60*'-')"
   ]
  },
  {
   "cell_type": "code",
   "execution_count": null,
   "metadata": {},
   "outputs": [],
   "source": [
    "X.T.shape"
   ]
  },
  {
   "cell_type": "code",
   "execution_count": null,
   "metadata": {},
   "outputs": [],
   "source": [
    "X = ['traj0-19', 'traj20-39', 'traj40-59', 'traj60-79', 'traj80-99', 'traj100-119', 'traj120-139', 'traj140-159', 'traj160-179', 'traj180-199']\n",
    "              \n",
    "kf = KFold(n_splits=10)\n",
    "for train, test in kf.split(X):\n",
    "    for idx in train:\n",
    "        print('train:', X[idx])\n",
    "    for idx in test:\n",
    "        print('test:', X[idx])\n",
    "    print(60*'-')"
   ]
  },
  {
   "cell_type": "code",
   "execution_count": null,
   "metadata": {},
   "outputs": [],
   "source": [
    "kf.get_n_splits()"
   ]
  },
  {
   "cell_type": "code",
   "execution_count": null,
   "metadata": {},
   "outputs": [],
   "source": [
    "X = np.array([[0., 0.], [1., 1.], [-1., -1.], [2., 2.]])\n",
    "y = np.array([0, 1, 0, 1])\n",
    "kf = KFold(n_splits=2)\n",
    "for train, test in kf.split(X):\n",
    "    print(train,test)\n",
    "    X_train, X_test, y_train, y_test = X[train], X[test], y[train], y[test]"
   ]
  },
  {
   "cell_type": "code",
   "execution_count": null,
   "metadata": {},
   "outputs": [],
   "source": [
    "sims = ys.generate_training_data()"
   ]
  },
  {
   "cell_type": "code",
   "execution_count": null,
   "metadata": {},
   "outputs": [],
   "source": [
    "def same_times(list_of_sims:list):\n",
    "    '''\n",
    "    Description: Helper function to check if all simulations in a list of \n",
    "    Yukawa_SINDy.Yukawa_simulation objs have the same time grid. returns \n",
    "    True or False.\n",
    "    '''\n",
    "    same_times:bool = True\n",
    "    t_check = list_of_sims[0].t\n",
    "    for sim in list_of_sims[1:]:\n",
    "        if not np.all(t_check == sim.t):\n",
    "            same_times = False\n",
    "            break\n",
    "    return same_times\n",
    "\n",
    "\n",
    "def cross_validate(all_data:list, threshold:float, feature_library, feature_names, n_folds=10):\n",
    "    # check if list of sim objects\n",
    "    for item in all_data:\n",
    "        if not isinstance(item, ys.Yukawa_simulation):\n",
    "            raise TypeError(\"Argument 'all_data' should be list of 'Yukawa_SINDy.Yukawa_simulation' objects\")\n",
    "    # check if all time grids are the same\n",
    "    if not same_times(all_data):\n",
    "        raise Exception(\"All simulations do not have the same time grid.\")\n",
    "    \n",
    "    # extract data from sim objects\n",
    "    x_data = np.array([sim.x for sim in sims])\n",
    "    t_data = sims[0].t\n",
    "    n_timesteps = t_data.shape[0]\n",
    "\n",
    "    # split data into withhold(testing) and training data\n",
    "    n_trajectories = len(all_data)\n",
    "    rng = np.random.default_rng(seed=10235783)\n",
    "    withhold_idxs = rng.choice(x_data.shape[0], np.floor(0.10 * n_trajectories).astype(int), replace=False)\n",
    "    withhold_idxs.sort()\n",
    "    train_idxs = np.delete(np.arange(len(all_data)), withhold_idxs)\n",
    "    x_train = x_data[train_idxs]\n",
    "    x_withhold = x_data[withhold_idxs]\n",
    "\n",
    "    # declare optimizer with given threshold\n",
    "    opt = ps.STLSQ(threshold=threshold)\n",
    "\n",
    "    # get number of terms in library\n",
    "    test_mdl = ps.SINDy(feature_library=feature_library, feature_names=feature_names)\n",
    "    feature_list = test_mdl.get_feature_names()\n",
    "    n_features = len(feature_list)\n",
    "    del test_mdl\n",
    "\n",
    "    # perform KFold CV\n",
    "    rmse_kf = []\n",
    "    all_coefs = np.empty((0,t_data.shape[0],n_features))\n",
    "    kf = KFold(n_splits=n_folds)\n",
    "    for train, test in kf.split(train_idxs):\n",
    "        # split training data\n",
    "        x_train_kf = x_train[train]\n",
    "        x_test_kf = x_train[test]\n",
    "        # fit SINDy model using given threshold\n",
    "        mdl = ps.SINDy(optimizer=opt, feature_library=feature_library, feature_names=feature_names)\n",
    "        mdl.fit(x_train_kf, t_data, multiple_trajectories=True)\n",
    "        # validate model against test data\n",
    "        x_dot_predicted = mdl.predict(x_test_kf)\n",
    "        fd = ps.FiniteDifference()\n",
    "        x_dot_calculated = fd._differentiate(x_test_kf)\n",
    "        rmse = root_mean_squared_error(x_dot_calculated, x_dot_predicted)\n",
    "        rmse_kf.append(rmse)\n",
    "        \n",
    "\n",
    "    return x_train, x_withhold\n"
   ]
  },
  {
   "cell_type": "code",
   "execution_count": null,
   "metadata": {},
   "outputs": [],
   "source": [
    "x_train, x_withhold = cross_validate(sims)"
   ]
  }
 ],
 "metadata": {
  "kernelspec": {
   "display_name": "Python 3.12.11 ('yukawa-sindy-vetted')",
   "language": "python",
   "name": "python3"
  },
  "language_info": {
   "codemirror_mode": {
    "name": "ipython",
    "version": 3
   },
   "file_extension": ".py",
   "mimetype": "text/x-python",
   "name": "python",
   "nbconvert_exporter": "python",
   "pygments_lexer": "ipython3",
   "version": "3.12.11"
  },
  "orig_nbformat": 4,
  "vscode": {
   "interpreter": {
    "hash": "98d46e98f64ee163222527ccb20c076c625615c644e0fce1ec07415ec7d302a9"
   }
  }
 },
 "nbformat": 4,
 "nbformat_minor": 2
}
