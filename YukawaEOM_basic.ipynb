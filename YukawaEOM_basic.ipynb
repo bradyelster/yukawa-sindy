{
 "cells": [
  {
   "cell_type": "code",
   "execution_count": 1,
   "id": "ddb864ac-92eb-478c-9f64-8f61713a34a8",
   "metadata": {},
   "outputs": [],
   "source": [
    "# Import libraries\n",
    "import numpy as np\n",
    "from matplotlib import pyplot as plt\n",
    "import pysindy as ps\n",
    "# from Yukawa_SINDy import *"
   ]
  },
  {
   "cell_type": "code",
   "execution_count": 3,
   "id": "28a539ee",
   "metadata": {},
   "outputs": [],
   "source": [
    "# Stuff used in Yukawa_SINDy.py\n",
    "from pysindy.differentiation import FiniteDifference\n",
    "from scipy.integrate import solve_ivp\n",
    "from sklearn.metrics import r2_score\n",
    "from sklearn.metrics import mean_squared_error\n",
    "from sklearn.metrics import root_mean_squared_error # doesn't work, but works in the file 'aps_workshop.ipynb'. why??\n",
    "from sklearn.linear_model import Lasso\n",
    "\n",
    "# For reproducibility\n",
    "np.random.seed(2738) # defined later in function\n",
    "\n",
    "# Solver keywords\n",
    "integrator_keywords = {}\n",
    "integrator_keywords['rtol'] = 1e-12 # set relative tolerance\n",
    "integrator_keywords['method'] = 'LSODA' # # Livermore Solver for Ordinary Differential Equations with Automatic Stiffness Adjustment\n",
    "integrator_keywords['atol'] = 1e-12 # set absolute tolerance"
   ]
  },
  {
   "cell_type": "code",
   "execution_count": 4,
   "id": "db9654b8",
   "metadata": {},
   "outputs": [],
   "source": [
    "# ignore warnings\n",
    "# stuff to hide warnings (doesn't work)\n",
    "import warnings\n",
    "from copy import copy\n",
    "from contextlib import contextmanager\n",
    "from scipy.linalg import LinAlgWarning\n",
    "from sklearn.exceptions import ConvergenceWarning\n",
    "\n",
    "@contextmanager\n",
    "def ignore_specific_warnings():\n",
    "    filters = copy(warnings.filters)\n",
    "    warnings.filterwarnings(\"ignore\", category=ConvergenceWarning)\n",
    "    warnings.filterwarnings(\"ignore\", category=LinAlgWarning)\n",
    "    warnings.filterwarnings(\"ignore\", category=UserWarning)\n",
    "    yield\n",
    "    warnings.filters = filters"
   ]
  },
  {
   "cell_type": "markdown",
   "id": "c60816fc",
   "metadata": {},
   "source": [
    "new line"
   ]
  },
  {
   "cell_type": "markdown",
   "id": "1b78c492",
   "metadata": {},
   "source": [
    "# Code"
   ]
  },
  {
   "cell_type": "code",
   "execution_count": 6,
   "id": "e880add2",
   "metadata": {},
   "outputs": [],
   "source": [
    "'''\n",
    "File:         Yukawa_SINDy.py\n",
    "Written by:   Brooks Howe\n",
    "Last updated: 2024/09/21\n",
    "Description:  Python script containing functions used in\n",
    "              the file 'YukawaEOM_basic.ipynb'.\n",
    "'''\n",
    "\n",
    "# import libraries\n",
    "import numpy as np\n",
    "import matplotlib.pyplot as plt\n",
    "from scipy.integrate import solve_ivp\n",
    "import pysindy as ps\n",
    "from pysindy.differentiation import FiniteDifference\n",
    "from sklearn.linear_model import Lasso\n",
    "from sklearn.metrics import mean_squared_error\n",
    "\n",
    "# Plotting parameters\n",
    "plt.rcParams.update({'font.size': 18})\n",
    "plt.rcParams.update({'figure.figsize': (8,6)})\n",
    "\n",
    "# create 'integrator_keywords' dict for solve_ivp\n",
    "integrator_keywords = {}\n",
    "integrator_keywords['rtol'] = 1e-12 # set relative tolerance\n",
    "integrator_keywords['method'] = 'LSODA' # Livermore Solver for Ordinary Differential Equations with Automatic Stiffness Adjustment\n",
    "integrator_keywords['atol'] = 1e-12 # set absolute tolerance\n",
    "\n",
    "class Simulation:\n",
    "    '''\n",
    "    Description: Parent class for simulation objects.\n",
    "    Attributes:\n",
    "        Simulation parameters\n",
    "            duration: duration of simulation, positional arg\n",
    "            dt: timestep, default 0.001, kwarg\n",
    "            x0: initial position, default 1, kwarg\n",
    "            v0: initial velocity, default 0.01, kwarg\n",
    "        boolean flags:\n",
    "            is_noisy: bool, is data noisy? default False\n",
    "            is_subsampled: bool, is data subsampled? default False\n",
    "        noise_level: standard deviation of gaussian noise added to data,\n",
    "            default 0 (implying no noise)\n",
    "        sample_frac: fraction of data which was subsampled,\n",
    "            default 1 (implying no subsampling)\n",
    "        data variables:\n",
    "            t: time data, default None\n",
    "            t_full: full time data (if subsampled), default None\n",
    "            x: position, velocity data, default None\n",
    "            x_clean: clean data (if noise added), default None\n",
    "            x_fullnoisydata: full noisy data (if subsampled after \n",
    "                noise added), default None\n",
    "\n",
    "\n",
    "    Methods (in the same order they are written in this class):\n",
    "        add_gaussian_noise(noise_level=0.01)\n",
    "            adds gaussian noise to the data with standard deviation noise_level. Does not add\n",
    "            if already noisy. Moves clean data to attribute x_clean, and stores noisy data in \n",
    "            attribute x.\n",
    "        delete_noise()\n",
    "            deletes the noise added to the data and restores the clean data to the attribute x.\n",
    "        subsample(fraction=0.1)\n",
    "            subsamples the data to a fraction of the original data. If data is clean, moves to\n",
    "            attribute x_clean. If data is noisy, moves to attribute x_fullnoisydata. Subsampled\n",
    "            data is saved in attribute x.\n",
    "        restore_data()\n",
    "            restores the full, unsubsampled data to the attribute x.\n",
    "        plot()\n",
    "            plots the data. If clean, plots only the clean data; if noisy, plots both the clean\n",
    "            and noisy data.\n",
    "    '''\n",
    "    ###############################################################################################\n",
    "    # Class Constructor\n",
    "    ###############################################################################################\n",
    "\n",
    "    def __init__(self):\n",
    "        self.duration = None\n",
    "        self.dt = None\n",
    "        self.x0 = None\n",
    "        self.v0 = None\n",
    "        self.is_noisy = False\n",
    "        self.noise_level = 0\n",
    "        self.is_subsampled = False\n",
    "        self.sample_frac = 1\n",
    "\n",
    "        # is this needed? maybe good for storage?\n",
    "        self.t=None\n",
    "        self.t_full = None\n",
    "        self.x=None\n",
    "        self.x_clean=None\n",
    "        self.x_fullnoisydata=None\n",
    "\n",
    "    ###############################################################################################\n",
    "    # Getters and setters\n",
    "    ###############################################################################################\n",
    "\n",
    "    @property\n",
    "    def duration(self):\n",
    "        # print(\"duration getter called\") # for testing\n",
    "        return self._duration\n",
    "    @duration.setter\n",
    "    def duration(self, duration):\n",
    "        # print(\"duration setter called\") # for testing\n",
    "        # if duration >= 10:\n",
    "        #     raise ValueError(\"duration must be less than 10\")\n",
    "        self._duration = duration\n",
    "    \n",
    "    @property\n",
    "    def dt(self):\n",
    "        return self._dt\n",
    "    @dt.setter\n",
    "    def dt(self, dt):\n",
    "        self._dt = dt\n",
    "    \n",
    "    @property\n",
    "    def x0(self):\n",
    "        return self._x0\n",
    "    @x0.setter\n",
    "    def x0(self, x0):\n",
    "        self._x0 = x0\n",
    "    \n",
    "    @property\n",
    "    def v0(self):\n",
    "        return self._v0\n",
    "    @v0.setter\n",
    "    def v0(self, v0):\n",
    "        self._v0 = v0\n",
    "\n",
    "    # Not working for some reason:\n",
    "    # @property\n",
    "    # def is_noisy(self):\n",
    "    #     return self._is_noisy\n",
    "    \n",
    "    # @is_noisy.setter\n",
    "    # def noisy(self, is_noisy):\n",
    "    #     self._is_noisy = is_noisy\n",
    "\n",
    "    @property\n",
    "    def noise_level(self):\n",
    "        return self._noise_level\n",
    "    @noise_level.setter\n",
    "    def noise_level(self, noise_level):\n",
    "        self._noise_level = noise_level\n",
    "\n",
    "    @property\n",
    "    def sample_frac(self):\n",
    "        return self._sample_frac\n",
    "    @sample_frac.setter\n",
    "    def sample_frac(self, sample_frac):\n",
    "        self._sample_frac = sample_frac\n",
    "        \n",
    "    @property\n",
    "    def t(self):\n",
    "        return self._t\n",
    "    @t.setter\n",
    "    def t(self, t):\n",
    "        self._t = t\n",
    "\n",
    "    @property\n",
    "    def t_full(self):\n",
    "        if self._t_full is None:\n",
    "            print(\"t is not subsampled.\")\n",
    "        return self._t_full\n",
    "    @t_full.setter\n",
    "    def t_full(self, t_full):\n",
    "        self._t_full = t_full\n",
    "\n",
    "    @property\n",
    "    def x(self):\n",
    "        if self._x is None:\n",
    "            print(\"No simulation performed. Use simulate() first.\")\n",
    "            return\n",
    "        return self._x\n",
    "    @x.setter\n",
    "    def x(self, x):\n",
    "        self._x = x\n",
    "    \n",
    "    @property\n",
    "    def x_clean(self):\n",
    "        if self._x_clean is None:\n",
    "            print(\"No noise added to x, x is clean.\")\n",
    "        return self._x_clean\n",
    "    @x_clean.setter\n",
    "    def x_clean(self, x_clean):\n",
    "        self._x_clean = x_clean\n",
    "\n",
    "    @property\n",
    "    def x_fullnoisydata(self):\n",
    "        if self._x_fullnoisydata is None:\n",
    "            print(\"x is not subsampled.\")\n",
    "        return self._x_fullnoisydata\n",
    "    @x_fullnoisydata.setter\n",
    "    def x_fullnoisydata(self, x_fullnoisydata):\n",
    "        self._x_fullnoisydata = x_fullnoisydata\n",
    "\n",
    "    ###############################################################################################\n",
    "    # Class Methods\n",
    "    ###############################################################################################\n",
    "\n",
    "    def add_gaussian_noise(self, noise_level=0.01):\n",
    "        if self.x is None:\n",
    "            raise Exception(\"No simulation performed. Use .simulate() first.\")\n",
    "        if self.is_noisy:\n",
    "            raise Exception(\"Data is already noisy, no new noise added.\")\n",
    "        if self.is_subsampled:\n",
    "            raise Exception(\"Cannot add noise to subsampled data, create new sim object to add noise.\")\n",
    "        # Adds noise to data\n",
    "        # generate noise\n",
    "        dims = np.shape(self.x)\n",
    "        rng = np.random.default_rng(seed=2673) # add seed number for reproducibility\n",
    "        noise =  rng.normal(loc=0,scale=noise_level,size=dims)\n",
    "        '''code for normalizing noise to avg dispacement/timestep\n",
    "        # generate noise for position\n",
    "        std_dev = (self.x[:,0].max() - self.x[:,0].min()) / self.x.shape[0] * noise_level\n",
    "        x_noise =  rng.normal(loc=0,scale=std_dev,size=dims[0])\n",
    "        # generate noise for velocity\n",
    "        std_dev = (self.x[:,1].max() - self.x[:,1].min()) / self.x.shape[0] * noise_level\n",
    "        v_noise =  rng.normal(loc=0,scale=std_dev,size=dims[0])\n",
    "        noise =  np.column_stack((x_noise, v_noise))\n",
    "        '''\n",
    "        # add noise to data\n",
    "        self.x_clean = self.x\n",
    "        self.x = self.x + noise\n",
    "        self.is_noisy = True\n",
    "        self.noise_level = noise_level\n",
    "        return self\n",
    "    \n",
    "    def delete_noise(self):\n",
    "        if self.is_noisy:\n",
    "            self.x = self.x_clean\n",
    "            self.x_clean = None\n",
    "            self.is_noisy = False\n",
    "            self.noise_level = 0\n",
    "        else:\n",
    "            raise Exception(\"Data is already clean, no noise removed.\")\n",
    "        return self\n",
    "    \n",
    "    def subsample(self, sample_frac=0.1):\n",
    "        if self.x is None:\n",
    "            raise Exception(\"No simulation performed. Use simulate() first.\")\n",
    "        if self.is_subsampled:\n",
    "            raise Exception(\"Data is already subsampled, no new subsampling performed.\")\n",
    "        # Subsample data\n",
    "        idx = np.arange(self.x.shape[0])\n",
    "        rng = np.random.default_rng(seed=2673) # add seed number for reproducibility\n",
    "        ridx = rng.choice(idx, size = (int(idx.shape[0]*sample_frac)), replace=False, shuffle=False)\n",
    "        ridx.sort()\n",
    "        x_subsampled = self.x[ridx]\n",
    "        t_subsampled = self.t[ridx]\n",
    "        # save data as attributes\n",
    "        if self.is_noisy:\n",
    "            self.x_fullnoisydata = self.x\n",
    "        else:\n",
    "            self.x_clean = self.x\n",
    "        self.x = x_subsampled\n",
    "        self.t_full = self.t\n",
    "        self.t = t_subsampled\n",
    "        self.is_subsampled = True\n",
    "        self.sample_frac = sample_frac\n",
    "        return self\n",
    "    \n",
    "    def restore_data(self):\n",
    "        if self.is_subsampled:\n",
    "            if self.is_noisy:\n",
    "                self.x = self.x_fullnoisydata\n",
    "                self.x_fullnoisydata = None\n",
    "            else:\n",
    "                self.x = self.x_clean\n",
    "                self.x_clean = None\n",
    "            self.is_subsampled = False\n",
    "            self.sample_frac = 1\n",
    "            self.t = self.t_full\n",
    "            self.t_full = None\n",
    "        else:\n",
    "            raise Exception(\"Data was not subsampled.\")\n",
    "        return self\n",
    "    \n",
    "    def plot(self):\n",
    "        if self.x is None:\n",
    "            raise Exception(\"No simulation performed. Use simulate() first.\")\n",
    "        labels = np.array([[\"noisy position\", \"clean position\"], [\"noisy velocity\", \"clean velocity\"]])\n",
    "        plt.xlabel(\"time (s)\")\n",
    "        for i in range(self.x.shape[1]):\n",
    "            if self.is_noisy:\n",
    "                plt.plot(self.t, self.x[:,i], label=labels[i,0])\n",
    "                if self.is_subsampled:\n",
    "                    plt.plot(self.t_full, self.x_clean[:,i], label=labels[i,1])\n",
    "                    plt.title(f\"Randomly sampled {self.sample_frac*100}% of Noisy Data\")\n",
    "                else:\n",
    "                    plt.plot(self.t, self.x_clean[:,i], label=labels[i,1])\n",
    "                    plt.title(\"Noisy Data\")\n",
    "            else:\n",
    "                plt.plot(self.t, self.x[:,i], label=labels[i,1])\n",
    "                if self.is_subsampled:\n",
    "                    plt.title(f\"Randomly sampled {self.sample_frac*100}% of Clean Data\")\n",
    "                else:\n",
    "                    plt.title(\"Clean Data\")\n",
    "        plt.legend()\n",
    "\n",
    "\n",
    "class Yukawa_simulation(Simulation):\n",
    "    '''\n",
    "    Description: Class for simulating the Yukawa equation of motion for a two-body system.\n",
    "                 Inherits from Simulation\n",
    "    Methods (in the same order they are written in this class):\n",
    "        simulate(duration, dt=0.001, x0=1, v0=0.01)\n",
    "            solves the Yukawa equation of motion for given parameters using solve_ivp from scipy.\n",
    "            Data is stored in the attribute x.\n",
    "    '''\n",
    "\n",
    "    ###############################################################################################\n",
    "    # Class Methods\n",
    "    ###############################################################################################\n",
    "\n",
    "    def simulate(self, duration, dt=0.001, x0=1.0, v0=0.01):\n",
    "        # syntax: simulate(3, dt=0.001, x0=1, v0=0.01)\n",
    "        # Generate measurement data\n",
    "        t = np.arange(0, duration, dt)\n",
    "        t_span = (t[0], t[-1])\n",
    "\n",
    "        x0_train = [x0, v0]\n",
    "        def Yukawa_EOM(t, x): return [x[1], ( 1/x[0] + 1/x[0]**2 ) * np.exp( -x[0] ) ]\n",
    "        x_clean = solve_ivp(Yukawa_EOM, t_span, x0_train, t_eval=t, **integrator_keywords).y.T\n",
    "        # save parameters as attributes\n",
    "        self.duration = duration\n",
    "        self.dt = dt\n",
    "        self.x0 = x0\n",
    "        self.v0 = v0\n",
    "        # save data as attributes\n",
    "        self.t=t\n",
    "        self.x=x_clean\n",
    "        return self\n",
    "\n",
    "\n",
    "###############################################################################################\n",
    "# SINDy functions\n",
    "###############################################################################################\n",
    "def set_optimizer(opt_str: str, hparam: float):\n",
    "# Syntax: set_optimizer(\"stlsq\", 0.1)\n",
    "# Description: Sets the optimizer for SINDy model based on the string \"opt_str\"\n",
    "    if opt_str==\"stlsq\":\n",
    "        opt = ps.STLSQ(threshold=hparam,alpha=0.05,verbose=False)\n",
    "        hparam_str = \"threshold\"\n",
    "    elif opt_str=='sr3':\n",
    "        opt = ps.SR3(threshold=hparam, thresholder=\"l1\")\n",
    "        hparam_str = \"threshold\"\n",
    "    elif opt_str=='lasso':\n",
    "        opt = Lasso(alpha=hparam, max_iter=20000, fit_intercept=False)\n",
    "        hparam_str = \"alpha\"\n",
    "    else:\n",
    "        raise TypeError(\"optimizer not recognized\")\n",
    "    return opt, hparam_str\n",
    "\n",
    "\n",
    "def generate_Yukawa_library():\n",
    "    # Syntax: generate_Yukawa_library()\n",
    "    # Description: Generates a library of custom functions\n",
    "    # that can be used for SINDy analysis\n",
    "\n",
    "    # Create library of coefs\n",
    "    library_functions = [\n",
    "        # lambda x: 1.0, get rid of this term because it is being duplicated and causing an error\n",
    "        lambda x: x,\n",
    "        lambda x: np.exp(-x) / x,\n",
    "        lambda x: np.exp(-x) / x**2,\n",
    "        lambda x: np.exp(-x) / x**3,\n",
    "        lambda x: np.exp(-x) / x**4,\n",
    "    ]\n",
    "    library_function_names = [\n",
    "        # lambda x: 1,\n",
    "        lambda x: x,\n",
    "        lambda x: \"exp(-\" + x + \") / \" + x,\n",
    "        lambda x: \"exp(-\" + x + \") / \" + x + \"^2\",\n",
    "        lambda x: \"exp(-\" + x + \") / \" + x + \"^3\",\n",
    "        lambda x: \"exp(-\" + x + \") / \" + x + \"^4\",\n",
    "    ]\n",
    "    custom_library = ps.CustomLibrary(\n",
    "        library_functions=library_functions, function_names=library_function_names\n",
    "    )\n",
    "    return custom_library\n",
    "\n",
    "\n",
    "def fit_Yukawa_model(sim_obj: Yukawa_simulation,opt_str: str='stlsq', hparam: float=0.1, return_hparam_str: bool=False):\n",
    "    # Syntax: fit_Yukawa_model(sim1, 'stlsq', 0.1)\n",
    "    # Description: Fits SINDy model for the Yukawa equation\n",
    "    # with given optimizer and hyperparameter. Optionally \n",
    "    # returns the optimizer used as a string\n",
    "\n",
    "    # set optimizer based on input; library, feature names set for Yukawa\n",
    "    custom_library = generate_Yukawa_library()\n",
    "    feature_names = [\"x\", \"v\"] # feature names to position (x) and velocity (v)\n",
    "    opt, hparam_str = set_optimizer(opt_str, hparam)\n",
    "    \n",
    "    # fit SINDy model\n",
    "    model = ps.SINDy(feature_names=feature_names, optimizer=opt, feature_library=custom_library)\n",
    "    model.fit(sim_obj.x, t=sim_obj.t)\n",
    "    if return_hparam_str:\n",
    "        return model, hparam_str\n",
    "    else:\n",
    "        return model\n",
    "\n",
    "###############################################################################################\n",
    "# Plotting functions\n",
    "###############################################################################################\n",
    "def plot_derivatives(sim_obj: Yukawa_simulation, model: ps.SINDy):\n",
    "    # Syntax: plot_derivatives(sim1, model)\n",
    "    # Description: Plots the predicted and computed\n",
    "    # derivatives of the SINDy model\n",
    "\n",
    "    # Predict derivatives using the learned model\n",
    "    x_dot_test_predicted = model.predict(sim_obj.x)\n",
    "\n",
    "    # Compute derivatives with a finite difference method, for comparison\n",
    "    x_dot_test_computed = model.differentiate(sim_obj.x, t=sim_obj.t)\n",
    "\n",
    "    fig, axs = plt.subplots(sim_obj.x.shape[1], 1, sharex=True, figsize=(7, 9))\n",
    "    for i in range(sim_obj.x.shape[1]):\n",
    "        axs[i].plot(sim_obj.t, x_dot_test_computed[:, i], \"k\", label=\"numerical derivative\")\n",
    "        axs[i].plot(sim_obj.t, x_dot_test_predicted[:, i], \"r--\", label=\"model prediction\")\n",
    "        axs[i].legend()\n",
    "        axs[i].set(xlabel=\"t\", ylabel=r\"$\\dot x_{}$\".format(i))\n",
    "    fig.show()\n",
    "\n",
    "\n",
    "def plot_coefs(model: ps.SINDy, hparam=None, std_dev=None, figsize=(12,5)):\n",
    "# Syntax: plot_coefs(model)\n",
    "# Description: Plots bar chart of coefficient values for each feature in the model.\n",
    "    \n",
    "    title_str = 'Coefficient Values'\n",
    "    # get coefficents and feature names\n",
    "    coefs = model.coefficients().T\n",
    "    coef_names = model.get_feature_names()\n",
    "    # create bar plot of coefficient values\n",
    "    fig, axs = plt.subplots(2, 1, figsize=figsize, sharex=True)#, sharey=True)\n",
    "    for i in range(coefs.shape[1]):\n",
    "        axs[i].bar(coef_names, coefs[:,i])\n",
    "        # axs[i].tick_params(axis='x', labelsize=14) # change label size\n",
    "        # axs[i].tick_params(axis='y', labelsize=14)\n",
    "        axs[i].axhline(y=0, lw=0.75, color='k')\n",
    "        axs[i].set_title('(' + model.feature_names[i] + ')\\' equation')\n",
    "    if hparam is not None:\n",
    "        title_str += \"\\nHyperparameter = \" + str(hparam)\n",
    "        # fig.suptitle('Coefficient Values\\n' + 'hparam = ' + str(hparam), fontsize=16)\n",
    "    if std_dev is not None:\n",
    "        title_str += \", Standard deviation of noise= \" + str(std_dev)\n",
    "\n",
    "    fig.suptitle(title_str, fontsize=16)\n",
    "    fig.tight_layout(pad=2.0)\n",
    "\n",
    "\n",
    "def plot_coef_hist(hspace, \n",
    "                   coefs_array, \n",
    "                   feature_names=[\n",
    "                                    r'$r$',\n",
    "                                    r'$v$',\n",
    "                                    r'$\\frac{e^{-r}}{r}$',\n",
    "                                    r'$\\frac{e^{-v}}{v}$',\n",
    "                                    r'$\\frac{e^{-r}}{r^2}$',\n",
    "                                    r'$\\frac{e^{-v}}{v^2}$',\n",
    "                                    r'$\\frac{e^{-r}}{r^3}$',\n",
    "                                    r'$\\frac{e^{-v}}{v^3}$',\n",
    "                                    r'$\\frac{e^{-r}}{r^4}$',\n",
    "                                    r'$\\frac{e^{-v}}{v^4}$'\n",
    "                                    ],\n",
    "                   figsize=(15,12)):\n",
    "    \n",
    "    # create lists for column and row titles\n",
    "    col_labels = [r'$\\dot{r}$ Equation', r'$\\dot{v}$ Equation']\n",
    "    row_labels = feature_names\n",
    "    # create array of labels for subplots\n",
    "    lets = np.array(list(map(chr, range(97, 123)))).reshape((13,2))\n",
    "    periods = np.full_like(lets, '.')\n",
    "    labels = np.char.add(lets, periods)\n",
    "    # set axis limits\n",
    "    ymin = 0\n",
    "    ymax = 2\n",
    "    xmin = min(hspace) - 0.05\n",
    "    if xmin <= 0:\n",
    "        xmin = 0\n",
    "    xmax = max(hspace)\n",
    "    # plot coefficients as threshold changes, label subplots\n",
    "    fig, axs = plt.subplots(coefs_array.shape[1], coefs_array.shape[2],\n",
    "                            figsize=figsize, sharex=True)#, sharey=True)\n",
    "    for j in range(coefs_array.shape[2]):\n",
    "        for i in range(coefs_array.shape[1]):\n",
    "            axs[i,j].plot(hspace, coefs_array[:,i,j],lw=3)\n",
    "            axs[i,j].set_ylim(ymin=ymin,ymax=ymax)\n",
    "            axs[i,j].set_xlim(xmin=xmin,xmax=xmax)\n",
    "            axs[i,j].tick_params(axis='both', labelsize=14)\n",
    "            # place a text box in upper left in axes coords\n",
    "            textstr = labels[i,j]\n",
    "            axs[i,j].text(xmin + 0.01, (2/3)*ymax, textstr,fontsize=14) #  transform=axs[i,j].transAxes,\n",
    "    # add column and row titles, set x-axis label\n",
    "    for ax, col_label in zip(axs[0], col_labels): # code from https://stackoverflow.com/questions/25812255/row-and-column-headers-in-matplotlibs-subplots\n",
    "        ax.set_title(col_label,fontsize=18)\n",
    "    for ax in axs[-1]:\n",
    "        ax.set_xlabel('Threshold',fontsize=18)\n",
    "    for ax, row_label in zip(axs[:,0], row_labels): \n",
    "        ax.set_ylabel(row_label, rotation=0, loc='bottom', labelpad=50, fontsize=18)\n",
    "\n",
    "    fig.tight_layout()\n",
    "\n",
    "\n",
    "def plot_complexity(complexity, hparams, first, last, step):\n",
    "    ticklist = np.arange(first, last+step, step)\n",
    "    # while len(ticklist) > 10:\n",
    "    #     ticklist = ticklist[0::2] # slice list by taking every other element\n",
    "        # the below does the same thing (maybe?) as the above but with more lines of code\n",
    "        # step = step*2\n",
    "        # ticklist = np.arange(first, last+step, step)\n",
    "    # ticklist = np.append(ticklist, last) # doesn't line up with pattern\n",
    "    plt.figure()\n",
    "    plt.xlabel(\"Threshold Value\")\n",
    "    plt.ylabel(\"Number of terms\")\n",
    "    # plt.xticks(ticklist)\n",
    "    ymax = np.max(complexity)\n",
    "    plt.yticks(np.arange(0, ymax+1, 2))\n",
    "    plt.plot(hparams, complexity, '.')\n",
    "\n",
    "\n",
    "def plot_pareto(train_sim: Yukawa_simulation, test_sim: Yukawa_simulation, threshold_scan, plot_prediction: bool = False):\n",
    "    # calculate x_dot with finite differences from clean test trajectory\n",
    "    fd = FiniteDifference()\n",
    "    xdot_test = fd._differentiate(test_sim.x, test_sim.t)\n",
    "\n",
    "    # create empty list to store rmse values\n",
    "    rmse_values = []\n",
    "    for threshold in threshold_scan:\n",
    "        # fit SINDy model to noisy data\n",
    "        model = fit_Yukawa_model(train_sim, opt_str=\"stlsq\", hparam=threshold)\n",
    "        # predict with test trajectory\n",
    "        xdot_test_predicted = model.predict(test_sim.x, test_sim.t)\n",
    "        # compare trajectory predicted by SINDy model with clean test trajectory\n",
    "        rmse = mean_squared_error(xdot_test, xdot_test_predicted, squared=False)\n",
    "        rmse_values.append(rmse)\n",
    "\n",
    "    if plot_prediction:\n",
    "        _, ax = plt.subplots()\n",
    "        ax.plot(test_sim.t, xdot_test)\n",
    "        ax.plot(test_sim.t, xdot_test_predicted, linestyle='--')\n",
    "\n",
    "    _, ax = plt.subplots(figsize=(5, 5))\n",
    "    ax.plot(threshold_scan, rmse_values)\n",
    "    ax.set(xlabel=\"Threshold\", ylabel=\"RMSE\")\n",
    "    ax.set_ylim(ymin=0, ymax=5)\n",
    "\n",
    "\n",
    "###############################################################################################\n",
    "# MAIN FUNCTIONS\n",
    "###############################################################################################\n",
    "def explore_thresholds(sim_obj: Yukawa_simulation,\n",
    "                       first, last, step,\n",
    "                       verbose=False, plot=False,\n",
    "                       opt_str=\"stlsq\",\n",
    "                       feature_names=None):\n",
    "# Syntax: explore_thresholds(sim1, 0.0, 2.0, 0.1)\n",
    "# Description: fits a SINDy model for thresholds in the parameter space provided\n",
    "# by the arguments, then plots number of terms vs. threshold used.\n",
    "\n",
    "    # create arrays to store complexity, hyperparameters\n",
    "    # feature_names = ['x', 'v']\n",
    "    complexity = np.array([])\n",
    "    hspace = np.arange(first, last+step, step)\n",
    "\n",
    "    coefs = np.empty((0,10,2))\n",
    "    \n",
    "    # Identify optimizer being used\n",
    "    if verbose:\n",
    "        print('optimizer:', opt_str)\n",
    "        print('Std. dev. of noise:', sim_obj.noise_level)\n",
    "        print('------------------------------')\n",
    "    \n",
    "    # scan through different hyperparameters\n",
    "    for hparam in hspace:\n",
    "        noisymodel, hparam_str = fit_Yukawa_model(sim_obj, opt_str=opt_str, hparam=hparam, return_hparam_str=True)\n",
    "        new_coefs = noisymodel.coefficients().T # extract coefficient array from model\n",
    "        new_coefs = new_coefs[np.newaxis, ...] # resize to append\n",
    "        coefs = np.append(coefs, new_coefs, axis=0) # append to 'coefs' array\n",
    "        complexity = np.append(complexity,noisymodel.complexity)\n",
    "        if verbose:\n",
    "            print(hparam_str, '=', round(hparam,3))\n",
    "            noisymodel.print()\n",
    "            print()\n",
    "        # if plot:\n",
    "        #     feature_names = noisymodel.get_feature_names()\n",
    "        #     plot_coefs(noisymodel,hparam=round(hparam,3),std_dev=round(sim_obj.noise_level, 4))\n",
    "\n",
    "        # commented this out because there have been some local minima which are < model.complexity\n",
    "        # stop the loop if noisy model complexity is less than model complexity - 1\n",
    "\n",
    "        # if noisymodel.complexity <= model.complexity-1:\n",
    "        #     break\n",
    "    # ensure that the complexity array is the same size as the hspace array\n",
    "    hspace.resize(complexity.shape)\n",
    "    # take absolute values of all coefs\n",
    "    coefs = np.abs(coefs)\n",
    "\n",
    "    if plot:\n",
    "        if feature_names is None:\n",
    "            # feature_names = noisymodel.get_feature_names()\n",
    "            latex_feature_names = [\n",
    "            r'$r$',\n",
    "            r'$v$',\n",
    "            r'$\\frac{e^{-r}}{r}$',\n",
    "            r'$\\frac{e^{-v}}{v}$',\n",
    "            r'$\\frac{e^{-r}}{r^2}$',\n",
    "            r'$\\frac{e^{-v}}{v^2}$',\n",
    "            r'$\\frac{e^{-r}}{r^3}$',\n",
    "            r'$\\frac{e^{-v}}{v^3}$',\n",
    "            r'$\\frac{e^{-r}}{r^4}$',\n",
    "            r'$\\frac{e^{-v}}{v^4}$'\n",
    "            ]\n",
    "            feature_names = latex_feature_names\n",
    "        plot_complexity(complexity, hspace, first, last, step)\n",
    "        plot_coef_hist(hspace, coefs, feature_names=feature_names)\n",
    "    \n",
    "    # return complexity, hspace, coefs\n",
    "    return\n",
    "\n",
    "\n",
    "def explore_noises(sim_obj: Yukawa_simulation,\n",
    "                   first, last, step, \n",
    "                   verbose=False, plot=False,\n",
    "                   hparam = 0.1,\n",
    "                   opt_str=\"stlsq\",\n",
    "                   ):\n",
    "    # create array of noises to try\n",
    "    noisespace = np.arange(first, last+step, step)\n",
    "    # print optimizer, hparam if desired\n",
    "    if verbose:\n",
    "        print('optimizer:', opt_str)\n",
    "        print('hparam =', hparam)\n",
    "        print('----------------------------')\n",
    "    # scan through different noise levels and fit SINDy model for each one\n",
    "    for noise in noisespace:\n",
    "        # delete noise if any\n",
    "        if sim_obj.is_noisy:\n",
    "            sim_obj.delete_noise()\n",
    "        # add noise with current noise level and fit\n",
    "        sim_obj.add_gaussian_noise(std_dev=noise)\n",
    "        noisymodel = fit_Yukawa_model(sim_obj, opt_str=opt_str, hparam=hparam)\n",
    "        # print model, if desired\n",
    "        if verbose:\n",
    "            print('standard deviation =', round(noise,4))\n",
    "            noisymodel.print()\n",
    "            print()\n",
    "        # plot model coefs, if desired\n",
    "        if plot:\n",
    "            plot_coefs(noisymodel,hparam=round(hparam,3),std_dev=round(noise,4))"
   ]
  },
  {
   "cell_type": "markdown",
   "id": "0ceeb3bd-a1fc-4739-9ec7-c558688b1ce9",
   "metadata": {},
   "source": [
    "# Yukawa equation of motion"
   ]
  },
  {
   "cell_type": "markdown",
   "id": "2248ce4c",
   "metadata": {},
   "source": [
    "## Demonstration of `Yukawa_simulation` class:"
   ]
  },
  {
   "cell_type": "markdown",
   "id": "ed8907f9",
   "metadata": {},
   "source": [
    "We have defined a python object class which will simulate this physical system. Instantiate an instance of `Yukawa_simulation` in order to generate data. Use the `.simulate()` method to simulate, the first argument is the duration of simulation in seconds. Use the `.plot()` method to view the "
   ]
  },
  {
   "cell_type": "code",
   "execution_count": null,
   "id": "1d627ff8",
   "metadata": {},
   "outputs": [],
   "source": [
    "example_sim = Yukawa_simulation()\n",
    "example_sim.simulate(3)#, 0.001, 1, 0.01) # all default values\n",
    "example_sim.plot()"
   ]
  },
  {
   "cell_type": "markdown",
   "id": "10dabe36",
   "metadata": {},
   "source": [
    "Check if the simulation has had noise added to it using the `is_noisy` attribute."
   ]
  },
  {
   "cell_type": "code",
   "execution_count": null,
   "id": "ee366403",
   "metadata": {},
   "outputs": [],
   "source": [
    "example_sim.is_noisy"
   ]
  },
  {
   "cell_type": "markdown",
   "id": "dbb788c1",
   "metadata": {},
   "source": [
    "Add gaussian-distributed noise to the data by using the `.add_gaussian_noise()` method. Default noise standard deviation is $1\\%$."
   ]
  },
  {
   "cell_type": "code",
   "execution_count": null,
   "id": "edea05af",
   "metadata": {},
   "outputs": [],
   "source": [
    "example_sim.add_gaussian_noise()\n",
    "example_sim.plot()"
   ]
  },
  {
   "cell_type": "markdown",
   "id": "5d164caf",
   "metadata": {},
   "source": [
    "Change the noise level by first deleting any noise which was already added using the `.delete_noise()` method. "
   ]
  },
  {
   "cell_type": "code",
   "execution_count": null,
   "id": "bd7d7ef0",
   "metadata": {},
   "outputs": [],
   "source": [
    "example_sim.delete_noise()\n",
    "example_sim.plot()"
   ]
  },
  {
   "cell_type": "markdown",
   "id": "166e30cb",
   "metadata": {},
   "source": [
    "Then, add different noise level by entering desired standard deviation as the first argument of the `.add_gaussian_noise()` method."
   ]
  },
  {
   "cell_type": "code",
   "execution_count": null,
   "id": "315f5de7",
   "metadata": {},
   "outputs": [],
   "source": [
    "example_sim.add_gaussian_noise(0.05)\n",
    "example_sim.plot()"
   ]
  },
  {
   "cell_type": "markdown",
   "id": "15e13f4e",
   "metadata": {},
   "source": [
    "Check standard deviation of added noise with the `noise_level` attribute."
   ]
  },
  {
   "cell_type": "code",
   "execution_count": null,
   "id": "3795c653",
   "metadata": {},
   "outputs": [],
   "source": [
    "example_sim.noise_level"
   ]
  },
  {
   "cell_type": "markdown",
   "id": "2325bf9b",
   "metadata": {},
   "source": [
    "Subsample the noisy (or clean) data using the `.subsample()` method. Randomly samples $10\\%$ of data by default:"
   ]
  },
  {
   "cell_type": "code",
   "execution_count": null,
   "id": "4f59af0b",
   "metadata": {},
   "outputs": [],
   "source": [
    "example_sim.subsample()\n",
    "example_sim.plot()"
   ]
  },
  {
   "cell_type": "markdown",
   "id": "deaa7540",
   "metadata": {},
   "source": [
    "To restore the full data, use the `.restore_data()` method."
   ]
  },
  {
   "cell_type": "code",
   "execution_count": null,
   "id": "651a5529",
   "metadata": {},
   "outputs": [],
   "source": [
    "example_sim.restore_data()\n",
    "example_sim.plot()"
   ]
  },
  {
   "cell_type": "markdown",
   "id": "0c61864c",
   "metadata": {},
   "source": [
    "Note: the program will not add noise to subsampled, clean data:"
   ]
  },
  {
   "cell_type": "code",
   "execution_count": null,
   "id": "9c36a1c7",
   "metadata": {},
   "outputs": [],
   "source": [
    "example_sim.delete_noise()\n",
    "example_sim.subsample()\n",
    "example_sim.add_gaussian_noise()"
   ]
  },
  {
   "cell_type": "markdown",
   "id": "a16f5eb3",
   "metadata": {},
   "source": [
    "All data is stored in the "
   ]
  },
  {
   "cell_type": "code",
   "execution_count": null,
   "id": "caa2980b-1ca0-41ad-bee3-f0159518389b",
   "metadata": {},
   "outputs": [],
   "source": [
    "# Deprecated code:\n",
    "\n",
    "# # x is a two-column vector, first column (x[0]) is position, second column (x[1]) is velocity\n",
    "# # Normalized Yukawa EOM, call all constants 1\n",
    "# def Yukawa_EOM(t, x): return [x[1], ( 1/x[0] + 1/x[0]**2 ) * np.exp( -x[0] ) ]\n",
    "\n",
    "# def simulate_Yukawa(duration, dt=0.001, x0=1, v0=0.01, integrator_keywords=integrator_keywords):\n",
    "#     # Generate measurement data\n",
    "#     t_train = np.arange(0, duration, dt)\n",
    "#     t_train_span = (t_train[0], t_train[-1])\n",
    "\n",
    "#     x0_train = [x0, v0]\n",
    "#     x_clean = solve_ivp(Yukawa_EOM, t_train_span, x0_train, t_eval=t_train, **integrator_keywords).y.T\n",
    "#     return t_train, x_clean\n",
    "\n",
    "# def plot_position_and_velocity(t_train, x_clean):\n",
    "#     plt.xlabel(\"time (a. u.)\")\n",
    "#     plt.plot(t_train, x_clean[:,0], label='position')\n",
    "#     plt.plot(t_train, x_clean[:,1], 'r', label='velocity')\n",
    "#     plt.legend()\n",
    "#     plt.show()"
   ]
  },
  {
   "cell_type": "markdown",
   "id": "ce2d7505",
   "metadata": {},
   "source": [
    "## Fitting a SINDy model to clean data"
   ]
  },
  {
   "cell_type": "markdown",
   "id": "0e68cef8",
   "metadata": {},
   "source": [
    "We will begin looking at a dusty-plasma-relevant system and trying to use SINDy to deduce the equations of motion directly from simulated data. We will begin by using clean data with no noise added, followed by adding Gaussian-distributed noise to the data to test the robustness of the method in the specific case of two particles which interact purely with the Yukawa potential."
   ]
  },
  {
   "cell_type": "markdown",
   "id": "8771443b",
   "metadata": {},
   "source": [
    "We will simulate a two-particle system which evolves according to the Yukawa equations of motion,\n",
    "\n",
    "$\\frac{dx}{dt} = v$\n",
    "\n",
    "$\\frac{dv}{dt} = \\left( \\frac{1}{x} + \\frac{1}{x^2} \\right) e^{-x} $,\n",
    "\n",
    "where $x$ is the interparticle separation. We will begin by generating some data:"
   ]
  },
  {
   "cell_type": "code",
   "execution_count": 10,
   "id": "d5ea0067",
   "metadata": {},
   "outputs": [
    {
     "data": {
      "image/png": "[encoded data removed]",
      "text/plain": [
       "<Figure size 800x600 with 1 Axes>"
      ]
     },
     "metadata": {},
     "output_type": "display_data"
    }
   ],
   "source": [
    "sim1 = Yukawa_simulation()\n",
    "sim1.simulate(3)\n",
    "sim1.plot()"
   ]
  },
  {
   "cell_type": "markdown",
   "id": "f1d320f2-d4ed-43fa-b4b7-0c01481f723f",
   "metadata": {},
   "source": [
    "Try with sort of a stupid library of coefs that I know will work. Will try with:\n",
    "\n",
    "$\\begin{pmatrix}\n",
    "    \\vert & \\vert & \\vert & \\vert & & \\vert & \\vert \\\\\n",
    "    x & v & \\frac{1}{x}e^{-x} & \\frac{1}{v}e^{-v} & \\dots & \\frac{1}{x^4}e^{-x} & \\frac{1}{v^4}e^{-v} \\\\\n",
    "    \\vert & \\vert & \\vert & \\vert & & \\vert & \\vert\n",
    "\\end{pmatrix}$"
   ]
  },
  {
   "cell_type": "code",
   "execution_count": 11,
   "id": "026013a7",
   "metadata": {},
   "outputs": [
    {
     "name": "stdout",
     "output_type": "stream",
     "text": [
      "(x)' = 1.000 v\n",
      "(v)' = 1.000 exp(-x) / x + 1.000 exp(-x) / x^2\n"
     ]
    }
   ],
   "source": [
    "# Fit SINDy model with custom library:\n",
    "clean_model = fit_Yukawa_model(sim1,hparam=0)\n",
    "clean_model.print()"
   ]
  },
  {
   "cell_type": "code",
   "execution_count": 12,
   "id": "dcfe166d",
   "metadata": {},
   "outputs": [
    {
     "data": {
      "text/plain": [
       "['x',\n",
       " 'v',\n",
       " 'exp(-x) / x',\n",
       " 'exp(-v) / v',\n",
       " 'exp(-x) / x^2',\n",
       " 'exp(-v) / v^2',\n",
       " 'exp(-x) / x^3',\n",
       " 'exp(-v) / v^3',\n",
       " 'exp(-x) / x^4',\n",
       " 'exp(-v) / v^4']"
      ]
     },
     "execution_count": 12,
     "metadata": {},
     "output_type": "execute_result"
    }
   ],
   "source": [
    "clean_model.get_feature_names()"
   ]
  },
  {
   "cell_type": "markdown",
   "id": "b5a2f6b9",
   "metadata": {},
   "source": [
    "Let's find exactly when, as we scan through threshold values, the SINDy model converges to the correct model."
   ]
  },
  {
   "cell_type": "code",
   "execution_count": null,
   "id": "15f209d6",
   "metadata": {},
   "outputs": [],
   "source": [
    "explore_thresholds(sim1, 0.0, 0.3, 0.01, plot=True, verbose=True)"
   ]
  },
  {
   "cell_type": "markdown",
   "id": "4a659dec-f6c8-4e7d-a444-28d2508f105b",
   "metadata": {},
   "source": [
    "Fits perfectly! Now, let's look at the coefficient matrix and complexity as a sanity check."
   ]
  },
  {
   "cell_type": "code",
   "execution_count": null,
   "id": "25f64b4c-f704-4d89-949a-d86b05b0a7ca",
   "metadata": {},
   "outputs": [],
   "source": [
    "clean_model.coefficients().T"
   ]
  },
  {
   "cell_type": "code",
   "execution_count": null,
   "id": "68e88dae",
   "metadata": {},
   "outputs": [],
   "source": [
    "clean_model.complexity"
   ]
  },
  {
   "cell_type": "code",
   "execution_count": null,
   "id": "b52bd9f4",
   "metadata": {},
   "outputs": [],
   "source": [
    "plot_coefs(clean_model)"
   ]
  },
  {
   "cell_type": "markdown",
   "id": "067531d6",
   "metadata": {},
   "source": [
    "Score does not make sense. Need to check on this later."
   ]
  },
  {
   "cell_type": "code",
   "execution_count": null,
   "id": "e8d8de04-2837-4ed6-9938-753013e42050",
   "metadata": {},
   "outputs": [],
   "source": [
    "clean_model.score(sim1.x)"
   ]
  },
  {
   "cell_type": "markdown",
   "id": "043d7a4d",
   "metadata": {},
   "source": [
    "Can also plot the SINDy model predicted derivatives and compare them to the derivatives calculated from data using finite difference."
   ]
  },
  {
   "cell_type": "code",
   "execution_count": null,
   "id": "be077aef",
   "metadata": {},
   "outputs": [],
   "source": [
    "plot_derivatives(sim1,clean_model)"
   ]
  },
  {
   "cell_type": "code",
   "execution_count": null,
   "id": "663cfbc5",
   "metadata": {},
   "outputs": [],
   "source": [
    "explore_thresholds(sim1, 0.0, 0.3, 0.01, plot=True,verbose=False)"
   ]
  },
  {
   "cell_type": "code",
   "execution_count": null,
   "id": "15e76c1f",
   "metadata": {},
   "outputs": [],
   "source": [
    "test_model = fit_Yukawa_model(sim1,hparam=0.01)\n",
    "plot_coefs(test_model,hparam=0.01,)"
   ]
  },
  {
   "cell_type": "markdown",
   "id": "5dcc98bf",
   "metadata": {},
   "source": [
    "### Generating a Pareto Plot"
   ]
  },
  {
   "cell_type": "markdown",
   "id": "febc0803",
   "metadata": {},
   "source": [
    "To cross-validate our model, we can look at another trajectory (different initial conditions) and check if that model does well. To begin, we simulate with initial position of 1, initial velocity of -1."
   ]
  },
  {
   "cell_type": "code",
   "execution_count": null,
   "id": "61a237b0",
   "metadata": {},
   "outputs": [],
   "source": [
    "test_sim = Yukawa_simulation()\n",
    "test_sim.simulate(3, dt=0.001, x0=1, v0=-1)\n",
    "test_sim.plot()"
   ]
  },
  {
   "cell_type": "code",
   "execution_count": null,
   "id": "cf68fa10",
   "metadata": {},
   "outputs": [],
   "source": [
    "plot_pareto(sim1.x,sim1.t,np.arange(0.0,0.1,0.01),test_sim.x,test_sim.t)"
   ]
  },
  {
   "cell_type": "markdown",
   "id": "1db6cb83-40fb-4296-b1aa-558ab97fbace",
   "metadata": {},
   "source": [
    "### Other optimizers"
   ]
  },
  {
   "cell_type": "markdown",
   "id": "be69de3d-9a5f-459b-b5e5-180008146196",
   "metadata": {},
   "source": [
    "#### LASSO"
   ]
  },
  {
   "cell_type": "code",
   "execution_count": null,
   "id": "9dba7f0b-e30c-4cb5-b4f9-8a7aae6e76a6",
   "metadata": {},
   "outputs": [],
   "source": [
    "model_lasso = fit_Yukawa_model(sim1,opt_str='lasso',hparam=0.5)\n",
    "model_lasso.print()\n",
    "\n",
    "plot_derivatives(sim1,model_lasso)"
   ]
  },
  {
   "cell_type": "markdown",
   "id": "a3c4d15c-a38a-4ced-a6df-5e0d44aa57a3",
   "metadata": {},
   "source": [
    "#### SR3"
   ]
  },
  {
   "cell_type": "code",
   "execution_count": null,
   "id": "d4cd61ec-5067-4efc-889e-50d59aaf4919",
   "metadata": {},
   "outputs": [],
   "source": [
    "model_sr3 = fit_Yukawa_model(sim1,opt_str='sr3',hparam=0.1)\n",
    "model_sr3.print()\n",
    "\n",
    "plot_derivatives(sim1,model_sr3)"
   ]
  },
  {
   "cell_type": "code",
   "execution_count": null,
   "id": "5095caf4",
   "metadata": {},
   "outputs": [],
   "source": [
    "del sim1"
   ]
  },
  {
   "cell_type": "markdown",
   "id": "074e1025-626c-413a-bd4a-2ab8c98de2f8",
   "metadata": {},
   "source": [
    "## Noise Robustness\n",
    "\n",
    "Fitting a SINDy model to noisy data"
   ]
  },
  {
   "cell_type": "markdown",
   "id": "663baf0c",
   "metadata": {},
   "source": [
    "We now generate noisy data with the `add_gaussian_noise` attribute of the `Yukawa_simulation` class. We will start a new instance of the class to avoid conflict with the cells above. We can plot the noisy data against the clean data to have a visual representation of it."
   ]
  },
  {
   "cell_type": "markdown",
   "id": "7ff8eaf0",
   "metadata": {},
   "source": [
    "### `std_dev=0.001`"
   ]
  },
  {
   "cell_type": "code",
   "execution_count": 7,
   "id": "bd1a7a60",
   "metadata": {},
   "outputs": [
    {
     "data": {
      "image/png": "[encoded data removed]",
      "text/plain": [
       "<Figure size 800x600 with 1 Axes>"
      ]
     },
     "metadata": {},
     "output_type": "display_data"
    }
   ],
   "source": [
    "sim0001 = Yukawa_simulation()\n",
    "sim0001.simulate(3) # simulate for 3 seconds\n",
    "sim0001.add_gaussian_noise(0.001)\n",
    "sim0001.plot()"
   ]
  },
  {
   "cell_type": "markdown",
   "id": "80a091b3",
   "metadata": {},
   "source": [
    "Check noise level:"
   ]
  },
  {
   "cell_type": "code",
   "execution_count": 8,
   "id": "80d26d11",
   "metadata": {},
   "outputs": [
    {
     "data": {
      "text/plain": [
       "0.001"
      ]
     },
     "execution_count": 8,
     "metadata": {},
     "output_type": "execute_result"
    }
   ],
   "source": [
    "sim0001.noise_level"
   ]
  },
  {
   "cell_type": "markdown",
   "id": "786fef2d",
   "metadata": {},
   "source": [
    "Model with noisy data:"
   ]
  },
  {
   "cell_type": "code",
   "execution_count": null,
   "id": "01bc3bf3",
   "metadata": {},
   "outputs": [
    {
     "data": {
      "image/png": "[encoded data removed]",
      "text/plain": [
       "<Figure size 800x600 with 1 Axes>"
      ]
     },
     "metadata": {},
     "output_type": "display_data"
    },
    {
     "data": {
      "image/png": "[encoded data removed]",
      "text/plain": [
       "<Figure size 1500x1200 with 20 Axes>"
      ]
     },
     "metadata": {},
     "output_type": "display_data"
    }
   ],
   "source": [
    "# fit model and explore different thresholds\n",
    "hparam_space = (0.0,0.6,0.001)\n",
    "explore_thresholds(sim0001, *hparam_space, plot=True, verbose=False)"
   ]
  },
  {
   "cell_type": "code",
   "execution_count": null,
   "id": "8dd75a14",
   "metadata": {},
   "outputs": [],
   "source": [
    "for i in np.arange(0.1, 0.201, 0.001,dtype=np.longdouble):\n",
    "    print('threshold =',np.round(i,3))\n",
    "    fit_Yukawa_model(sim0001,opt_str='stlsq',hparam=i).print()\n",
    "    print('------------------------------')\n",
    "    print('\\n')\n"
   ]
  },
  {
   "cell_type": "markdown",
   "id": "d8d6f52d",
   "metadata": {},
   "source": [
    "### `std_dev=0.003`"
   ]
  },
  {
   "cell_type": "code",
   "execution_count": null,
   "metadata": {},
   "outputs": [],
   "source": [
    "sim0030 = Yukawa_simulation()\n",
    "sim0030.simulate(3) # simulate for 3 seconds\n",
    "sim0030.add_gaussian_noise(0.003)\n",
    "sim0030.plot()"
   ]
  },
  {
   "cell_type": "code",
   "execution_count": null,
   "id": "94bf7d74",
   "metadata": {},
   "outputs": [],
   "source": [
    "latex_feature_names = [\n",
    "    r'$r$',\n",
    "    r'$v$',\n",
    "    r'$\\frac{e^{-r}}{r}$',\n",
    "    r'$\\frac{e^{-v}}{v}$',\n",
    "    r'$\\frac{e^{-r}}{r^2}$',\n",
    "    r'$\\frac{e^{-v}}{v^2}$',\n",
    "    r'$\\frac{e^{-r}}{r^3}$',\n",
    "    r'$\\frac{e^{-v}}{v^3}$',\n",
    "    r'$\\frac{e^{-r}}{r^4}$',\n",
    "    r'$\\frac{e^{-v}}{v^4}$'\n",
    "]\n",
    "hparam_space = (0.0,1.0,0.01)\n",
    "explore_thresholds(sim0030, *hparam_space, plot=True, verbose=False, feature_names=latex_feature_names)"
   ]
  },
  {
   "cell_type": "markdown",
   "id": "ae26283d",
   "metadata": {},
   "source": [
    "something very interesting happening around `hparam=0.3`. It finds the correct *leading terms*, but then gets rid of them and goes to other terms. Let's investigate around this point more."
   ]
  },
  {
   "cell_type": "code",
   "execution_count": null,
   "id": "c410bfc3",
   "metadata": {},
   "outputs": [],
   "source": [
    "hparam_space = (0.2,0.6,0.02)\n",
    "explore_thresholds(sim0030, *hparam_space, plot=True, verbose=False)"
   ]
  },
  {
   "cell_type": "code",
   "execution_count": null,
   "id": "492894cc",
   "metadata": {},
   "outputs": [],
   "source": [
    "test_model = fit_Yukawa_model(sim0030, hparam=0.32)\n",
    "test_model.print()\n",
    "print()\n",
    "test_model2 = fit_Yukawa_model(sim0030, hparam=0.42)\n",
    "test_model2.print()"
   ]
  },
  {
   "cell_type": "markdown",
   "id": "914f3899",
   "metadata": {},
   "source": [
    "Let's compare a model within the local minimum to a model outside of the local minimum with the same number of terms."
   ]
  },
  {
   "cell_type": "code",
   "execution_count": null,
   "id": "85bdd8a1",
   "metadata": {},
   "outputs": [],
   "source": [
    "model0030 = fit_Yukawa_model(sim0030, hparam=0.3)\n",
    "model0030.print()\n",
    "print('\\n')\n",
    "# plot_coefs(model0030,hparam=0.3)\n",
    "model0030 = fit_Yukawa_model(sim0030, hparam=0.8)\n",
    "model0030.print()\n",
    "# plot_coefs(model0030,hparam=0.8)"
   ]
  },
  {
   "cell_type": "code",
   "execution_count": null,
   "id": "077dcebd",
   "metadata": {},
   "outputs": [],
   "source": [
    "for threshold in np.arange(0.2,0.401,0.001):\n",
    "    print('------------------------------')\n",
    "    print('\\n')\n",
    "    print('threshold =',np.round(threshold,3))\n",
    "    fit_Yukawa_model(sim0030,hparam=threshold).print()"
   ]
  },
  {
   "cell_type": "markdown",
   "id": "10f0f1f9",
   "metadata": {},
   "source": [
    "So we see that we have *very* different models. The `hparam=0.3` model correctly identifies the leading terms in the model, and while the `hparam=0.8` has the same number of terms it does not identify the correct leading terms. In other words, even though they have the same complexity, it's almost as if the STLSQ optimizer is converging on the wrong model over the more correct one with higher hyperparameter. Therefore, I believe this is a nonconvex problem--in the optimization, there exist local minima which may or may not identify the true model."
   ]
  },
  {
   "cell_type": "markdown",
   "id": "f527aa72",
   "metadata": {},
   "source": [
    "### `std_dev=0.01`"
   ]
  },
  {
   "cell_type": "code",
   "execution_count": null,
   "id": "827bc9ee",
   "metadata": {},
   "outputs": [],
   "source": [
    "sim0100 = Yukawa_simulation()\n",
    "sim0100.simulate(3)\n",
    "sim0100.add_gaussian_noise(0.01)\n",
    "sim0100.plot()"
   ]
  },
  {
   "cell_type": "code",
   "execution_count": null,
   "id": "f673d6fa",
   "metadata": {},
   "outputs": [],
   "source": [
    "hparam_space = (0.0,1,0.01)\n",
    "explore_thresholds(sim0100, *hparam_space, plot=True, verbose=False)"
   ]
  },
  {
   "cell_type": "markdown",
   "id": "11cd6bdc",
   "metadata": {},
   "source": [
    "Seems to be a local minimum at around `hparam=0.32`. Investigating further:"
   ]
  },
  {
   "cell_type": "code",
   "execution_count": null,
   "id": "b7a3a009",
   "metadata": {},
   "outputs": [],
   "source": [
    "hparam_space = (0.29,0.37,0.001)\n",
    "explore_thresholds(sim0100, *hparam_space, plot=True, verbose=False)"
   ]
  },
  {
   "cell_type": "markdown",
   "id": "38e3a472",
   "metadata": {},
   "source": [
    "Looking at a particular model in this local min,"
   ]
  },
  {
   "cell_type": "code",
   "execution_count": null,
   "id": "8493cfc0",
   "metadata": {},
   "outputs": [],
   "source": [
    "model0010 = fit_Yukawa_model(sim0100, hparam=0.32)\n",
    "model0010.print()\n",
    "plot_coefs(model0010,hparam=0.32)"
   ]
  },
  {
   "cell_type": "markdown",
   "id": "acfd0a3f",
   "metadata": {},
   "source": [
    "These models don't seem special in any particular way, other than the fact that they form a local min on the # vs threshold plot. "
   ]
  },
  {
   "cell_type": "markdown",
   "id": "7a62865d",
   "metadata": {},
   "source": [
    "There is also an interesting point around 0.53 where the correct terms appear in the $\\dot{v}$ equation. Let's look at this some:"
   ]
  },
  {
   "cell_type": "code",
   "execution_count": null,
   "id": "9705235b",
   "metadata": {},
   "outputs": [],
   "source": [
    "hparam_space = (0.5,0.6,0.001)\n",
    "explore_thresholds(sim0100, *hparam_space, plot=True, verbose=False)"
   ]
  },
  {
   "cell_type": "markdown",
   "id": "bf12b8c8",
   "metadata": {},
   "source": [
    "A particular model from this region:"
   ]
  },
  {
   "cell_type": "code",
   "execution_count": null,
   "id": "7970d738",
   "metadata": {},
   "outputs": [],
   "source": [
    "model0010 = fit_Yukawa_model(sim0100, hparam=0.54)\n",
    "model0010.print()"
   ]
  },
  {
   "cell_type": "markdown",
   "id": "27360780",
   "metadata": {},
   "source": [
    "While the $\\dot{v}$ equation has the correct terms here, the $\\dot{x}$ equation is *completely* incorrect."
   ]
  },
  {
   "cell_type": "markdown",
   "id": "ee4f3663",
   "metadata": {},
   "source": [
    "Looking into the threshold values in the range of around 0.60 to 0.80, where the algorithm seems to finally converge:"
   ]
  },
  {
   "cell_type": "code",
   "execution_count": null,
   "id": "7f86edb1",
   "metadata": {},
   "outputs": [],
   "source": [
    "# fine-tuning for finding transition point\n",
    "hparam_space = (0.50,0.80,0.003)\n",
    "explore_thresholds(sim0100, *hparam_space, plot=True, verbose=False)"
   ]
  },
  {
   "cell_type": "markdown",
   "id": "80d6d7c3",
   "metadata": {},
   "source": [
    "Model with correct number of terms:"
   ]
  },
  {
   "cell_type": "code",
   "execution_count": null,
   "id": "59764744",
   "metadata": {},
   "outputs": [],
   "source": [
    "model0010 = fit_Yukawa_model(sim0100, hparam=0.63)\n",
    "model0010.print()"
   ]
  },
  {
   "cell_type": "markdown",
   "id": "bba56e87",
   "metadata": {},
   "source": [
    "Final model:"
   ]
  },
  {
   "cell_type": "code",
   "execution_count": null,
   "id": "a431de5b",
   "metadata": {},
   "outputs": [],
   "source": [
    "model0010 = fit_Yukawa_model(sim0100, hparam=0.75)\n",
    "model0010.print()"
   ]
  },
  {
   "cell_type": "markdown",
   "id": "144d5ded",
   "metadata": {},
   "source": [
    "So, the model finally converges to have the correct *leading terms*, with around `hparam=0.75`. However, the coefficient on the first order rational term is closer to 2 when it should be closer to 1.\n",
    "\n",
    "Interestingly, the models which have the same complexity as the true model (number of terms = 3) do not capture the correct dynamics. Between `hparam=0.70` and `hparam=0.75`, we move from 3 terms to 2, and see an improvement in the model--it finds the correct leading terms at least qualitatively. Investigating this transition further,"
   ]
  },
  {
   "cell_type": "code",
   "execution_count": null,
   "id": "1d4396db",
   "metadata": {},
   "outputs": [],
   "source": [
    "# fine-tuning for finding transition point\n",
    "hparam_space = (0.70,0.75,0.001)\n",
    "explore_thresholds(sim0100, *hparam_space, plot=True, verbose=False)"
   ]
  },
  {
   "cell_type": "markdown",
   "id": "0c2bc133",
   "metadata": {},
   "source": [
    "Aha! moving from 0.70 to 0.71 chops two terms from the $\\dot{x}$ equation, and from 0.73 to 0.74 moves from identifying the wrong leading term to identifying the correct leading term in the $\\dot{v}$ equation."
   ]
  },
  {
   "cell_type": "markdown",
   "id": "c5582d2f",
   "metadata": {},
   "source": [
    "### `std_dev=0.03`"
   ]
  },
  {
   "cell_type": "code",
   "execution_count": null,
   "id": "54d0c603",
   "metadata": {},
   "outputs": [],
   "source": [
    "sim0300 = Yukawa_simulation()\n",
    "sim0300.simulate(3)\n",
    "sim0300.add_gaussian_noise(0.03)\n",
    "sim0300.plot()"
   ]
  },
  {
   "cell_type": "code",
   "execution_count": null,
   "id": "208ccdd8",
   "metadata": {},
   "outputs": [],
   "source": [
    "hparam_space = (0.0,2.0,0.01)\n",
    "explore_thresholds(sim0300, *hparam_space, plot=True, verbose=True)"
   ]
  },
  {
   "cell_type": "markdown",
   "id": "f06c95eb",
   "metadata": {},
   "source": [
    "### `std_dev=0.05`"
   ]
  },
  {
   "cell_type": "code",
   "execution_count": null,
   "id": "4af1ee60",
   "metadata": {},
   "outputs": [],
   "source": [
    "sim0500 = Yukawa_simulation()\n",
    "sim0500.simulate(3)\n",
    "sim0500.add_gaussian_noise(0.05)\n",
    "sim0500.plot()"
   ]
  },
  {
   "cell_type": "code",
   "execution_count": null,
   "id": "e9ddbb9f",
   "metadata": {},
   "outputs": [],
   "source": [
    "hparam_space = (0.0,15.1,0.1)\n",
    "explore_thresholds(sim0500, *hparam_space, plot=True, verbose=True)"
   ]
  },
  {
   "cell_type": "markdown",
   "id": "2048dacf",
   "metadata": {},
   "source": [
    "### `std_dev=0.1`"
   ]
  },
  {
   "cell_type": "code",
   "execution_count": null,
   "id": "d8e7e1fb",
   "metadata": {},
   "outputs": [],
   "source": [
    "sim1000 = Yukawa_simulation()\n",
    "sim1000.simulate(3)\n",
    "sim1000.add_gaussian_noise(noise_level=0.1)\n",
    "sim1000.plot()"
   ]
  },
  {
   "cell_type": "markdown",
   "id": "cee3f834",
   "metadata": {},
   "source": [
    "I forsee that this one will greatly benefit from sub-sampling the data, because it is so noisy.\n",
    "\n",
    "Also, it doesn't seem like this amount of noise is very physical. Do we all mean the same thing when we say \"ten percent noise?\""
   ]
  },
  {
   "cell_type": "code",
   "execution_count": null,
   "id": "cc8187ce",
   "metadata": {},
   "outputs": [],
   "source": [
    "hparam_space = (0.0,16,0.25)\n",
    "explore_thresholds(sim1000, *hparam_space, plot=True, verbose=False)"
   ]
  },
  {
   "cell_type": "code",
   "execution_count": null,
   "id": "17fc6fb9",
   "metadata": {},
   "outputs": [],
   "source": [
    "hparam_space = (0.0,16,2)\n",
    "complexity, hparams = explore_thresholds(sim1000, *hparam_space, plot=True, verbose=False)\n",
    "plot_complexity(complexity, hparams, *hparam_space)"
   ]
  },
  {
   "cell_type": "code",
   "execution_count": null,
   "id": "506273a2",
   "metadata": {},
   "outputs": [],
   "source": [
    "for i, threshold in enumerate(np.arange(12.0,14.1,0.1)):\n",
    "    if i != 0:\n",
    "        print('------------------------------')\n",
    "        print('\\n')\n",
    "    print('threshold =',np.round(threshold,3))\n",
    "    fit_Yukawa_model(sim1000,hparam=threshold).print()"
   ]
  },
  {
   "cell_type": "markdown",
   "id": "b3dd407d",
   "metadata": {},
   "source": [
    "### Cross-validate using different trajectory"
   ]
  },
  {
   "cell_type": "code",
   "execution_count": null,
   "id": "08d8a275",
   "metadata": {},
   "outputs": [],
   "source": [
    "test_sim = Yukawa_simulation()\n",
    "test_sim.simulate(3, dt=0.001, x0=1, v0=-1)\n",
    "test_sim.plot()"
   ]
  },
  {
   "cell_type": "code",
   "execution_count": null,
   "id": "8a8368ea",
   "metadata": {},
   "outputs": [],
   "source": [
    "sim0001.plot()"
   ]
  },
  {
   "cell_type": "code",
   "execution_count": null,
   "id": "a2154497",
   "metadata": {},
   "outputs": [],
   "source": [
    "plot_pareto(sim0001, test_sim, np.arange(0.0,1.1,0.1))"
   ]
  },
  {
   "cell_type": "markdown",
   "id": "0e20706c",
   "metadata": {},
   "source": [
    "### Subsampling"
   ]
  },
  {
   "cell_type": "markdown",
   "id": "f7b4f053",
   "metadata": {},
   "source": [
    "Let's try subsampling the noisy data with 10% noise added to see if the SINDy models improve."
   ]
  },
  {
   "cell_type": "code",
   "execution_count": null,
   "id": "2bfd566e",
   "metadata": {},
   "outputs": [],
   "source": [
    "sim1000.restore_data()"
   ]
  },
  {
   "cell_type": "code",
   "execution_count": null,
   "id": "93b99963",
   "metadata": {},
   "outputs": [],
   "source": [
    "sim1000.subsample(0.1)\n",
    "sim1000.plot()"
   ]
  },
  {
   "cell_type": "code",
   "execution_count": null,
   "id": "8422a7dd",
   "metadata": {},
   "outputs": [],
   "source": [
    "model1000 = fit_Yukawa_model(sim1000, hparam=30)\n",
    "# plot_coefs(model1000)"
   ]
  },
  {
   "cell_type": "code",
   "execution_count": null,
   "id": "555dcf74",
   "metadata": {},
   "outputs": [],
   "source": [
    "hparam_space = hparam_space = (0.0,32,4)\n",
    "complexity_sub, hparams_sub = explore_thresholds(sim1000, *hparam_space, plot=False, verbose=False)\n",
    "# plot_complexity(complexity, hparams, *hparam_space)"
   ]
  },
  {
   "cell_type": "code",
   "execution_count": null,
   "id": "4de52a8f",
   "metadata": {},
   "outputs": [],
   "source": [
    "sim1000.restore_data()\n",
    "complexity_full, hparams_full = explore_thresholds(sim1000, *hparam_space, plot=False, verbose=False)\n",
    "# plot_complexity(complexity, hparams, *hparam_space)"
   ]
  },
  {
   "cell_type": "code",
   "execution_count": null,
   "id": "b244c58a",
   "metadata": {},
   "outputs": [],
   "source": [
    "plt.plot(hparams_sub,complexity_sub,'.', label='subsampled')\n",
    "plt.plot(hparams_full,complexity_full,'.', label='full')\n",
    "plt.legend()\n",
    "plt.xlabel(\"Threshold Value\")\n",
    "plt.ylabel(\"Number of terms\")\n",
    "plt.show()"
   ]
  },
  {
   "cell_type": "code",
   "execution_count": null,
   "id": "1df19d22",
   "metadata": {},
   "outputs": [],
   "source": [
    "model1000 = fit_Yukawa_model(sim1000, hparam=32)\n",
    "plot_coefs(model1000)"
   ]
  },
  {
   "cell_type": "code",
   "execution_count": null,
   "id": "68dee4b0",
   "metadata": {},
   "outputs": [],
   "source": []
  },
  {
   "cell_type": "markdown",
   "id": "1b049e6d",
   "metadata": {},
   "source": [
    "### Noise Figure"
   ]
  },
  {
   "cell_type": "code",
   "execution_count": null,
   "id": "1107e4ee",
   "metadata": {},
   "outputs": [],
   "source": [
    "duration = 3\n",
    "dt = 1e-3\n",
    "num_steps = int(duration/dt)\n",
    "\n",
    "noises = [1e-3, 5e-2, 1e-1]\n",
    "all_noisy_data = np.empty((0,num_steps))\n",
    "for noise in noises:\n",
    "    noisy_sim = Yukawa_simulation()\n",
    "    noisy_sim.simulate(3)\n",
    "    noisy_sim.add_gaussian_noise(noise_level=noise)\n",
    "    all_noisy_data = np.vstack((all_noisy_data, noisy_sim.x.T))\n",
    "\n",
    "# print(all_noisy_data.shape)\n",
    "fig, ax = plt.subplots(1,1)\n",
    "styles = ['k','c','b']\n",
    "for i in range(all_noisy_data.shape[0]-1,0,-2):\n",
    "    ax.plot(noisy_sim.t,all_noisy_data[i],styles[i//2],label=str(noises[i//2]),linewidth=2)\n",
    "    ax.plot(noisy_sim.t,all_noisy_data[i-1],styles[i//2],linewidth=2)\n",
    "    ax.legend()\n",
    "    print(i)\n",
    "    # break\n",
    "ax.set_xlabel(\"Time (s)\")\n",
    "ax.set_ylabel(\"Position and Velocity (arb. u.)\")\n",
    "ax.set_title(\"Data at different noise levels\")\n"
   ]
  },
  {
   "cell_type": "code",
   "execution_count": null,
   "id": "6b29e53e",
   "metadata": {},
   "outputs": [],
   "source": [
    "noises[::2]"
   ]
  },
  {
   "cell_type": "code",
   "execution_count": null,
   "id": "d69d27a3",
   "metadata": {},
   "outputs": [],
   "source": [
    "noisy_sim = Yukawa_simulation()\n",
    "noisy_sim.simulate(3)\n",
    "noisy_sim.add_gaussian_noise(noise_level=noise)\n",
    "# all_noisy_data = np.vstack((all_noisy_data, noisy_sim.x[0]))\n",
    "noisy_sim.x.T[0]"
   ]
  }
 ],
 "metadata": {
  "kernelspec": {
   "display_name": "yukawa-project",
   "language": "python",
   "name": "python3"
  },
  "language_info": {
   "codemirror_mode": {
    "name": "ipython",
    "version": 3
   },
   "file_extension": ".py",
   "mimetype": "text/x-python",
   "name": "python",
   "nbconvert_exporter": "python",
   "pygments_lexer": "ipython3",
   "version": "3.12.7"
  }
 },
 "nbformat": 4,
 "nbformat_minor": 5
}
